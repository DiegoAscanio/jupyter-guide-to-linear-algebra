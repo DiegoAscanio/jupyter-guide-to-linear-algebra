{
 "cells": [
  {
   "cell_type": "markdown",
   "metadata": {},
   "source": [
    "## Orthogonal Subspaces"
   ]
  },
  {
   "cell_type": "markdown",
   "metadata": {},
   "source": [
    "In this section we extend the notion of orthogonality from pairs of vectors to whole vector subspaces.  If $\\mathcal{V}$ and $\\mathcal{W}$ are subspaces of $\\mathbb{R}^n$, we say that $\\mathcal{V}$ and $\\mathcal{W}$ are **orthogonal subspaces** if *every vector* in $\\mathcal{V}$ is orthogonal to *every vector* in $\\mathcal{W}$."
   ]
  },
  {
   "cell_type": "markdown",
   "metadata": {},
   "source": [
    "As an example, let's suppose that $E_1$, $E_2$, $E_3$, and $E_4$ are the standard basis vectors for $\\mathbb{R}^4$\n",
    "\n",
    "$$\n",
    "\\begin{equation}\n",
    "E_1 = \\left[ \\begin{array}{r} 1 \\\\ 0 \\\\ 0 \\\\ 0 \\end{array}\\right] \\hspace{1cm} \n",
    "E_2 = \\left[ \\begin{array}{r} 0 \\\\ 1 \\\\ 0 \\\\ 0 \\end{array}\\right] \\hspace{1cm}\n",
    "E_3 = \\left[ \\begin{array}{r} 0 \\\\ 0 \\\\ 1 \\\\ 0 \\end{array}\\right] \\hspace{1cm}\n",
    "E_4 = \\left[ \\begin{array}{r} 0 \\\\ 0 \\\\ 0 \\\\ 1 \\end{array}\\right] \n",
    "\\end{equation}\n",
    "$$\n",
    "\n",
    "Now let's suppose $\\mathcal{V}$ is the span of $\\{E_1, E_2\\}$, and $\\mathcal{W}$ is the span of $\\{E_4\\}$.  Arbitrary vectors $V$ in $\\mathcal{V}$ and $W$ in $\\mathcal{W}$ have the following forms, and clearly $V\\cdot W = 0$, for any values of $a$, $b$ and $c$.\n",
    "\n",
    "$$\n",
    "\\begin{equation}\n",
    "V = \\left[ \\begin{array}{r} a \\\\ b \\\\ 0 \\\\ 0 \\end{array}\\right] \\hspace{1.5cm} \n",
    "W = \\left[ \\begin{array}{r} 0 \\\\ 0 \\\\ 0 \\\\ c \\end{array}\\right]\n",
    "\\end{equation}\n",
    "$$"
   ]
  },
  {
   "cell_type": "markdown",
   "metadata": {},
   "source": [
    "A closely related idea is that of orthogonal complements.  If $\\mathcal{V}$ is a subspace of $\\mathbb{R}^n$, the **orthogonal complement** of $\\mathcal{V}$ is the set of all vectors in $\\mathbb{R}^n$ that are orthogonal to $\\mathcal{V}$  The orthogonal complement of $\\mathcal{V}$ is also a subspace of $\\mathbb{R}^n$ and is given the symbol $\\mathcal{V}^{\\perp}$.\n",
    "\n",
    "In the previous example, $\\mathcal{V}$ and $\\mathcal{W}$ are not orthogonal complements.  The orthogonal complement of $\\mathcal{V}$ is the span of $\\{E_3, E_4\\}$ and the orthogonal complement of $\\mathcal{W}$ is the span of $\\{E_1, E_2\\}$.\n",
    "\n",
    "If the bases elements are not standard, we can determine if $\\mathcal{V}$ and $\\mathcal{W}$ are orthogonal or orthogonal complements by examining the elements of their bases.  If $\\alpha$ is a basis for $\\mathcal{V}$ and $\\beta$ is a basis for $\\mathcal{W}$, then $\\mathcal{V}$ and $\\mathcal{W}$ are orthogonal if every vector in $\\alpha$ is orthogonal to every vector in $\\beta$.  If every vector in $\\alpha$ is orthogonal to every vector in $\\beta$ *and* the combined set of vectors in $\\alpha$ and $\\beta$ forms a basis for $\\mathbb{R}^n$, then $\\mathcal{V}$ and $\\mathcal{W}$ are orthogonal complements in $\\mathbb{R}^n$.  "
   ]
  },
  {
   "cell_type": "markdown",
   "metadata": {},
   "source": [
    "### Example 1\n",
    "\n",
    "Suppose $\\alpha = \\{V_1, V_2\\}$ is a basis for $\\mathcal{V}$ and $\\beta = \\{W_1, W_2\\}$ is a basis for $\\mathcal{W}$.\n",
    "\n",
    "\n",
    "$$\n",
    "\\begin{equation}\n",
    "V_1 = \\left[ \\begin{array}{r} 2 \\\\ 1 \\\\ 1 \\\\ 0 \\end{array}\\right] \\hspace{1cm} \n",
    "V_2 = \\left[ \\begin{array}{r} 2 \\\\ 3 \\\\ -1 \\\\ 4 \\end{array}\\right] \\hspace{1cm}\n",
    "W_1 = \\left[ \\begin{array}{r} -1 \\\\ 0 \\\\ 2 \\\\ 1 \\end{array}\\right] \\hspace{1cm}\n",
    "W_2 = \\left[ \\begin{array}{r} 1 \\\\ -4 \\\\ 2 \\\\ 3 \\end{array}\\right] \n",
    "\\end{equation}\n",
    "$$\n",
    "\n",
    "To determine if $\\mathcal{V}$ and $\\mathcal{W}$ are orthogonal subspaces, we need to check that each vector in $\\alpha$ is orthogonal to each vector in $\\beta$.  A convenient way to do this is to assemble matrices $A$ and $B$ with these vectors as columns and then compute $A^TB$."
   ]
  },
  {
   "cell_type": "code",
   "execution_count": 9,
   "metadata": {},
   "outputs": [
    {
     "name": "stdout",
     "output_type": "stream",
     "text": [
      "[[ 2  2]\n",
      " [ 1  3]\n",
      " [ 1 -1]\n",
      " [ 0  4]]\n",
      "\n",
      "\n",
      "[[-1  1]\n",
      " [ 0 -4]\n",
      " [ 2  2]\n",
      " [ 1  3]]\n",
      "\n",
      "\n",
      "[[0 0]\n",
      " [0 0]]\n"
     ]
    }
   ],
   "source": [
    "import numpy as np\n",
    "\n",
    "A=np.array([[2, 2],[1, 3],[1, -1],[0, 4]])\n",
    "print(A)\n",
    "print('\\n')\n",
    "B=np.array([[-1, 1],[0, -4],[2, 2],[1, 3]])\n",
    "print(B)\n",
    "print('\\n')\n",
    "print(A.transpose()@B)"
   ]
  },
  {
   "cell_type": "markdown",
   "metadata": {},
   "source": [
    "Since $A^TB$ is the zero matrix, it means that $V_i\\cdot W_j=0$ for all pairs of values $i,j$.  To understand why this implies that *every vector* in $\\mathcal{V}$ is orthogonal to *every vector* in $\\mathcal{W}$, we can express arbitrary vectors in these spaces in terms of the basis elements.  If $V$ and $W$ are arbitrary vectors in $\\mathcal{V}$ and $\\mathcal{W}$ respectively, then $V=a_1V_1 + a_2V_2$ and $W=b_1W_1 + b_2W_2$.  We can then use the properties of the dot product to show that $V\\cdot W =0$.\n",
    "\n",
    "$$\n",
    "\\begin{eqnarray}\n",
    "V\\cdot W & = & (a_1V_1 + a_2V_2) \\cdot (b_1W_1 + b_2W_2) \\\\\n",
    " & = & a_1V_1\\cdot (b_1W_1 + b_2W_2) + a_2V_2 \\cdot (b_1W_1 + b_2W_2) \\\\\n",
    " & = & a_1b_1(V_1\\cdot W_1) + a_1b_2(V_1\\cdot W_2) + a_2b_1(V_2\\cdot W_1) + a_2b_2(V_2\\cdot W_2) \\\\\n",
    " & = & 0\n",
    "\\end{eqnarray}\n",
    "$$"
   ]
  },
  {
   "cell_type": "markdown",
   "metadata": {},
   "source": [
    "### Fundamental Subspaces\n",
    "In Chapter 2 we defined the [column space](Linear_Combinations.ipynb) and the [null space](Linear_Independence.ipynb) of a matrix $A$. In this section, we define the other two subspaces, and show that they are the orthogonal complements of the first two spaces.\n",
    "\n",
    "#### Row Space\n",
    "\n",
    "If $A$ is an $m\\times n$ matrix, the **row space** of $A$ is defined as the span of *rows* of $A$.  Alternatively, we could say that the row space of $A$ is the column space of $A^T$.  The row space of $A$ is a subspace of $\\mathbb{R}^n$, and is the orthogonal complement of $\\mathcal{N}(A)$, the null space of $A$.  Recall that a vector $X$ is in $\\mathcal{N}(A)$ if $AX=0$.  The entries of the vector $AX$ are exactly the values of the dot products of $X$ with each of the rows of $A$.  Since these entries are all zero, $X$ is orthogonal to each row of $A$.    \n",
    "\n",
    "#### Left Null Space\n",
    "\n",
    "The **left null space** of an $m\\times n$ matrix $A$ is the complement of the $\\mathcal{C}(A)$, the column space of $A$ in $\\mathbb{R}^m$.  Since the column space of $A$ is also the row space of $A^T$, it must also be that the orthogonal complement of the column space is the null space of $A^T$.\n",
    "\n",
    "### Example 2\n",
    "\n",
    "Let's demonstrate with an example.\n",
    "\n",
    "$$\n",
    "\\begin{equation}\n",
    "A = \\left[ \\begin{array}{rrrr} 2 & 1 & 2 & 0 \\\\ 3 & 0 & 1 & 1 \\\\ 1 & 1 & 1 & 0 \\end{array}\\right]\n",
    "\\end{equation}\n",
    "$$\n",
    "\n",
    "To find a basis for $\\mathcal{N}(A)$ we need to solve $AX=0$."
   ]
  },
  {
   "cell_type": "code",
   "execution_count": 12,
   "metadata": {},
   "outputs": [
    {
     "name": "stdout",
     "output_type": "stream",
     "text": [
      "[[2 1 2 0]\n",
      " [3 0 1 1]\n",
      " [1 1 1 0]]\n",
      "[[ 1.   0.   0.   0.5]\n",
      " [ 0.   1.   0.   0. ]\n",
      " [ 0.   0.   1.  -0.5]]\n"
     ]
    }
   ],
   "source": [
    "import laguide as lag\n",
    "\n",
    "A = np.array([[2, 1, 2, 0],[3, 0, 1, 1],[1, 1, 1, 0]])\n",
    "print(A)\n",
    "A_reduced = lag.FullRowReduction(A)\n",
    "print(A_reduced)"
   ]
  },
  {
   "cell_type": "markdown",
   "metadata": {},
   "source": [
    "The RREF tells us that in order for $AX=0$, we need $x_1 = -0.5x_4$, $x_2=0$, and $x_3 = 0.5x_4$.  This means that any vector in $\\mathcal{N}(A)$ has the following form.\n",
    "\n",
    "$$\n",
    "\\begin{equation}\n",
    "X = \\left[ \\begin{array}{r} -t \\\\ 0 \\\\ t \\\\ 2t \\end{array}\\right]\n",
    "\\end{equation}\n",
    "$$\n",
    "\n",
    "We can see by multiplication with $A$ that a vector of this form is orthogonal to each row, and thus any vector in the row space."
   ]
  },
  {
   "cell_type": "markdown",
   "metadata": {},
   "source": [
    "### Exercises\n",
    "\n",
    "- Given a basis for $\\mathcal{U}$ in $\\mathbb{R}^5$, find a basis for the orthogonal subspace."
   ]
  },
  {
   "cell_type": "code",
   "execution_count": null,
   "metadata": {},
   "outputs": [],
   "source": []
  }
 ],
 "metadata": {
  "kernelspec": {
   "display_name": "Python 3",
   "language": "python",
   "name": "python3"
  },
  "language_info": {
   "codemirror_mode": {
    "name": "ipython",
    "version": 3
   },
   "file_extension": ".py",
   "mimetype": "text/x-python",
   "name": "python",
   "nbconvert_exporter": "python",
   "pygments_lexer": "ipython3",
   "version": "3.7.3"
  }
 },
 "nbformat": 4,
 "nbformat_minor": 4
}
