{
 "cells": [
  {
   "cell_type": "markdown",
   "metadata": {},
   "source": [
    "## General Linear Systems"
   ]
  },
  {
   "cell_type": "markdown",
   "metadata": {},
   "source": [
    "In this section, we examine the general case of linear systems with $m$ equations and $n$ unknowns.  We can think of the equations as constraints on the solution, and the unknowns as choices we can make to satisfy the constraints.  We list here a categorization of linear systems relative size of $m$ and $n$, and give a typcial example in each case.\n",
    "\n",
    "**Case 1: More unknowns than equations** ($n > m$)\n",
    "\n",
    "In this case we expect that if the system is consistent, we will be able to *choose* values for some of the unknowns, since there are not enough constraints to determine them all uniquely.\n",
    "\n",
    "$$\n",
    "\\begin{eqnarray*}\n",
    "3x_1 - x_2 + x_3 - 6x_4& = & 3\\\\\n",
    "x_1 + 2x_2 + 5x_3 - x_4& = & 0\\\\\n",
    "\\end{eqnarray*}\n",
    "$$\n",
    "\n",
    "\n",
    "**Case 2: More equations than unknowns** ($m > n$)\n",
    "\n",
    "Since there are more constraints than choices, we expect that in general there will not be a solution in this case.  \n",
    "$$\n",
    "\\begin{eqnarray*}\n",
    "3x_1 - 6x_2 & = & 2\\\\\n",
    "x_1 + 2x_2 &= & 8\\\\\n",
    "x_1 - 8x_2 &= & -2\\\\\n",
    "4x_1 - 5x_2 &= & 7\\\\\n",
    "6x_1 + 2x_2 &= & 10\\\\\n",
    "\\end{eqnarray*}\n",
    "$$\n",
    "\n",
    "*Note that there could be a solution in this case if some of the constraints are redundant.*\n",
    "\n",
    "\n",
    "**Case 3: Equal number of equations and unknowns** ($m = n$)\n",
    "\n",
    "When the number of equations and unknowns are equal, we might expect to find a unique solution to the system, but we know from experience that this is not always the case.\n",
    "\n",
    "$$\n",
    "\\begin{eqnarray*}\n",
    "2x_1 - 3x_2 + x_3 & = & 2\\\\\n",
    "x_1 + 2x_2 \\quad\\quad & = & 1\\\\\n",
    "x_1 + 2x_2 - x_3& = & 0\\\\\n",
    "\\end{eqnarray*}\n",
    "$$\n",
    "\n",
    "Even though these three cases appear quite different, the possibilities for solutions are the same for each, no matter the values of $m$ and $n$. For any linear system exactly one of the following statements is true:\n",
    "\n",
    "1. The system has no solutions.  (It is inconsistent.)\n",
    "2. The system has a unique solution.\n",
    "3. The system has an infinite collection of solutions.\n",
    "\n",
    "Furthermore, any of the possibilites can occur for any values of $m$ and $n$ larger than 1.\n",
    "\n",
    "In this section we explain how we can determine the number of solutions that a system has based on the result of row operations on the associated augmented matrix."
   ]
  },
  {
   "cell_type": "markdown",
   "metadata": {},
   "source": [
    "### Reduced Row Echelon Form\n",
    "\n",
    "In the previous chapter we discussed a method for using row operations to reduce a system to simpler system with the same solution.  We will now extend that idea further, using row operations to produce an equivalent system that is simpler still.  To do this we will apply row operations to a matrix until it is in a standard form known as **reduced row echelon form**.\n",
    "\n",
    "A matrix in reduced row echelon form (RREF) has the following properties.\n",
    "- The first nonzero entry in each row is a 1.  These entries are called the **pivots**.\n",
    "- Each pivot is located to the right of the pivots in all rows above it.\n",
    "- The entries above and below each pivot are 0.\n",
    "- Rows that are all zeros are located below other rows. \n",
    "Here are some examples of matrices that are in reduced row echelon form.\n",
    "   \n",
    "   \n",
    "$$\n",
    "\\begin{equation}\n",
    "\\left[ \\begin{array}{cccc} 1 & 0 & 0 & * \\\\ 0 & 1 & 0 & * \\\\ 0 & 0 & 1 & * \\end{array}\\right]\n",
    "\\end{equation}\n",
    "$$\n",
    "\n",
    "\n",
    "   \n",
    "$$\n",
    "\\begin{equation}\n",
    "\\left[ \\begin{array}{ccccc} 1 & 0 & * & 0 & *  \\\\ 0 & 1 & * & 0 & * \n",
    "\\\\ 0 & 0 & 0 & 1 & * \\\\ 0 & 0 & 0 & 0 & 0 \\end{array}\\right]\n",
    "\\end{equation}\n",
    "$$\n",
    "\n",
    "$$\n",
    "\\begin{equation}\n",
    "\\left[ \\begin{array}{cccccc} 1 & * & 0 & 0 & * & * \\\\ 0 & 0 & 1 & 0 & * & * \\\\ 0 & 0 & 0 & 1 & * & * \\end{array}\\right]\n",
    "\\end{equation}\n",
    "$$\n",
    "\n",
    "The difference between RREF and the row echelon form we used earlier is that columns containing pivots area all zero except for the pivot.  It is also imporant to remember that there can be at most one pivot in each row, and at most one pivot in each column.\n",
    "\n",
    "We will make use of the function $\\texttt{FullRowReduction}$ in the $\\texttt{laguide}$ module for the calculations.  Try it out for some matrices made up of random integers.  Experiment by using matrices with different shapes."
   ]
  },
  {
   "cell_type": "code",
   "execution_count": 1,
   "metadata": {},
   "outputs": [
    {
     "name": "stdout",
     "output_type": "stream",
     "text": [
      "[[ 1  1  0 -1 -2]\n",
      " [-2  1 -2  0 -2]\n",
      " [-2  0 -2  2 -2]]\n",
      "\n",
      "\n",
      "[[ 1.0000000e+00  0.0000000e+00  0.0000000e+00  1.0000000e+00\n",
      "  -2.0000000e+00]\n",
      " [ 0.0000000e+00  1.0000000e+00  0.0000000e+00 -2.0000000e+00\n",
      "  -4.4408921e-16]\n",
      " [-0.0000000e+00 -0.0000000e+00  1.0000000e+00 -2.0000000e+00\n",
      "   3.0000000e+00]]\n"
     ]
    }
   ],
   "source": [
    "import numpy as np\n",
    "import laguide as lag\n",
    "\n",
    "C = np.random.randint(-2,3,size=(3,5))\n",
    "C_reduced = lag.FullRowReduction(C)\n",
    "\n",
    "print(C)\n",
    "print('\\n')\n",
    "print(C_reduced)\n"
   ]
  },
  {
   "cell_type": "markdown",
   "metadata": {},
   "source": [
    "### Pivot positions and free variables\n",
    "\n",
    "We first look at how the RREF of the *augmented coefficient matrix* can be used to help us write the solution to a system in the presence of **free variables**.  Free variables are those that are not uniquely determined by the system.\n",
    "\n",
    "$$\n",
    "\\begin{eqnarray*}\n",
    "-2x_1 + 2x_2 - 2x_3 + 2x_4& = & 0\\\\\n",
    "x_1 - 2x_2 -2x_3 \\quad\\quad & = & -1\\\\\n",
    "x_1 \\quad\\quad + 2x_3 -2x_4 & = & 1\n",
    "\\end{eqnarray*}\n",
    "$$\n"
   ]
  },
  {
   "cell_type": "code",
   "execution_count": 75,
   "metadata": {},
   "outputs": [
    {
     "name": "stdout",
     "output_type": "stream",
     "text": [
      "[[ 1.  0.  0. -2.  1.]\n",
      " [ 0.  1.  0. -1.  1.]\n",
      " [-0. -0.  1. -0. -0.]]\n"
     ]
    }
   ],
   "source": [
    "B_augmented = np.array([[-2,2,-2,2,0],[1,-2,-2,0,-1],[1,0,2,-2,1]])\n",
    "B_augmented_reduced = lag.FullRowReduction(B_augmented)\n",
    "print(B_augmented_reduced)"
   ]
  },
  {
   "cell_type": "markdown",
   "metadata": {},
   "source": [
    "Now we look at the system that is represented by the RREF.\n",
    "\n",
    "$$\n",
    "\\begin{eqnarray*}\n",
    "x_1 \\quad\\quad\\quad\\quad -2x_4& = & 1\\\\\n",
    " x_2 \\quad\\quad -x_4 & = & 1\\\\\n",
    "x_3 \\quad\\quad & = & 0\n",
    "\\end{eqnarray*}\n",
    "$$\n",
    "\n",
    "We see that $x_3 = 0$, and the other variables are related to each other through the first two equations.  This means that the value of $x_3$ is uniquely determined by the system, while the values of the other variables are not.  In order to complete a solution we must choose a value for either one of $x_1$, $x_2$, or $x_4$, and then use the first two equations to calculate values for the other two variables.  In order to be systematic, and to make the most efficient use of the RREF, we will always choose the free variables to be those that correspond to the columns in the array that do not contain a pivots.  In this case $x_4$ will be the free variable since the fourth column does not have a pivot.  Now if we choose $x_4 = 2$, we can determine that $x_1=5$ and $x_2 = 3$.\n",
    "\n",
    "We might pause here to consider how to describe *all possible solutions* to this system.  One idea is to assign a parameter to the free variables, say $x_4 = s$, and express the other variables in terms of the parameters.\n",
    "\n",
    "\n",
    "$$\n",
    "\\begin{eqnarray*}\n",
    "x_1 & = & 1 + 2s\\\\\n",
    " x_2  & = & 1 + s\\\\\n",
    "x_3 & = & 0 \\\\\n",
    "x_4 & = & s\n",
    "\\end{eqnarray*}\n",
    "$$\n",
    "\n",
    "The important point in this example is that **a linear system will have an infinite number of solutions if it contains one or more free variables.**  The RREF is so useful because we can tell at a glance if there are free variables.  If any columns are lacking a pivot, there are free variables in the system, which means that the system does not have a unique solution."
   ]
  },
  {
   "cell_type": "markdown",
   "metadata": {},
   "source": [
    "### Pivot positions and inconsistent systems\n",
    "\n",
    "We now turn our attention to the problem of determining if a linear system is consistent.  Again we will look at a specific example and make use of the RREF of the augmented coefficient matrix.\n",
    "\n",
    "$$\n",
    "\\begin{eqnarray*}\n",
    "x_1 - 2x_2 + 2x_3 & = & 0\\\\\n",
    "2x_1 + 2x_2 + 2x_3  & = & 1\\\\\n",
    "-x_2 - x_3 & = & -2 \\\\\n",
    "-2x_1 -x_2 - x_3 & = & 0\n",
    "\\end{eqnarray*}\n",
    "$$\n"
   ]
  },
  {
   "cell_type": "code",
   "execution_count": 17,
   "metadata": {},
   "outputs": [
    {
     "name": "stdout",
     "output_type": "stream",
     "text": [
      "[[ 1.  0.  0.  0.]\n",
      " [ 0.  1.  0.  0.]\n",
      " [ 0.  0.  1.  0.]\n",
      " [-0. -0. -0.  1.]]\n"
     ]
    }
   ],
   "source": [
    "D_augmented = np.array([[1,-2,2,0],[2,2,2,1],[0,-1,-1,-2],[-2,-1,-1,0]])\n",
    "D_augmented_reduced = lag.FullRowReduction(D_augmented)\n",
    "print(D_augmented_reduced)"
   ]
  },
  {
   "cell_type": "markdown",
   "metadata": {},
   "source": [
    "When we write the system represented by the RREF, we see clearly that the system has no solution.  (*Remember that the final column in the augmented coefficient matrix represents the right-hand sides of the equations.*)\n",
    "\n",
    "\n",
    "$$\n",
    "\\begin{eqnarray*}\n",
    "x_1 & = & 0\\\\\n",
    " x_2  & = & 0\\\\\n",
    "x_3 & = & 0 \\\\\n",
    "0 & = & 1\n",
    "\\end{eqnarray*}\n",
    "$$\n",
    "\n",
    "We should be careful in our interpretation the RREF in this case.  We might be tempted to conclude that setting $x_1 = x_2 = x_3 = 0$ satisfies three of the equations, but leaves one equation unsatisfied.  If we look back at the original system though, we can see that this is not the case.\n",
    "\n",
    "Again, we want to draw a connection between pivot positions and our conclusion that the system is inconsistent.  An inconsistency arises if all the coefficients in a particular row are zero, but the right-hand side is nonzero.  In terms of pivots, this means that **a linear system is inconsistent if there is a pivot in the last column of the augmented coefficient matrix**."
   ]
  },
  {
   "cell_type": "markdown",
   "metadata": {},
   "source": [
    "### Pivot positions and system analysis\n",
    "\n",
    "We know give a summary of the solution sets for a system $AX=B$, based on the positions of pivots in the $m\\times(n+1)$ augmented matrix $[A|B]$, which are revealed by computing the RREF.\n",
    "\n",
    "- If $[A|B]$ has a pivot in the last column, the system has no solution.\n",
    "- If any of the first $n$ columns of $[A|B]$ do not have a pivot, the system does not have a unique solution due to the existence of a free variable.\n",
    "- If $[A|B]$ has a pivot in each column *except the last*, then the system has a unique solution.\n"
   ]
  },
  {
   "cell_type": "markdown",
   "metadata": {},
   "source": [
    "### Exercises\n",
    "\n",
    "- Write a function that accepts the augmented matrix for a system and returns the number of free variables in that system. "
   ]
  },
  {
   "cell_type": "code",
   "execution_count": null,
   "metadata": {},
   "outputs": [],
   "source": []
  }
 ],
 "metadata": {
  "kernelspec": {
   "display_name": "Python 3",
   "language": "python",
   "name": "python3"
  },
  "language_info": {
   "codemirror_mode": {
    "name": "ipython",
    "version": 3
   },
   "file_extension": ".py",
   "mimetype": "text/x-python",
   "name": "python",
   "nbconvert_exporter": "python",
   "pygments_lexer": "ipython3",
   "version": "3.7.3"
  }
 },
 "nbformat": 4,
 "nbformat_minor": 4
}
