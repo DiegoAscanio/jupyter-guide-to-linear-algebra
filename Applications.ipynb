{
 "cells": [
  {
   "cell_type": "markdown",
   "metadata": {},
   "source": [
    "## Applications"
   ]
  },
  {
   "cell_type": "code",
   "execution_count": 1,
   "metadata": {},
   "outputs": [],
   "source": [
    "import numpy as np\n",
    "import laguide as lag\n",
    "import hillcipher as hc"
   ]
  },
  {
   "cell_type": "markdown",
   "metadata": {},
   "source": [
    "### Cryptography\n",
    "\n",
    "One of the primary goals of cryptography is to secure communications by encoding messages.  The encoded message is difficult to read by anyone except for the intended recipient, who posseses some secret knowledge that allows them to reverse the process and decode the message.  The original message is known as _plaintext_, and the encoded message is known as _ciphertext_.  We demonstrate here the well-known Hill Ciper, which is a method of transforming plaintext to ciphertext using familiar matrix multiplication.\n",
    "\n",
    "#### Encryption\n",
    "\n",
    "Let's assume that the plaintext and ciphertext will be made up of characters from the same predefined _alphabet_.  This alphabet can contain letters, numbers, punctuation, and any number of other symbols that might be appropriate.  We also need a square invertible matrix $B$, called the encryption matrix.  Given these parameters, we take the following steps to get from plaintext to ciphertext.\n",
    "\n",
    "1. Translate the plaintext from alphabet charaters into a list of numbers.\n",
    "2. Divide the list of numbers into a collection of $N\\times 1$ vectors.  Use these numbers as columns in a plaintext array $P$.\n",
    "3. Apply the cipher by multiplying each vector by the matrix $B$.  This produces a ciphertext array $C=BP$.\n",
    "4. Translate the columns of $C$ back into a string of alphabet characters.\n",
    "\n",
    "In order to get started, we first need a way to exchange a message that includes letters, numbers, and possibly other characters, into to a message that consists of only numbers.  The easiest thing to do is to substitute each possible character in the message for a number.  For example we might let A=1, B=2, C=3, and so on.  In order to make this process less obvious, we might scramble the order of the numbers (A=23, B=5, C=12, ...), or substitute single numbers for common groups of letters (TH=32, EE=20, ING=17, ...).  However we choose to convert our message from text to numbers, there will still be patterns that remain among the numbers due to the natural patterns of the underlying language.  \n",
    "\n",
    "For the purpose of this demonstration, we will make use of a list named $\\texttt{alphabet}$ to convert between letters and numbers.  This list is included in the $\\texttt{hillcipher}$ module, which contains some other functions that we will need.  If we print the list, we can see that it contains a space, a period, a question mark, and all uppercase letters.   "
   ]
  },
  {
   "cell_type": "code",
   "execution_count": 2,
   "metadata": {},
   "outputs": [
    {
     "name": "stdout",
     "output_type": "stream",
     "text": [
      "[' ', '.', '?', 'A', 'B', 'C', 'D', 'E', 'F', 'G', 'H', 'I', 'J', 'K', 'L', 'M', 'N', 'O', 'P', 'Q', 'R', 'S', 'T', 'U', 'V', 'W', 'X', 'Y', 'Z']\n"
     ]
    }
   ],
   "source": [
    "print(hc.alphabet)"
   ]
  },
  {
   "cell_type": "markdown",
   "metadata": {},
   "source": [
    "To find which character goes with which number, we can use the number as an index to the list as usual."
   ]
  },
  {
   "cell_type": "code",
   "execution_count": 3,
   "metadata": {},
   "outputs": [
    {
     "name": "stdout",
     "output_type": "stream",
     "text": [
      "The character ? is associated with the number 2 .\n"
     ]
    }
   ],
   "source": [
    "num = 2\n",
    "char = hc.alphabet[num]\n",
    "print(\"The character\",char,\"is associated with the number\",num,\".\")"
   ]
  },
  {
   "cell_type": "markdown",
   "metadata": {},
   "source": [
    "To find the which the number that is associated with each letter, we need to look up the index for that letter. "
   ]
  },
  {
   "cell_type": "code",
   "execution_count": 4,
   "metadata": {},
   "outputs": [
    {
     "name": "stdout",
     "output_type": "stream",
     "text": [
      "The number 20 is associated with the character R .\n"
     ]
    }
   ],
   "source": [
    "char = 'R'\n",
    "num = hc.alphabet.index(char)\n",
    "print(\"The number\",num,\"is associated with the character\",char,\".\")"
   ]
  },
  {
   "cell_type": "markdown",
   "metadata": {},
   "source": [
    "Note that the code in the first cell will produce an error if we choose an index that is larger than 28, and the code in the second cell will produce an error if we choose a letter that is not in $\\texttt{alphabet}$. \n",
    "\n",
    "To complete this step of the encryption, we write a loop that builds a list of numbers corresponding to each letter in a message and define a NumPy array based on that list."
   ]
  },
  {
   "cell_type": "code",
   "execution_count": 5,
   "metadata": {},
   "outputs": [
    {
     "name": "stdout",
     "output_type": "stream",
     "text": [
      "[25  7  0  6 17 16 22  0 10  3 24  7  0 16 23 15  4  7 20 21  0 11 16  0\n",
      " 17 23 20  0  3 14 18 10  3  4  7 22  1  0  0 25  7  0 10  3 24  7  0 22\n",
      " 17  0 21 18  7 14 14  0 22 25 17  1]\n"
     ]
    }
   ],
   "source": [
    "plaintext = \"WE DONT HAVE NUMBERS IN OUR ALPHABET.  WE HAVE TO SPELL TWO.\"\n",
    "number_message = []\n",
    "    \n",
    "for char in plaintext:\n",
    "    number_message.append(hc.alphabet.index(char))\n",
    "    \n",
    "array_message = np.array(number_message)\n",
    "print(array_message)\n",
    "#print(len(array_message))"
   ]
  },
  {
   "cell_type": "markdown",
   "metadata": {},
   "source": [
    "The next step is to arrange our numerical message into the plaintext array $P$ which must have dimensions compatible with our encryption matrix $B$.  We will choose $B$ to be a $4\\times 4$ matrix for this example.\n",
    "\n",
    "$$\n",
    "\\begin{equation}\n",
    "B = \\left[ \\begin{array}{rrrr} 1 & 0 & -2 & -1 \\\\ 3 & -1 & -3 & 2 \\\\ 2 & 0 & -4 & 4 \\\\ 2 & 1 & -1 & -1 \\end{array}\\right]\n",
    "\\end{equation}\n",
    "$$\n",
    "\n",
    "We now take the plaintext message and break it into chunks which contain 4 numbers each.  (*Note that if the number of characters in our message is not divisible by 4, we can add extra characters at the end.*)  Each chunk will form a column of $P$, and we will have as many columns as needed to accomodate the entire message.  We make use of the $\\texttt{reshape}$ and $\\texttt{transpose}$ methods to manipulate the entries in the array."
   ]
  },
  {
   "cell_type": "code",
   "execution_count": 6,
   "metadata": {},
   "outputs": [
    {
     "name": "stdout",
     "output_type": "stream",
     "text": [
      "[[25 17 10  0  4  0 17  3  3  1  7 24 17  7 22]\n",
      " [ 7 16  3 16  7 11 23 14  4  0  0  7  0 14 25]\n",
      " [ 0 22 24 23 20 16 20 18  7  0 10  0 21 14 17]\n",
      " [ 6  0  7 15 21  0  0 10 22 25  3 22 18  0  1]]\n"
     ]
    }
   ],
   "source": [
    "# Find the number of chucks needed.\n",
    "chunks = int(len(number_message)/4)\n",
    "P = array_message.reshape((chunks,4))\n",
    "P = P.transpose()\n",
    "print(P)"
   ]
  },
  {
   "cell_type": "markdown",
   "metadata": {},
   "source": [
    "The next step is one multiplication multiplication. "
   ]
  },
  {
   "cell_type": "code",
   "execution_count": 7,
   "metadata": {},
   "outputs": [
    {
     "name": "stdout",
     "output_type": "stream",
     "text": [
      "[[ 19 -27 -45 -61 -57 -32 -23 -43 -33 -24 -16   2 -43 -21 -13]\n",
      " [ 80 -31 -31 -55 -13 -59 -32 -39  28  53  -3 109  24 -35  -8]\n",
      " [ 74 -54 -48 -32  12 -64 -46 -26  66 102 -14 136  22 -42 -20]\n",
      " [ 51  28  -8 -22 -26  -5  37  -8 -19 -23   1  33  -5  14  51]]\n"
     ]
    }
   ],
   "source": [
    "B = np.array([[1,0,-2,-1],[3,-1,-3,2],[2,0,-4,4],[2,1,-1,-1]])\n",
    "# Discussion on this here or later?  Maybe later when we talk about modular inverses.\n",
    "#if (hc.CheckEncryptionMatrix(B)):\n",
    "#    print(\"Good to go!\")\n",
    "C = B@P\n",
    "print(C)"
   ]
  },
  {
   "cell_type": "markdown",
   "metadata": {},
   "source": [
    "The final task is to translate the numbers in $C$ back to characters of the alphabet.  This step requires a bit more thought since most of the numbers in $C$ are outside the index range of the alphabet (0-28).  We can let these numbers be associated with letters by letting the count wrap around at 29.  That is, 29 is associated with the same character as 0, 30 is associated with the same character as 1, and so forth.  We can also let -1 be associated with the same character as 28, -2 be associated with the same character as 27, and so forth to address negative numbers.  This concept is known as *congruence* in *modular arithmetic* and is performed using the $\\texttt{%}$ operator in Python.  Try it out!   "
   ]
  },
  {
   "cell_type": "code",
   "execution_count": 8,
   "metadata": {},
   "outputs": [
    {
     "name": "stdout",
     "output_type": "stream",
     "text": [
      "22\n"
     ]
    }
   ],
   "source": [
    "print(80%29)"
   ]
  },
  {
   "cell_type": "markdown",
   "metadata": {},
   "source": [
    "With that detail in place, we can step through the elements of $C$ and generate the final encrypted message from the characters in our alphabet.  "
   ]
  },
  {
   "cell_type": "code",
   "execution_count": 9,
   "metadata": {},
   "outputs": [
    {
     "name": "stdout",
     "output_type": "stream",
     "text": [
      "QTNT?YBZKYHSXAXE.NJAXZUVDXJFMQASWZFHCVMDKXM.?TRBMVTVFUNLNSGT\n"
     ]
    }
   ],
   "source": [
    "# We begin with an empty string and add one character for each entry in C\n",
    "encrypted_message = ''\n",
    "\n",
    "for j in range(C.shape[1]):  # For each column j ...\n",
    "    for i in range(C.shape[0]):  # ... we step through each row i and add a letter for that entry\n",
    "        encrypted_message = encrypted_message + hc.alphabet[C[i,j]%29]\n",
    "        \n",
    "print(encrypted_message)"
   ]
  },
  {
   "cell_type": "markdown",
   "metadata": {},
   "source": [
    "Notice that this last step of the process cannot be reversed.  It is not possible to start with the encrypted message and determine the ciphertext array $C$.  Indeed, there are an infinite number of matrices that could have generated this same encrypted message since any of the entries can be have a multiple of 29 added to it."
   ]
  },
  {
   "cell_type": "markdown",
   "metadata": {},
   "source": [
    "#### Decryption"
   ]
  },
  {
   "cell_type": "markdown",
   "metadata": {},
   "source": [
    "If the encryption matrix is known, the process can be reversed by multiplying by the inverse matrix to get the plaintext array $P = B^{-1}C$.  As we just noted however, we cannot reconstruct $C$ from the encrypted message.  To overcome this difficulty, we need to find the *modular inverse* of the matrix $B$.  That is, we need a matrix $B^{-1}$ such that the entries of $B^{-1}B$ are congruent to the entries of $I$ in the modular arithmetic.  *Note that we use the same symbol for the modular inverse as we do for the usual inverse matrix.\n",
    "\n",
    "The method for finding the modular inverse is beyond our scope, but we will make use of the $\\texttt{ModularInverseMatrix}$ function in the $\\texttt{hillcipher}$ module to calculate $B^{-1}$ for the purpose of demonstration."
   ]
  },
  {
   "cell_type": "code",
   "execution_count": 10,
   "metadata": {},
   "outputs": [
    {
     "name": "stdout",
     "output_type": "stream",
     "text": [
      "[[-300  300 -150  300]\n",
      " [-150 -450  300  450]\n",
      " [-450  150 -150  150]\n",
      " [-300    0  150    0]]\n",
      "[[900   0   0   0]\n",
      " [  0 900   0   0]\n",
      " [  0   0 900   0]\n",
      " [  0   0   0 900]]\n",
      "[[1 0 0 0]\n",
      " [0 1 0 0]\n",
      " [0 0 1 0]\n",
      " [0 0 0 1]]\n"
     ]
    }
   ],
   "source": [
    "B_inv = hc.ModularInverseMatrix(B)\n",
    "print(B_inv)\n",
    "print(B_inv@B)\n",
    "print((B_inv@B)%29)"
   ]
  },
  {
   "cell_type": "markdown",
   "metadata": {},
   "source": [
    "What is important to observe here is that $B^{-1}B$ is not exactly $I$, but is congruent to $I$ if we work out the equivalent number between 0 and 28 for each entry.  To proceed with the decryption, we assemble the encrypted message into an array (we call it $\\texttt{decryptionC}$ to avoid confusion) and multiply by $B^{-1}$. "
   ]
  },
  {
   "cell_type": "code",
   "execution_count": 21,
   "metadata": {},
   "outputs": [
    {
     "name": "stdout",
     "output_type": "stream",
     "text": [
      "[[19  2 13 26  1 26  6 15 25  5 13  2 15  8 16]\n",
      " [22 27 27  3 16 28 26 19 28 24 26 22 24 23 21]\n",
      " [16  4 10 26 12 23 12  3  8 15 15 20 22 16  9]\n",
      " [22 28 21  7  3 24  8 21 10  6  1  4 24 14 22]]\n",
      "\n",
      "\n",
      "[[  5100  15300   9000  -8700   3600   4350   6600   7050   2700   5250\n",
      "    1950   4200   6600   6300   6750]\n",
      " [  1950   1350  -1650   5700  -2400   1200  -5400   -450  -9450  -4350\n",
      "   -8700  -2400   4350   -450    750]\n",
      " [ -4350   6750   -150 -14100    600  -7350    600  -1200  -6750      0\n",
      "   -4050      0  -2850   -450  -2100]\n",
      " [ -3300      0  -2400  -3900   1500  -4350      0  -4050  -6300    750\n",
      "   -1650   2400  -1200      0  -3450]]\n"
     ]
    }
   ],
   "source": [
    "number_of_columns = int(len(encrypted_message)/4)\n",
    "decryptionC = np.zeros((4,number_of_columns),dtype='int')\n",
    "\n",
    "# For each column, we step down the column and fill in with the characters of the encrypted messsage.\n",
    "\n",
    "k = 0\n",
    "for j in range(number_of_columns):  \n",
    "    for i in range(4):\n",
    "        decryptionC[i,j] = hc.alphabet.index(encrypted_message[k])\n",
    "        k += 1\n",
    "\n",
    "decryptionP = B_inv@decryptionC\n",
    "        \n",
    "print(decryptionC)\n",
    "print('\\n')\n",
    "print(decryptionP)"
   ]
  },
  {
   "cell_type": "markdown",
   "metadata": {},
   "source": [
    "Again, multiplication by $B^{-1}$ produces numbers that are outside of the range 0-28, so again we apply modular congruence before translating the numbers back into characters in the alphabet."
   ]
  },
  {
   "cell_type": "code",
   "execution_count": 20,
   "metadata": {},
   "outputs": [
    {
     "name": "stdout",
     "output_type": "stream",
     "text": [
      "WE DONT HAVE NUMBERS IN OUR ALPHABET.  WE HAVE TO SPELL TWO.\n"
     ]
    }
   ],
   "source": [
    "decrypted_message = ''\n",
    "for j in range(number_of_columns):\n",
    "    for i in range(4):\n",
    "        decrypted_message = decrypted_message + hc.alphabet[decryptionP[i,j]%29]\n",
    "\n",
    "print(decrypted_message)"
   ]
  },
  {
   "cell_type": "markdown",
   "metadata": {},
   "source": [
    "#### Exercises\n",
    "\n",
    "The $\\texttt{hillcipher}$ module contains two functions that carry out the same steps we have demonstrated here to encrypt/decrypt a message using the included alphabet.  The following cell shows how they are called."
   ]
  },
  {
   "cell_type": "code",
   "execution_count": 29,
   "metadata": {},
   "outputs": [
    {
     "name": "stdout",
     "output_type": "stream",
     "text": [
      "! is not included in the current alphabet.\n",
      "CSLFXDUSXZ.T U MW.GLJPCUE YZYM?M\n",
      "WE RIDE AT DAWN  MAYBE SOONER.W.\n"
     ]
    }
   ],
   "source": [
    "msg = \"We ride at dawn!  Maybe sooner.\"\n",
    "en_msg = hc.HillCipherEncryption(msg,B)\n",
    "print(en_msg)\n",
    "\n",
    "de_msg = hc.HillCipherDecryption(en_msg,B)\n",
    "print(de_msg)"
   ]
  },
  {
   "cell_type": "markdown",
   "metadata": {},
   "source": [
    "Note that these functions do some error checking of the original message to be sure that all letters are in uppercase, and no characters outside the alphabet are included in the message that gets encrypted.\n",
    "\n",
    "1. Create your own encryption matrix and apply the steps above to encrypt a message of your choosing.  Check the results with those produced by $\\texttt{HillCipherEncryption}$.\n",
    "2. Create your own alphabet list to translate messages into numbers."
   ]
  }
 ],
 "metadata": {
  "kernelspec": {
   "display_name": "Python 3",
   "language": "python",
   "name": "python3"
  },
  "language_info": {
   "codemirror_mode": {
    "name": "ipython",
    "version": 3
   },
   "file_extension": ".py",
   "mimetype": "text/x-python",
   "name": "python",
   "nbconvert_exporter": "python",
   "pygments_lexer": "ipython3",
   "version": "3.7.3"
  }
 },
 "nbformat": 4,
 "nbformat_minor": 4
}
