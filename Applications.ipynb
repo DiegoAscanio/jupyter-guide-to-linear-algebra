{
 "cells": [
  {
   "cell_type": "markdown",
   "metadata": {},
   "source": [
    "## Applications"
   ]
  },
  {
   "cell_type": "code",
   "execution_count": 3,
   "metadata": {},
   "outputs": [],
   "source": [
    "import numpy as np\n",
    "import laguide as lag"
   ]
  },
  {
   "cell_type": "markdown",
   "metadata": {},
   "source": [
    "### Cryptography\n",
    "\n",
    "One of the primary goals of cryptography is to secure communications by encoding messages.  The encoded message is difficult to read by anyone except for the intended recipient, who posseses some secret knowledge that allows them to reverse the process and decode the message.  The original message is known as _plaintext_, and the encoded message is known as _ciphertext_.  We demonstrate here a well-known and straightforward method of transforming plaintext to ciphertext using matrix multiplication.\n",
    "\n",
    "In order to get started, we first need a way to exchange a message that includes letters, numbers, and possibly other characters, into to a message that consists of only numbers.  The easiest thing to do is to substitute each possible character in the message for a number.  For example we might let A=1, B=2, C=3, and so on.  In order to make this process less obvious, we might scramble the order of the numbers (A=23, B=5, C=12, ...), or substitute single numbers for common groups of letters (TH=32, EE=20, ING=17, ...).  However we choose to convert our message from text to numbers, there will still be patterns that remain among the numbers due to the natural patterns of the underlying language.  \n",
    "\n",
    "For the purpose of this demonstration, we will use a standard known as ASCII to make our substitutions.  This standard is already supported in a Python library, and does not require us to type in all of our substitutions.  The only new commands we need are $\\texttt{ord}$, which accepts a single character and returns a number, and $\\texttt{chr}$, which does the opposite.  Give it a try in the following cell.  "
   ]
  },
  {
   "cell_type": "code",
   "execution_count": 12,
   "metadata": {},
   "outputs": [
    {
     "name": "stdout",
     "output_type": "stream",
     "text": [
      "35 is the number that gets substituted for #\n",
      "# is the character that corresponds to  35\n"
     ]
    }
   ],
   "source": [
    "my_character = '#'  # We will find the number substitute for the capital letter L\n",
    "x = ord(my_character)  # x is the number that corresponds to L\n",
    "print(x,\"is the number that gets substituted for\",my_character)\n",
    "print(chr(x),\"is the character that corresponds to \",x)"
   ]
  },
  {
   "cell_type": "markdown",
   "metadata": {},
   "source": [
    "Try changing the $\\texttt{L}$ to another character to see the resulting substitution.  We can also use these functions to find substitutions for punctuation characters such as $\\texttt{'?'}$, or $\\texttt{'#'}$ as well as the empty space character $\\texttt{' '}$.\n",
    "\n",
    "Although this built-in functionality is great, it can only find the substitutions one character at a time.  If we pass $\\texttt{ord}$ more than one character at a time, we will get an error message, but we can use a for loop to step through our message one letter at a time. "
   ]
  },
  {
   "cell_type": "code",
   "execution_count": 21,
   "metadata": {},
   "outputs": [
    {
     "name": "stdout",
     "output_type": "stream",
     "text": [
      "[86, 111, 116, 101, 32, 111, 110, 32, 78, 111, 118, 46, 32, 51, 33, 33]\n",
      "16\n"
     ]
    }
   ],
   "source": [
    "text_message = 'Vote on Nov. 3!!'\n",
    "number_message = []\n",
    "for char in text_message:\n",
    "    number_message.append(ord(char))\n",
    "print(number_message)\n",
    "print(len(number_message))"
   ]
  },
  {
   "cell_type": "markdown",
   "metadata": {},
   "source": [
    "This list of numbers represents the plaintext that we wish to encrypt.  Our method of encryption, *known as a Hill cipher* is multiplication by a square invertible matrix.  Let's choose a $4\\times 4$ matrix for example, and call it $B$.\n",
    "\n",
    "$$\n",
    "\\begin{equation}\n",
    "B = \\left[ \\begin{array}{rrrr} 1 & 0 & -2 & -1 \\\\ 3 & -1 & -3 & 2 \\\\ 2 & 0 & -4 & 4 \\\\ 2 & 1 & -1 & -1 \\end{array}\\right]\n",
    "\\end{equation}\n",
    "$$\n",
    "\n"
   ]
  },
  {
   "cell_type": "markdown",
   "metadata": {},
   "source": [
    "We now take the plaintext message and break it into chunks which contain 4 numbers each.  If the number of characters is not divisible by 4, we can add extra characters at the end that are not actually part of the message.  We put each chunk into a $4\\times 1$ vector and then multiply that vector by $B$ to get the ciphertext for that chunk.  Equivalently, we could take all of the $4\\times 1$ vectors and use them as columns in a matrix $P$ that has 4 rows, and a number of columns equal to the number of chucks.  We then encrypt the whole message at once by multiplying by $B$.  "
   ]
  },
  {
   "cell_type": "code",
   "execution_count": 26,
   "metadata": {},
   "outputs": [
    {
     "name": "stdout",
     "output_type": "stream",
     "text": [
      "[[ 86  32  78  32]\n",
      " [111 111 111  51]\n",
      " [116 110 118  33]\n",
      " [101  32  46  33]]\n"
     ]
    }
   ],
   "source": [
    "P = np.array(number_message)\n",
    "P = P.reshape((4,4))\n",
    "P = P.transpose()\n",
    "print(P)"
   ]
  },
  {
   "cell_type": "code",
   "execution_count": 27,
   "metadata": {},
   "outputs": [
    {
     "name": "stdout",
     "output_type": "stream",
     "text": [
      "[[-247 -220 -204  -67]\n",
      " [   1 -281 -139   12]\n",
      " [ 112 -248 -132   64]\n",
      " [  66   33  103   49]]\n"
     ]
    }
   ],
   "source": [
    "B = np.array([[1,0,-2,-1],[3,-1,-3,2],[2,0,-4,4],[2,1,-1,-1]])\n",
    "C = B@P\n",
    "print(C)"
   ]
  },
  {
   "cell_type": "markdown",
   "metadata": {},
   "source": [
    "All well and good if we are satisfied with using a set of numbers as the ciphertext.  What if we want to use the original alphabet as a substitute for these letters?  The we need to restrict the original alphabet and do arithmetic mod $N$, the size of the alphabet.  Easy enough to find the ciphertext, but then how do we find the inverse mod $N$?\n"
   ]
  },
  {
   "cell_type": "code",
   "execution_count": null,
   "metadata": {},
   "outputs": [],
   "source": []
  }
 ],
 "metadata": {
  "kernelspec": {
   "display_name": "Python 3",
   "language": "python",
   "name": "python3"
  },
  "language_info": {
   "codemirror_mode": {
    "name": "ipython",
    "version": 3
   },
   "file_extension": ".py",
   "mimetype": "text/x-python",
   "name": "python",
   "nbconvert_exporter": "python",
   "pygments_lexer": "ipython3",
   "version": "3.7.3"
  }
 },
 "nbformat": 4,
 "nbformat_minor": 4
}
