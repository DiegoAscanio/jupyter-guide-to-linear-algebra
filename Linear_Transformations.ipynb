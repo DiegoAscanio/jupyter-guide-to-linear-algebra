{
 "cells": [
  {
   "cell_type": "markdown",
   "metadata": {},
   "source": [
    "## Linear Transformations"
   ]
  },
  {
   "cell_type": "markdown",
   "metadata": {},
   "source": [
    "In this chapter the focus shifts from solving linear systems to the use of matrix algebra to represent maps between vector spaces.  We will see that certain class of useful maps called linear transformatons can be described with matrix multiplication.\n",
    "\n",
    "A **mapping** between vector spaces is a rule that associates input vectors with output vectors.  We say that the input vectors get \"mapped\" to the output vectors.  The input and output vectors may be in different spaces, or they may be in the same space.  There maybe multiple input vectors that get mapped to a single output vector, but it is important that each input vector gets mapped to a unique output vector.  In the language of calculus, mappings are known as functions.\n",
    "\n",
    "<font color = red> Image here </font>\n",
    "\n",
    "\n",
    "In order to discuss the details of maps, we have to put in place a bit of notation.  (*The reader familiar with calculus will recognize the notation as that commonly used with functions.*)\n",
    "\n",
    "When we refer to a specific map, we might use a symbol, such as $T$.  In order to specify which spaces contain the input and output vectors, say $\\mathbb{R}^2$ and $\\mathbb{R}^3$, we write $T: \\mathbb{R}^2 \\to \\mathbb{R}^3$.  This notation means that $T$ is a mapping that takes vectors in $\\mathbb{R}^2$ as inputs, and maps them to vectors in $\\mathbb{R}^3$.  When we refer to the output associated with a specific vector, say $V$, we use the notation $T(V)$.  (*This notation is read \"$T$ of $V$\"*).  Finally, if we wish to label the output vector as $W$, we will write $T(V)=W$, meaning that the input vector $V$ gets mapped to the output vector $W$ by the map $T$.  The vector $W$ is said to be the **image** of $V$ under the map $T$."
   ]
  },
  {
   "cell_type": "markdown",
   "metadata": {},
   "source": [
    "### Example 1\n",
    "\n",
    "A Python function that accepts one vector as an argument, and provides on vector in return, is a perfect model of a mapping.  As an example, let's write a function that accepts a vector from $\\mathbb{R}^2$ and returns a vector in $\\mathbb{R}^3$."
   ]
  },
  {
   "cell_type": "code",
   "execution_count": 6,
   "metadata": {},
   "outputs": [
    {
     "name": "stdout",
     "output_type": "stream",
     "text": [
      "[[3]\n",
      " [5]] \n",
      "\n",
      " [[6.]\n",
      " [0.]\n",
      " [5.]]\n"
     ]
    }
   ],
   "source": [
    "import numpy as np\n",
    "\n",
    "def T(V):\n",
    "    W = np.zeros((3,1))\n",
    "    W[0,0] = 2*V[0,0]\n",
    "    W[2,0] = V[1,0]\n",
    "    return W\n",
    "\n",
    "V = np.array([[3],[5]])\n",
    "W = T(V)\n",
    "\n",
    "print(V,'\\n\\n',W)"
   ]
  },
  {
   "cell_type": "markdown",
   "metadata": {},
   "source": [
    "We can describe this mapping $T:\\mathbb{R}^2 \\to \\mathbb{R}^3$ with the following symbolic formula.\n",
    "\n",
    "$$\n",
    "\\begin{equation}\n",
    "T \\left(\\left[\\begin{array}{r} v_1 \\\\ v_2 \\end{array} \\right]\\right) = \n",
    "\\left[\\begin{array}{r} 2v_1 \\\\ 0  \\\\ v_2 \\end{array} \\right]\n",
    "\\end{equation}\n",
    "$$\n",
    "\n"
   ]
  },
  {
   "cell_type": "markdown",
   "metadata": {},
   "source": [
    "### Linearity\n",
    "\n",
    "A map $T$ is said to be *linear* if the following two properties are true for any scalar $k$, and any input vectors $U$ and $V$.  \n",
    "\n",
    "- $T(kV)$ = $kT(V)$\n",
    "- $T(U + V)$ = $T(U) + T(V)$\n",
    "\n",
    "A linear map is referred to as a **linear transformation**."
   ]
  },
  {
   "cell_type": "markdown",
   "metadata": {},
   "source": [
    "The map $T$ in Example 1 is a linear transformation.  \n",
    "\n",
    "$$\n",
    "\\begin{eqnarray*}\n",
    "T(kV)  = T \\left(\\left [\\begin{array}{r} kv_1 \\\\ kv_2 \\end{array} \\right]\\right) & = & \n",
    "\\left[\\begin{array}{r} 2kv_1 \\\\ 0  \\\\ kv_2 \\end{array} \\right] =\n",
    "k\\left[\\begin{array}{r} 2v_1 \\\\ 0  \\\\ v_2 \\end{array} \\right] = kT(V)\\\\ \n",
    "\\\\\n",
    "T(U+V) = T \\left(\\left [\\begin{array}{r} u_1 + v_1 \\\\ u_2 + v_2 \\end{array} \\right]\\right) & = & \n",
    "\\left[\\begin{array}{r} 2u_1 \\\\ 0  \\\\ u_2 \\end{array} \\right] +\n",
    "\\left[\\begin{array}{r} 2v_1 \\\\ 0  \\\\ v_2 \\end{array} \\right] = T(U) + T(V)\n",
    "\\end{eqnarray*}\n",
    "$$\n"
   ]
  },
  {
   "cell_type": "markdown",
   "metadata": {},
   "source": [
    "### Exercises\n",
    "\n",
    "- Find the vector $\\texttt{T(V)}$ where\n",
    "\n",
    "$$\n",
    "\\begin{equation}\n",
    "V = \\left[\\begin{array}{r} 1 \\\\ 3 \\end{array} \\right]\n",
    "\\end{equation}\n",
    "$$\n",
    "\n",
    "- Find the vector $U$ so that \n",
    "\n",
    "$$\n",
    "\\begin{equation}\n",
    "T(U) = \\left[\\begin{array}{r} 5 \\\\ 0 \\\\ -1 \\end{array} \\right]\n",
    "\\end{equation}\n",
    "$$\n"
   ]
  }
 ],
 "metadata": {
  "kernelspec": {
   "display_name": "Python 3",
   "language": "python",
   "name": "python3"
  },
  "language_info": {
   "codemirror_mode": {
    "name": "ipython",
    "version": 3
   },
   "file_extension": ".py",
   "mimetype": "text/x-python",
   "name": "python",
   "nbconvert_exporter": "python",
   "pygments_lexer": "ipython3",
   "version": "3.7.3"
  }
 },
 "nbformat": 4,
 "nbformat_minor": 4
}
