{
 "cells": [
  {
   "cell_type": "markdown",
   "metadata": {},
   "source": [
    "## Orthogonalization"
   ]
  },
  {
   "cell_type": "markdown",
   "metadata": {},
   "source": [
    "Some of the most important applications of inner products involve finding and using sets of vectors that are mutually orthogonal.  A set of nonzero vectors $\\{U_1, U_2, U_3 ... U_n\\}$ is **mutually orthogonal** if $U_i\\cdot U_j = 0$ whenever $i \\neq j$.  If a set of vectors is mutually orthogonal *and* every vector in the set is a unit vector, we say the set is **orthnormal**.  In other words, every vector in an orthonormal set has magnitude one, and is orthogonal to every other vector in the set.  Orthonormal sets must be linearly independent, so it makes sense to think of them as a basis for some vector subspace.  Any collection of vectors from the standard bases of $\\mathbb{R}^n$ are orthonormal sets.  For example, the set of vectors $\\{E_1, E_4, E_5\\}$ from the standard basis of $\\mathbb{R}^5$ forms a orthonormal basis for a subspace of $\\mathbb{R}^5$.\n",
    "\n",
    "\n",
    "$$\n",
    "\\begin{equation}\n",
    "E_1 = \\left[ \\begin{array}{r} 1\\\\0\\\\0\\\\0\\\\0 \\end{array}\\right] \\hspace{0.7cm} \n",
    "E_4 = \\left[ \\begin{array}{r} 0\\\\0\\\\0\\\\1\\\\0 \\end{array}\\right] \\hspace{0.7cm}\n",
    "E_5 = \\left[ \\begin{array}{r} 0\\\\0\\\\0\\\\0\\\\1 \\end{array}\\right] \\hspace{0.7cm}\n",
    "\\end{equation}\n",
    "$$\n",
    "\n",
    "In this section we will focus on a process called orthogonalization.  Given a set of linearly independent vectors  $\\{V_1, V_2, V_3 ... V_n\\}$, we wish to find an orthonormal set of vectors  $\\{U_1, U_2, U_3 ... U_n\\}$ such that the span of  $\\{U_1, U_2, U_3 ... U_n\\}$ is the same as the span of  $\\{V_1, V_2, V_3 ... V_n\\}$.  In other words, we want both sets to bases for the same subspace.\n",
    "\n",
    "One of the primary advantages of using orthonormal bases is that the calculation of [coordinate vectors](Bases.ipynb) is greatly simplified.  Recall that if we have a typical basis $\\beta = \\{V_1, V_2, V_3 ... V_n\\}$ for a subspace $\\mathcal{V}$, and a vector $X$ in $\\mathcal{V}$, the coordinates with respect to $\\beta$ are the values of $c_1$, $c_2$,...,$c_n$ such that\n",
    "$X = c_1V_1 + c_2V_2 + ... c_nV_n$.  This requires that we solve the linear system $A[X]_{\\beta}=X$, where $A$ is the matrix that has the basis vectors as its columns, and $[X]_\\beta$ is the coordinate vector.  If instead we have an orthonormal basis $\\alpha = \\{U_1, U_2, U_3 ... U_n\\}$, there is a convenient shortcut to solving $X = b_1U_1 + b_2U_2 + ... b_nU_n$.  Let's observe the result of taking the dot product of both sides of the equation with $U_k$.\n",
    "\n",
    "$$\n",
    "\\begin{eqnarray}\n",
    "X\\cdot U_k & = & (b_1U_1 + b_2U_2 + ... b_nU_n)\\cdot U_k \\\\\n",
    " & = & b_1(U_1\\cdot U_k) + b_2(U_2\\cdot U_k) + ... b_n(U_n\\cdot U_k) \\\\\n",
    " & = & b_k \n",
    "\\end{eqnarray}\n",
    "$$\n",
    "\n",
    "All of the products $U_i\\cdot U_k$ are zero except for $U_k\\cdot U_k$, which is 1.  This means that instead of solving a system to find the coordinates, we can compute each $b_k$ directly as $X\\cdot U_k$. "
   ]
  },
  {
   "cell_type": "markdown",
   "metadata": {},
   "source": [
    "### Projecting vectors onto vectors\n",
    "\n",
    "An important step in orthogonalization involves decomposing a vector $U$ into orthogonal components based on the direction of another vector $V$.  Specifically, we want to determine two vectors, $U = U_{||}$ and $U_{\\perp}$, such that $U_{||}$ is in the same direction as $V$, $U_{\\perp}$ is orthogonal to $V$, and $U = U_{||} + U_{\\perp}$.    ($U_{||}$ is read \"$U$ parallel\", and $U_{\\perp}$ is read \"$U$ perp\".) "
   ]
  },
  {
   "cell_type": "code",
   "execution_count": 21,
   "metadata": {
    "tags": [
     "hide-input"
    ]
   },
   "outputs": [
    {
     "data": {
      "image/png": "[encoded data removed]",
      "text/plain": [
       "<Figure size 432x288 with 1 Axes>"
      ]
     },
     "metadata": {
      "needs_background": "light"
     },
     "output_type": "display_data"
    }
   ],
   "source": [
    "% matplotlib inline\n",
    "import matplotlib.pyplot as plt\n",
    "\n",
    "fig, ax = plt.subplots()\n",
    "options = {\"head_width\":0.1, \"head_length\":0.2, \"length_includes_head\":True}\n",
    "\n",
    "ax.arrow(0,0,2,3,fc='b',ec='b',**options)\n",
    "ax.arrow(0,0,4,2,fc='b',ec='b',**options)\n",
    "ax.arrow(0,0,2.8,1.4,fc='b',ec='r',**options)\n",
    "ax.arrow(2.8,1.4,-0.8,1.6,fc='b',ec='r',**options)\n",
    "\n",
    "ax.text(1,2,'$U$')\n",
    "ax.text(3.2,1.2,'$V$')\n",
    "ax.text(2,0.6,'$U_{||}$')\n",
    "ax.text(2.5,2.5,'$U_{\\perp}$')\n",
    "ax.text(1,1,'$\\\\theta$')\n",
    "\n",
    "\n",
    "ax.set_xlim(0,5)\n",
    "ax.set_xlabel('$x_1$')\n",
    "ax.set_ylim(0,5)\n",
    "ax.set_ylabel('$x_2$')\n",
    "ax.set_aspect('equal')\n",
    "\n",
    "ax.grid(True,ls=':')"
   ]
  },
  {
   "cell_type": "markdown",
   "metadata": {},
   "source": [
    "$$\n",
    "\\begin{equation}\n",
    "U = U_{||} + U_{\\perp}\n",
    "\\end{equation}\n",
    "$$"
   ]
  },
  {
   "cell_type": "markdown",
   "metadata": {},
   "source": [
    "The vector $U_{||}$ is said to be the **projection** of $U$ in the direction of $V$.\n",
    "\n",
    "To be more precise, requiring that $U_{||}$ is in the direction of $V$ means that $U_{||} = cV$ for some scalar value $c$.  To make the calculation more direct, we could instead require that $U_{||} = k\\hat{V}$ where $\\hat{V}$ is the unit vector in the direction of $V$.  Since $|\\hat{V}|=1$, it must be that $k = |U_{||}|$.  From the definition of $\\cos{\\theta}$ we know that $k = |U|\\cos{\\theta}$.  Finally, we know that $\\cos{\\theta}$ can be determined by the dot product.\n",
    "\n",
    "$$\n",
    "\\begin{equation}\n",
    "\\cos{\\theta} = \\frac{U\\cdot V}{|U||V|}\n",
    "\\end{equation}\n",
    "$$\n",
    "\n",
    "Combining these equations gives us a formula for  $U_{||}$ in terms of $U$ and $V$.\n",
    "\n",
    "\n",
    "$$\n",
    "\\begin{equation}\n",
    "U_{||} = k\\hat{V} = (|U|\\cos{\\theta})\\hat{V} = \\left(\\frac{U\\cdot V}{|V|}\\right)\\hat{V}  = \\left(\\frac{U\\cdot V}{|V|^2}\\right){V}= \\left(\\frac{U\\cdot V}{V\\cdot V}\\right){V}\n",
    "\\end{equation}\n",
    "$$\n"
   ]
  },
  {
   "cell_type": "code",
   "execution_count": 1,
   "metadata": {},
   "outputs": [
    {
     "name": "stdout",
     "output_type": "stream",
     "text": [
      "[[2.8]\n",
      " [1.4]]\n"
     ]
    }
   ],
   "source": [
    "import numpy as np\n",
    "from laguide import DotProduct\n",
    "\n",
    "U = np.array([[2],[3]])\n",
    "V = np.array([[4],[2]])\n",
    "\n",
    "k = DotProduct(U,V)/DotProduct(V,V)\n",
    "\n",
    "U_parallel = k*V\n",
    "\n",
    "print(U_parallel)"
   ]
  },
  {
   "cell_type": "markdown",
   "metadata": {},
   "source": [
    "The easiest way to calculate $U_{\\perp}$ is to first find $U_{||}$, then set $U_{\\perp} = U = U_{||}$."
   ]
  },
  {
   "cell_type": "code",
   "execution_count": 2,
   "metadata": {},
   "outputs": [
    {
     "name": "stdout",
     "output_type": "stream",
     "text": [
      "[[-0.8]\n",
      " [ 1.6]]\n"
     ]
    }
   ],
   "source": [
    "U_perp = U - U_parallel\n",
    "print(U_perp)"
   ]
  },
  {
   "cell_type": "markdown",
   "metadata": {},
   "source": [
    "If the calculations are correct, we should see that $U_{||}$ and $U_{\\perp}$ are orthogonal."
   ]
  },
  {
   "cell_type": "code",
   "execution_count": 3,
   "metadata": {},
   "outputs": [
    {
     "name": "stdout",
     "output_type": "stream",
     "text": [
      "4.440892098500626e-16\n"
     ]
    }
   ],
   "source": [
    "print(DotProduct(U_parallel,U_perp))"
   ]
  },
  {
   "cell_type": "markdown",
   "metadata": {},
   "source": [
    "We see in fact that the computed value of $U_{||}\\cdot U_{\\perp}$ is not *exactly* zero due to the imprecision of the machine arithmetic.  This is very similar to the some of the results we observed when performing elimination numerically, and we must keep in mind the potential for such errors.  \n",
    "\n",
    "We also note that the formula derived here for $U_{||}$ works for for vectors of any dimension.  If $U$ and $V$ are vectors in $\\mathbb{R}^n$, they still occupy a common plane, and the picture still looks just the same regardless of the fact that the plane sits in a higher dimensional space."
   ]
  },
  {
   "cell_type": "markdown",
   "metadata": {},
   "source": [
    "### Gram-Schmidt algorithm\n",
    "\n",
    "Given a set of linearly independent vectors  $\\{V_1, V_2, V_3 ... V_n\\}$, the Gram-Schmidt algorithm produces an orthonormal set of vectors $\\{U_1, U_2, U_3 ... U_n\\}$ such that the span of  $\\{U_1, U_2, U_3 ... U_n\\}$ is the same as the span of  $\\{V_1, V_2, V_3 ... V_n\\}$.  The idea is that we will construct the set of $U$ vectors one at a time by adding in a new $V$ vector to the set after first subtracting the components of $V$ that are in the directions of any $U$ vectors already in the set.  The $U$ vectors can be scaled to unit length as part of the process, or they can all be scaled at the end, after all of the projections have been computed.\n",
    "\n",
    "We write out the individual steps before providing an example.\n",
    "\n",
    "1. $V_1$ is scaled to unit length and becomes $U_1$.\n",
    "2. The projection of $V_2$ in the direction of $U_1$ is subtracted from $V_2$.  This vector is scaled to unit length and becomes $U_2$.\n",
    "3. The projections of $V_3$ in the directions of $U_1$ and $U_2$ are subtracted from $V_3$.  This vector is scaled to unit length and becomes $U_3$.  \n",
    "4. Continue for all $n$ vectors.\n",
    "\n",
    "In general, the projections of $V_k$ in the directions of $U_1$, $U_2$, ...$U_{k-1}$ are subtracted from $V_k$ and the vector that results is scaled to unit length to become $U_k$.  \n"
   ]
  },
  {
   "cell_type": "markdown",
   "metadata": {},
   "source": [
    "### Example 1\n",
    "\n",
    "As a first example, we take three vectors from $\\mathbb{R}^3$ as the starting set, and use Python to carry out the calculations.\n",
    "\n",
    "$$\n",
    "\\begin{equation}\n",
    "V_1 = \\left[ \\begin{array}{r} 1 \\\\ 2 \\\\ 0 \\end{array}\\right] \\hspace{0.7cm} \n",
    "V_2 = \\left[ \\begin{array}{r} 1 \\\\ 1 \\\\ 1 \\end{array}\\right] \\hspace{0.7cm}\n",
    "V_3 = \\left[ \\begin{array}{r} 3 \\\\ 0 \\\\ 1 \\end{array}\\right] \\hspace{0.7cm}\n",
    "\\end{equation}\n",
    "$$\n",
    "\n",
    "The first vector, $V_1$ is scaled to unit legth to become $U_1$"
   ]
  },
  {
   "cell_type": "code",
   "execution_count": 4,
   "metadata": {},
   "outputs": [
    {
     "name": "stdout",
     "output_type": "stream",
     "text": [
      "[[0.4472136 ]\n",
      " [0.89442719]\n",
      " [0.        ]]\n"
     ]
    }
   ],
   "source": [
    "from math import sqrt\n",
    "\n",
    "V_1 = np.array([[1],[2],[0]])\n",
    "V_2 = np.array([[1],[1],[1]])\n",
    "V_3 = np.array([[3],[0],[1]])\n",
    "\n",
    "V_1_length = sqrt(DotProduct(V_1,V_1))\n",
    "U_1 = V_1/V_1_length\n",
    "print(U_1)"
   ]
  },
  {
   "cell_type": "markdown",
   "metadata": {},
   "source": [
    "To build $U_2$, we first subtract from $V_2$ the projection of $V_2$ in the direction of $U_1$ and then scale the result."
   ]
  },
  {
   "cell_type": "code",
   "execution_count": 5,
   "metadata": {},
   "outputs": [
    {
     "name": "stdout",
     "output_type": "stream",
     "text": [
      "[[ 0.36514837]\n",
      " [-0.18257419]\n",
      " [ 0.91287093]]\n"
     ]
    }
   ],
   "source": [
    "W_2 = V_2 - (DotProduct(V_2,U_1))*U_1\n",
    "W_2_length = sqrt(DotProduct(W_2,W_2))\n",
    "U_2 = W_2/W_2_length\n",
    "print(U_2)"
   ]
  },
  {
   "cell_type": "markdown",
   "metadata": {},
   "source": [
    "Here we labeled the intermediate result as $W_2$ in order to break the computation into shorter steps.\n",
    "\n",
    "In the final step, we subtract from $V_3$ the projections of $V_3$ in the directions of $U_1$ and $U_2$, and then scale the result."
   ]
  },
  {
   "cell_type": "code",
   "execution_count": 6,
   "metadata": {},
   "outputs": [
    {
     "name": "stdout",
     "output_type": "stream",
     "text": [
      "[[ 0.81649658]\n",
      " [-0.40824829]\n",
      " [-0.40824829]]\n"
     ]
    }
   ],
   "source": [
    "W_3 = V_3 - (DotProduct(V_3,U_1))*U_1 - (DotProduct(V_3,U_2))*U_2\n",
    "W_3_length = sqrt(DotProduct(W_3,W_3))\n",
    "U_3 = W_3/W_3_length\n",
    "print(U_3)"
   ]
  },
  {
   "cell_type": "markdown",
   "metadata": {},
   "source": [
    "We can check now that the $U$ vectors are mutually orthogonal."
   ]
  },
  {
   "cell_type": "code",
   "execution_count": 11,
   "metadata": {},
   "outputs": [
    {
     "name": "stdout",
     "output_type": "stream",
     "text": [
      "5.551115123125783e-17\n",
      "0.0\n",
      "-5.551115123125783e-17\n"
     ]
    }
   ],
   "source": [
    "print(DotProduct(U_1,U_2))\n",
    "print(DotProduct(U_1,U_3))\n",
    "print(DotProduct(U_2,U_3))"
   ]
  },
  {
   "cell_type": "markdown",
   "metadata": {},
   "source": [
    "After seeing this example, we write down the process in a more formulaic manner.  For each $i = 1, 2, ... n$, we set\n",
    "\n",
    "$W_i = V_i - (V_i \\cdot U_1)U_1 - (V_i\\cdot U_2)U_2 ... - (V_i\\cdot U_{i-1})U_{i-1}$  \n",
    "$U_i = W_i/|W_i|$  \n",
    "\n",
    "It is important to notice here that in general $U_i$ is a linear combination of $\\{V_1, V_2, ..., V_{i}\\}$.  This means that not only is it true that the span of $\\{U_1, U_2, U_3 ... U_n\\}$ is equal to the span of $\\{V_1, V_2, V_3 ..., V_n\\}$, but also it is true that the span of $\\{U_1, U_2, ..., U_i\\}$ is equal to the span of $\\{V_1, V_2, ..., V_i\\}$ at every step of the process.  This has important implications for the application presented in the next section. "
   ]
  },
  {
   "cell_type": "markdown",
   "metadata": {},
   "source": [
    "### Orthogonal matrices\n",
    "\n",
    "Another way we could check that the set of vectors $\\{U_1, U_2, U_3\\}$ is orthonormal is to assemble a matrix with these vectors as the columns and take advantage of the connection between matrix multiplications and dot products.  Suppose that $Q$ is the matrix with $U_1$, $U_2$, and $U_3$ as its columns.  If we compute the matrix product $Q^TQ$, the entries will be the dot products between the rows of $Q^T$ and columns of $Q$, both of which are the set of $U$ vectors."
   ]
  },
  {
   "cell_type": "code",
   "execution_count": 8,
   "metadata": {},
   "outputs": [
    {
     "name": "stdout",
     "output_type": "stream",
     "text": [
      "[[ 0.4472136   0.36514837  0.81649658]\n",
      " [ 0.89442719 -0.18257419 -0.40824829]\n",
      " [ 0.          0.91287093 -0.40824829]]\n",
      "[[ 1.00000000e+00  5.55111512e-17  0.00000000e+00]\n",
      " [ 5.55111512e-17  1.00000000e+00 -5.55111512e-17]\n",
      " [ 0.00000000e+00 -5.55111512e-17  1.00000000e+00]]\n",
      "[[ 1.  0.  0.]\n",
      " [ 0.  1. -0.]\n",
      " [ 0. -0.  1.]]\n"
     ]
    }
   ],
   "source": [
    "Q = np.hstack((U_1,U_2,U_3))\n",
    "print(Q)\n",
    "I = Q.transpose()@Q\n",
    "print(Q.transpose()@Q)\n",
    "print(np.around(I))"
   ]
  },
  {
   "cell_type": "markdown",
   "metadata": {},
   "source": [
    "We see that $U_i\\cdot U_j$ is 0 if $i\\neq j$ and 1 if $i=j$, which means that $Q^TQ$ is the identity matrix $I$.\n",
    "\n",
    "The matrix $Q$ is called an **orthogonal matrix**, which means that its columns form a set of orthonormal vectors.  The immediate result is that if $Q$ is an orthogonal matrix, then $Q^TQ = I$.  In the special case that $Q$ is square, this equation implies that $Q^T = Q^{-1}$."
   ]
  },
  {
   "cell_type": "markdown",
   "metadata": {},
   "source": [
    "### Exercises"
   ]
  },
  {
   "cell_type": "code",
   "execution_count": null,
   "metadata": {},
   "outputs": [],
   "source": []
  }
 ],
 "metadata": {
  "kernelspec": {
   "display_name": "Python 3",
   "language": "python",
   "name": "python3"
  },
  "language_info": {
   "codemirror_mode": {
    "name": "ipython",
    "version": 3
   },
   "file_extension": ".py",
   "mimetype": "text/x-python",
   "name": "python",
   "nbconvert_exporter": "python",
   "pygments_lexer": "ipython3",
   "version": "3.7.3"
  }
 },
 "nbformat": 4,
 "nbformat_minor": 4
}
