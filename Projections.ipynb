{
 "cells": [
  {
   "cell_type": "markdown",
   "metadata": {},
   "source": [
    "## Projections"
   ]
  },
  {
   "cell_type": "markdown",
   "metadata": {},
   "source": [
    "At the start of the chapter, we considered the projection of one vector onto the direction of another, and how to use that projection to decompose the vector into two orthogonal components.  We then considered the higher dimensional analogy of projecting a vector onto a subspace and, using that projection to decompose the vector into orthogonal components.   In this section, we concentrate these concepts, and consider projections as linear transformations which have applications beyond vector decomposition.\n",
    "\n",
    "A linear transformation $T:\\mathbb{R}^n \\to \\mathbb{R}^n$ is a **projection** if $T\\circ T = T$.  The result of applying a projection once is the same as the result of applying it twice.  We can understand the effect of a projection as the collapsing of a vector in $\\mathbb{R}^n$ onto a subspace $\\mathcal{V}$.  Once a vector as been projected onto $\\mathcal{V}$, any further projection onto $\\mathcal{V}$ has no effect.      \n"
   ]
  },
  {
   "cell_type": "markdown",
   "metadata": {},
   "source": [
    "### Example 1\n",
    "\n",
    "We look first at an orthogonal projection onto the $x_1$-axis in $\\mathbb{R}^2$.  This transformation $T:\\mathbb{R}^2\\to\\mathbb{R}^2$ can be defined with the following formula.\n",
    "\n",
    "$$\n",
    "\\begin{equation}\n",
    "T\\left( \\left[ \\begin{array}{r} x \\\\ y \\end{array} \\right]\\right) =\n",
    "\\left[ \\begin{array}{r} x \\\\ 0 \\end{array} \\right]\n",
    "\\end{equation}\n",
    "$$\n",
    "\n",
    "This projection simply carries all vectors onto the $x_1$-axis based on their first entry."
   ]
  },
  {
   "cell_type": "code",
   "execution_count": 37,
   "metadata": {
    "tags": [
     "hide-input"
    ]
   },
   "outputs": [
    {
     "data": {
      "image/png": "[encoded data removed]",
      "text/plain": [
       "<Figure size 432x288 with 1 Axes>"
      ]
     },
     "metadata": {
      "needs_background": "light"
     },
     "output_type": "display_data"
    }
   ],
   "source": [
    "%matplotlib inline\n",
    "import numpy as np\n",
    "import laguide as lag\n",
    "import matplotlib.pyplot as plt\n",
    "\n",
    "x=np.linspace(-6,6,100)\n",
    "\n",
    "fig, ax = plt.subplots()\n",
    "\n",
    "options = {\"head_width\":0.1, \"head_length\":0.2, \"length_includes_head\":True}\n",
    "\n",
    "ax.arrow(0,0,2,4,fc='b',ec='b',**options)\n",
    "ax.arrow(0,0,2,0,fc='r',ec='r',**options)\n",
    "\n",
    "ax.set_xlim(-4,4)\n",
    "ax.set_ylim(-2,6)\n",
    "ax.set_aspect('equal')\n",
    "ax.set_xticks(np.arange(-4,4,step = 1))\n",
    "ax.set_yticks(np.arange(-2,6,step = 1))\n",
    "\n",
    "ax.text(1.5,2,'$X$')\n",
    "ax.text(1.5,-0.8,'$AX$')\n",
    "\n",
    "ax.axvline(color='k',linewidth = 1)\n",
    "ax.axhline(color='k',linewidth = 1)\n",
    "\n",
    "ax.grid(True,ls=':')"
   ]
  },
  {
   "cell_type": "markdown",
   "metadata": {},
   "source": [
    "### Example 2\n",
    "\n",
    "We look first at $P:\\mathbb{R}^2 \\to \\mathbb{R}^2$ defined by $P(X) = AX$ where $A$ is the following matrix.\n",
    "\n",
    "$$\n",
    "\\begin{equation}\n",
    "\\left[\\begin{array}{rr} 3/2 & -3/2 \\\\ 1/2 & -1/2 \\end{array}\\right]\n",
    "\\end{equation}\n",
    "$$\n",
    "\n",
    "To verify that $P$ is indeed a projection, we need to check that $A^2X = AX$ for every $X$ in $\\mathbb{R}^2$.  This will be true if $A^2=A$.\n"
   ]
  },
  {
   "cell_type": "code",
   "execution_count": 25,
   "metadata": {},
   "outputs": [
    {
     "name": "stdout",
     "output_type": "stream",
     "text": [
      "[[ 1.5 -1.5]\n",
      " [ 0.5 -0.5]]\n"
     ]
    }
   ],
   "source": [
    "A = np.array([[1.5, -1.5],[0.5, -0.5]])\n",
    "print(A@A)"
   ]
  },
  {
   "cell_type": "markdown",
   "metadata": {},
   "source": [
    "Now that we know $P$ is a projection, let's consider the effect of $P$ a bit more carefully.  We observe that the second column is a multiple of the first.  This means that $\\mathcal{C}(A)$ is one-dimensional.  Since $A^2=A$, we \n",
    "know that any vector $X$ in the column space will be unchanged by when multiplied by $A$.\n",
    "\n",
    "\n",
    "$$\n",
    "\\begin{equation}\n",
    "AX = \\left[\\begin{array}{rr} 3/2 & -3/2 \\\\ 1/2 & -1/2 \\end{array}\\right]\n",
    "\\left[\\begin{array}{r} 3k \\\\ k \\end{array}\\right] =\n",
    "\\left[\\begin{array}{r} 3k \\\\ k \\end{array}\\right] = X\n",
    "\\end{equation}\n",
    "$$\n",
    "\n",
    "Next, let's observe the effect of $P$ on a vector $X$ that is not in $\\mathcal{C}(A)$\n",
    "\n",
    "$$\n",
    "\\begin{equation}\n",
    "AX = \\left[\\begin{array}{rr} 3/2 & -3/2 \\\\ 1/2 & -1/2 \\end{array}\\right]\n",
    "\\left[\\begin{array}{r} 4 \\\\ 2 \\end{array}\\right] =\n",
    "\\left[\\begin{array}{r} 3 \\\\ 1 \\end{array}\\right] \n",
    "\\end{equation}\n",
    "$$\n",
    "\n"
   ]
  },
  {
   "cell_type": "code",
   "execution_count": 26,
   "metadata": {},
   "outputs": [
    {
     "name": "stdout",
     "output_type": "stream",
     "text": [
      "[[3.]\n",
      " [1.]]\n"
     ]
    }
   ],
   "source": [
    "X = np.array([[1],[-1]])\n",
    "print(A@X)"
   ]
  },
  {
   "cell_type": "code",
   "execution_count": 27,
   "metadata": {
    "tags": [
     "hide-input"
    ]
   },
   "outputs": [
    {
     "data": {
      "image/png": "[encoded data removed]",
      "text/plain": [
       "<Figure size 432x288 with 1 Axes>"
      ]
     },
     "metadata": {
      "needs_background": "light"
     },
     "output_type": "display_data"
    }
   ],
   "source": [
    "fig, ax = plt.subplots()\n",
    "\n",
    "ax.arrow(0,0,2,4,fc='b',ec='b',**options)\n",
    "ax.arrow(0,0,-3,-1,fc='r',ec='r',**options)\n",
    "ax.plot(x,x/3,ls=':')\n",
    "\n",
    "ax.set_xlim(-4,4)\n",
    "ax.set_ylim(-2,6)\n",
    "ax.set_aspect('equal')\n",
    "ax.set_xticks(np.arange(-4,4,step = 1))\n",
    "ax.set_yticks(np.arange(-2,6,step = 1))\n",
    "\n",
    "ax.text(1.5,2,'$X$')\n",
    "ax.text(-1.2,-1,'$AX$')\n",
    "ax.text(4.5,2,'$\\mathcal{C}(A)$')\n",
    "\n",
    "ax.axvline(color='k',linewidth = 1)\n",
    "ax.axhline(color='k',linewidth = 1)\n",
    "\n",
    "ax.grid(True,ls=':')"
   ]
  },
  {
   "cell_type": "markdown",
   "metadata": {},
   "source": [
    "We see of course that $AX$ is in $\\mathcal{C}(A)$, but in contrast to the projections in earlier sections, this projections is not orthogonal.  If we decompose $X$ into components $AX$ and $X-AX$, we see that these components are not orthogonal."
   ]
  },
  {
   "cell_type": "code",
   "execution_count": 28,
   "metadata": {},
   "outputs": [
    {
     "name": "stdout",
     "output_type": "stream",
     "text": [
      "-8.0\n"
     ]
    }
   ],
   "source": [
    "V = A@X\n",
    "W = X-V\n",
    "print(lag.DotProduct(V,W))"
   ]
  },
  {
   "cell_type": "code",
   "execution_count": 33,
   "metadata": {
    "tags": [
     "hide-input"
    ]
   },
   "outputs": [
    {
     "data": {
      "image/png": "[encoded data removed]",
      "text/plain": [
       "<Figure size 432x288 with 1 Axes>"
      ]
     },
     "metadata": {
      "needs_background": "light"
     },
     "output_type": "display_data"
    }
   ],
   "source": [
    "fig, ax = plt.subplots()\n",
    "\n",
    "ax.arrow(0,0,2,4,fc='b',ec='b',**options)\n",
    "ax.arrow(-3,-1,5,5,fc='r',ec='r',**options)\n",
    "ax.arrow(0,0,-3,-1,fc='r',ec='r',**options)\n",
    "ax.plot(x,x/3,ls=':')\n",
    "\n",
    "ax.set_xlim(-4,4)\n",
    "ax.set_ylim(-2,6)\n",
    "ax.set_aspect('equal')\n",
    "ax.set_xticks(np.arange(-4,4,step = 1))\n",
    "ax.set_yticks(np.arange(-2,6,step = 1))\n",
    "\n",
    "ax.text(1.5,2,'$X$')\n",
    "ax.text(-1.2,-1,'$AX$')\n",
    "ax.text(-1.5,2,'$X-AX$')\n",
    "ax.text(4.5,2,'$\\mathcal{C}(A)$')\n",
    "\n",
    "ax.axvline(color='k',linewidth = 1)\n",
    "ax.axhline(color='k',linewidth = 1)\n",
    "\n",
    "ax.grid(True,ls=':')"
   ]
  },
  {
   "cell_type": "markdown",
   "metadata": {},
   "source": [
    "The transformation is projecting onto $\\mathcal{C}(A)$, but *not in the orthogonal direction*.  To reveal the direction of the projection, we look at $\\mathcal{N}(A)$.  \n",
    "\n",
    "$$\n",
    "\\begin{equation}\n",
    "\\mathcal{N}(A) = \\textrm{Span of} \\left\\{ \\left[ \\begin{array}{r} 1 \\\\ 1 \\end{array} \\right]\\right\\}\n",
    "\\end{equation}\n",
    "$$\n",
    "\n",
    "Any vector in $\\mathcal{N}(A)$ is projected to the zero vector.  The key point is that $AX-X$ must be in $\\mathcal{N}(A)$ precisely because $A$ represents a projection and $A^2=A$.\n",
    "\n",
    "$$\n",
    "\\begin{equation}\n",
    "A(AX-X) = A^2X - AX = AX - AX = 0  \n",
    "\\end{equation}\n",
    "$$\n",
    "\n",
    "In general, projections take all vectors onto one subspace, in the direction of another subspace."
   ]
  },
  {
   "cell_type": "code",
   "execution_count": null,
   "metadata": {},
   "outputs": [],
   "source": []
  }
 ],
 "metadata": {
  "celltoolbar": "Tags",
  "kernelspec": {
   "display_name": "Python 3",
   "language": "python",
   "name": "python3"
  },
  "language_info": {
   "codemirror_mode": {
    "name": "ipython",
    "version": 3
   },
   "file_extension": ".py",
   "mimetype": "text/x-python",
   "name": "python",
   "nbconvert_exporter": "python",
   "pygments_lexer": "ipython3",
   "version": "3.7.3"
  }
 },
 "nbformat": 4,
 "nbformat_minor": 4
}
