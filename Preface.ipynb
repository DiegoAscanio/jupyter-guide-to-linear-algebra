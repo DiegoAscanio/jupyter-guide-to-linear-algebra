{
 "cells": [
  {
   "cell_type": "markdown",
   "metadata": {},
   "source": [
    "## Preface\n"
   ]
  },
  {
   "cell_type": "markdown",
   "metadata": {},
   "source": [
    "### Objectives/Scope\n",
    "\n",
    "The LA Guide covers most core topics that would appear in an introductory course on linear algebra, together with some applications.  The guide also provides an introduction to Jupyter notebooks, the portions of Python that are relevant to linear algebra computations, and some general guidance on programming for the purposes of computation.  At the current stage of development, the LA Guide is not intended to be a replacement for a textbook in a traditional university course, although it should prove useful to students in such courses.  The guide may also be useful to those who have some knowledge of Linear Algebra, and wish to learn how to carry out computations in Python, or experienced Python developers that would like to learn a bit about Linear Algebra.\n",
    "\n",
    "Features:\n",
    "\n",
    "- Development of a module to be used along side of LA Guide, or as independently.\n",
    "- Exercises aimed at exploring linear algebra concepts as well as exercises to practice writing Python code.\n",
    "- Instruction on the use of NumPy, SciPy, and Matplotlib.\n",
    "\n"
   ]
  },
  {
   "cell_type": "markdown",
   "metadata": {},
   "source": [
    "### How to use this Guide\n",
    "\n",
    "This work is currently distributed in two forms, either a Jupyter book, or a collection of Jupyter notebooks.  The real purpose of this material is for the reader to engage with the material by experimenting and trying out computations for themselves.  In the case that you are working with the notebooks and have access to a JupyterHub, you are all set to begin.  The Jupyter book form of the LA Guide may found as a pdf or static html site.  If you are reading this on a website, you can download the source notebooks individually by clicking the icon in the upper right.  Alternatively, you can download all source notebooks at URL here.  If you are reading a pdf version, please find the digital version online.  "
   ]
  },
  {
   "cell_type": "markdown",
   "metadata": {},
   "source": [
    "### Level of Formality\n",
    "\n",
    "The LA Guide presents the material in a relatively informal way.  We offer rough explanations instead of proofs and do not follow a traditional model of definitions and theorems."
   ]
  },
  {
   "cell_type": "markdown",
   "metadata": {},
   "source": [
    "### Prerequisites or Corequisites\n",
    "\n",
    "An introductory programming course, or an equivalent programming experience would be useful to the reader.  While we do introduce all of the syntax needed to write successful Python scripts, we do not delve into the details of traditional topics in an introductory programming course (data types, logic, iteration, and complex data structures).  We address the features of Python that we use most frequetly, and provide only brief mentions of those that are tangential to our goals.\n",
    "\n",
    "Some applications make use of Calculus and will be noted.  Full appreciation of these sections will require an introductory Calculus course.\n"
   ]
  },
  {
   "cell_type": "code",
   "execution_count": null,
   "metadata": {},
   "outputs": [],
   "source": []
  }
 ],
 "metadata": {
  "kernelspec": {
   "display_name": "Python 3",
   "language": "python",
   "name": "python3"
  },
  "language_info": {
   "codemirror_mode": {
    "name": "ipython",
    "version": 3
   },
   "file_extension": ".py",
   "mimetype": "text/x-python",
   "name": "python",
   "nbconvert_exporter": "python",
   "pygments_lexer": "ipython3",
   "version": "3.7.3"
  }
 },
 "nbformat": 4,
 "nbformat_minor": 4
}
