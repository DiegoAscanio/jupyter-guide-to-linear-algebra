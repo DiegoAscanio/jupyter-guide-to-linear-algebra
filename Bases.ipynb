{
 "cells": [
  {
   "cell_type": "markdown",
   "metadata": {},
   "source": [
    "## Bases"
   ]
  },
  {
   "cell_type": "markdown",
   "metadata": {},
   "source": [
    "When working with vector spaces, or subspaces, it is often useful to express arbitrary vectors as linear combinations of a set of given vectors known as a basis.  A **basis** for a vector space (or subspace) is a collection of linearly indpendent vectors that span the space.  \n",
    "\n",
    "Given a basis $\\{V_1, V_2, V_3, ... V_n\\}$ for the vector space $\\mathbb{R}^n$, the definition implies that any vector $Y$ in $\\mathbb{R}^n$ can be uniquely expressed as a linear combination of the basis vectors.  That means that the vector equation $c_1V_1 + c_2V_2 + ... c_nV_n = Y$ has a unique solution.  This statement is a result of our earlier conclusions about systems of equations.\n",
    "\n",
    "Let $A$ be the $n\\times 1$ matrix with the basis vectors $V_1$, $V_2$, ... $V_n$ as its columns, and $X$ the vector of weights $c_1$, $c_2$, ... $c_n$.  In order to express $Y$ as a linear combination of the basis vectors, we need to solve the linear system $AX = Y$.  Since the basis vectors span $\\mathbb{R}^n$ we know that the system is consistent for any $Y$ in $\\mathbb{R}^n$.  This implies that $A$ must have a pivot in every row.  The fact that the basis vectors are linearly independent implies that the system must have a unique solution.  This means there can be no free variables in ths system, which means that there must be a pivot in each column.  The RREF of an $n\\times n$ matrix with a pivot in every row and column is the $n\\times n$ identity matrix.   "
   ]
  },
  {
   "cell_type": "markdown",
   "metadata": {},
   "source": [
    "### Example 1:  Basis for $\\mathbb{R}^5$\n",
    "\n",
    "The following set of vectors form a basis for $\\mathbb{R}^5$.\n",
    "\n",
    "\n",
    "$$\n",
    "\\begin{equation}\n",
    "V_1 = \\left[ \\begin{array}{r} -3 \\\\ 3 \\\\ 2 \\\\ -3 \\\\ -2 \\end{array}\\right] \\hspace{0.7cm} \n",
    "V_2 = \\left[ \\begin{array}{r} 3 \\\\ 3 \\\\ 2 \\\\ -1 \\\\ 3  \\end{array}\\right] \\hspace{0.7cm}\n",
    "V_3 = \\left[ \\begin{array}{r} 2 \\\\ 0 \\\\ -2 \\\\ 2 \\\\ 2 \\end{array}\\right] \\hspace{0.7cm}\n",
    "V_4 = \\left[ \\begin{array}{r} -3 \\\\ -1 \\\\ 2 \\\\ -1 \\\\ 3 \\end{array}\\right] \\hspace{0.7cm}\n",
    "V_5 = \\left[ \\begin{array}{r} -2 \\\\ 0 \\\\ -3 \\\\ 3 \\\\ -2 \\end{array}\\right] \n",
    "\\end{equation}\n",
    "$$\n",
    "\n",
    "To verify these vectors form a basis, we need to check that a matrix with these vectors as columns has pivots in each row and column. "
   ]
  },
  {
   "cell_type": "code",
   "execution_count": 1,
   "metadata": {},
   "outputs": [
    {
     "ename": "NameError",
     "evalue": "name 'np' is not defined",
     "output_type": "error",
     "traceback": [
      "\u001b[0;31m---------------------------------------------------------------------------\u001b[0m",
      "\u001b[0;31mNameError\u001b[0m                                 Traceback (most recent call last)",
      "\u001b[0;32m<ipython-input-1-c42448b29e50>\u001b[0m in \u001b[0;36m<module>\u001b[0;34m()\u001b[0m\n\u001b[0;32m----> 1\u001b[0;31m \u001b[0mA\u001b[0m \u001b[0;34m=\u001b[0m \u001b[0mnp\u001b[0m\u001b[0;34m.\u001b[0m\u001b[0marray\u001b[0m\u001b[0;34m(\u001b[0m\u001b[0;34m[\u001b[0m\u001b[0;34m[\u001b[0m\u001b[0;34m-\u001b[0m\u001b[0;36m3\u001b[0m\u001b[0;34m,\u001b[0m\u001b[0;36m3\u001b[0m\u001b[0;34m,\u001b[0m\u001b[0;36m2\u001b[0m\u001b[0;34m,\u001b[0m\u001b[0;34m-\u001b[0m\u001b[0;36m3\u001b[0m\u001b[0;34m,\u001b[0m\u001b[0;34m-\u001b[0m\u001b[0;36m2\u001b[0m\u001b[0;34m]\u001b[0m\u001b[0;34m,\u001b[0m\u001b[0;34m[\u001b[0m\u001b[0;36m3\u001b[0m\u001b[0;34m,\u001b[0m\u001b[0;36m3\u001b[0m\u001b[0;34m,\u001b[0m\u001b[0;36m0\u001b[0m\u001b[0;34m,\u001b[0m\u001b[0;34m-\u001b[0m\u001b[0;36m1\u001b[0m\u001b[0;34m,\u001b[0m\u001b[0;36m0\u001b[0m\u001b[0;34m]\u001b[0m\u001b[0;34m,\u001b[0m\u001b[0;34m[\u001b[0m\u001b[0;36m2\u001b[0m\u001b[0;34m,\u001b[0m\u001b[0;36m2\u001b[0m\u001b[0;34m,\u001b[0m\u001b[0;34m-\u001b[0m\u001b[0;36m2\u001b[0m\u001b[0;34m,\u001b[0m\u001b[0;36m2\u001b[0m\u001b[0;34m,\u001b[0m\u001b[0;34m-\u001b[0m\u001b[0;36m3\u001b[0m\u001b[0;34m]\u001b[0m\u001b[0;34m,\u001b[0m\u001b[0;34m[\u001b[0m\u001b[0;34m-\u001b[0m\u001b[0;36m3\u001b[0m\u001b[0;34m,\u001b[0m\u001b[0;34m-\u001b[0m\u001b[0;36m1\u001b[0m\u001b[0;34m,\u001b[0m\u001b[0;36m2\u001b[0m\u001b[0;34m,\u001b[0m\u001b[0;34m-\u001b[0m\u001b[0;36m1\u001b[0m\u001b[0;34m,\u001b[0m\u001b[0;36m3\u001b[0m\u001b[0;34m]\u001b[0m\u001b[0;34m,\u001b[0m\u001b[0;34m[\u001b[0m\u001b[0;34m-\u001b[0m\u001b[0;36m2\u001b[0m\u001b[0;34m,\u001b[0m\u001b[0;36m3\u001b[0m\u001b[0;34m,\u001b[0m\u001b[0;36m2\u001b[0m\u001b[0;34m,\u001b[0m\u001b[0;36m3\u001b[0m\u001b[0;34m,\u001b[0m\u001b[0;34m-\u001b[0m\u001b[0;36m2\u001b[0m\u001b[0;34m]\u001b[0m\u001b[0;34m]\u001b[0m\u001b[0;34m)\u001b[0m\u001b[0;34m\u001b[0m\u001b[0;34m\u001b[0m\u001b[0m\n\u001b[0m\u001b[1;32m      2\u001b[0m \u001b[0mprint\u001b[0m\u001b[0;34m(\u001b[0m\u001b[0mlag\u001b[0m\u001b[0;34m.\u001b[0m\u001b[0mFullRowReduction\u001b[0m\u001b[0;34m(\u001b[0m\u001b[0mA\u001b[0m\u001b[0;34m)\u001b[0m\u001b[0;34m)\u001b[0m\u001b[0;34m\u001b[0m\u001b[0;34m\u001b[0m\u001b[0m\n",
      "\u001b[0;31mNameError\u001b[0m: name 'np' is not defined"
     ]
    }
   ],
   "source": [
    "A = np.array([[-3,3,2,-3,-2],[3,3,0,-1,0],[2,2,-2,2,-3],[-3,-1,2,-1,3],[-2,3,2,3,-2]])\n",
    "print(lag.FullRowReduction(A))"
   ]
  },
  {
   "cell_type": "markdown",
   "metadata": {},
   "source": [
    "### Example 2: Basis for a subspace of $\\mathbb{R}^3$\n",
    "\n",
    "The following set of vectors forms a basis for the subspace of $\\mathbb{R}^3$ that consists of vectors with middle entry equal to zero.\n",
    "\n",
    "$$\n",
    "\\begin{equation}\n",
    "U_1 = \\left[ \\begin{array}{r} 1 \\\\ 0 \\\\ 2 \\end{array}\\right] \\hspace{1cm} \n",
    "U_2 = \\left[ \\begin{array}{r} 0 \\\\ 0 \\\\ 1 \\end{array}\\right] \n",
    "\\end{equation}\n",
    "$$\n",
    "\n",
    "We need to check that any vector in $\\mathbb{R}^3$ with middle entry equal to zero can be expressed as a linear combination of $U_1$ and $U_2$, and we need to check that $\\{U_1, U_2 \\}$ is a linearly independent set.  We define $A$ as a matrix with $U_1$ and $U_2$ as the columns.\n",
    "\n",
    "\n",
    "$$\n",
    "\\begin{equation}\n",
    "A = \\left[ \\begin{array}{rr} 1 & 0 \\\\ 0 & 0 \\\\ 2 & 1 \\end{array}\\right] \n",
    "\\end{equation}\n",
    "$$\n",
    "\n",
    "To determine if $\\{U_1, U_2\\}$ is linearly independent, we need to find out if the homogeneous system $AX=0$ has any nontrivial solutions.  If both columns of $A$ contain a pivot, there are no nontrivial solutions and the vectors are linearly independent.  Since there are only two columns, it suffices to check that one column is not a scalar multiple of the other, but we will compute the RREF of $A$ for the sake of completeness."
   ]
  },
  {
   "cell_type": "code",
   "execution_count": 12,
   "metadata": {},
   "outputs": [
    {
     "name": "stdout",
     "output_type": "stream",
     "text": [
      "[[1. 0.]\n",
      " [0. 1.]\n",
      " [0. 0.]]\n"
     ]
    }
   ],
   "source": [
    "A = np.array([[1,0],[0,0],[2,1]])\n",
    "print(lag.FullRowReduction(A))"
   ]
  },
  {
   "cell_type": "markdown",
   "metadata": {},
   "source": [
    "To determine if $U_1$ and $U_2$ span the subspace, we need to check if an arbitrary vector $Y$ with middle entry equal to zero can be expressed as a linear combination of the two vectors.  That is, given any values of $y_1$ and $y_3$, can we always find $c_1$ and $c_2$ to solve the vector equation?  \n",
    "\n",
    "$$\n",
    "\\begin{equation}\n",
    "c_1\\left[ \\begin{array}{r} 1 \\\\ 0 \\\\ 2 \\end{array}\\right] +\n",
    "c_2\\left[ \\begin{array}{r} 0 \\\\ 0 \\\\  1 \\end{array}\\right] =\n",
    "\\left[ \\begin{array}{c} y_1 \\\\ 0 \\\\ y_3 \\end{array}\\right] \n",
    "\\end{equation}\n",
    "$$\n",
    "\n",
    "In this example it is clear that we can take $c_1 = y_1$ and $c_2 = y_3 - 2y_1$ by using substitution.  "
   ]
  },
  {
   "cell_type": "markdown",
   "metadata": {},
   "source": [
    "### Example 3: Solution set of a homogeneous system\n",
    "\n",
    "Consider the homogeneous system $AX=0$ where $X$ is a vector in $\\mathbb{R}^4$ and $A$ is the following $2\\times 4$ matrix.\n",
    "\n",
    "$$\n",
    "\\begin{equation}\n",
    "A = \\left[ \\begin{array}{rrrr} 1 & 0 & 3 & -2 \\\\ -2 & 1 & 3 & 0 \\end{array}\\right] \n",
    "\\end{equation}\n",
    "$$"
   ]
  },
  {
   "cell_type": "code",
   "execution_count": 14,
   "metadata": {},
   "outputs": [
    {
     "name": "stdout",
     "output_type": "stream",
     "text": [
      "[[ 1.  0.  3. -2.]\n",
      " [ 0.  1.  9. -4.]]\n"
     ]
    }
   ],
   "source": [
    "A = np.array([[1,0,3,-2],[-2,1,3,0]])\n",
    "print(lag.FullRowReduction(A))"
   ]
  },
  {
   "cell_type": "markdown",
   "metadata": {},
   "source": [
    "In this system, $x_3$ and $_4$ are free variables.  If we set $x_3 = t$, and $x_4=s$, then $x_1 = 2s -3t$ and \n",
    "$x_2 = 4s -9t$.  we can write the components of a general solution vector $X$ in terms of these parameters.\n",
    "\n",
    "$$\n",
    "\\begin{equation}\n",
    "X = \\left[ \\begin{array}{r} x_1 \\\\ x_ 2 \\\\ x_ 3 \\\\ x_4 \\end{array}\\right] =  \n",
    "t\\left[ \\begin{array}{r} -3 \\\\ -9 \\\\  1 \\\\ 0 \\end{array}\\right] +\n",
    "s\\left[ \\begin{array}{r} 2 \\\\ 4 \\\\ 0 \\\\ 1  \\end{array}\\right] \n",
    "\\end{equation}\n",
    "$$\n",
    "\n",
    "In this form we can see that any solution of $AX=B$ must be a linear combination of the vectors $W_1$ and $W_2$ defined as follows.\n",
    "\n",
    "\n",
    "$$\n",
    "\\begin{equation}\n",
    "W_1 = \\left[ \\begin{array}{r} -3 \\\\ -9 \\\\  1 \\\\ 0 \\end{array}\\right] \\hspace{1cm}\n",
    "W_2 = \\left[ \\begin{array}{r} 2 \\\\ 4 \\\\ 0 \\\\ 1  \\end{array}\\right] \n",
    "\\end{equation}\n",
    "$$\n",
    "\n",
    "The set $\\{W_1, W_2\\}$ is linearly independent and forms a basis for the set of solutions to $AX=0$."
   ]
  },
  {
   "cell_type": "markdown",
   "metadata": {},
   "source": [
    "### Exercises\n",
    "\n",
    "- Find a basis for the set of solutions to the system $PX=0$ where $P$ is defined as follows.\n",
    "\n",
    "$$\n",
    "\\begin{equation}\n",
    "A = \\left[ \\begin{array}{rrrr} 1 & 0 & 3 & -2 & 4 \\\\ -1 & 1 & 6 & -2 & 1 \\\\ -2 & 1 & 3 & 0 & -3 \\end{array}\\right] \n",
    "\\end{equation}\n",
    "$$\n",
    "\n",
    "- Determine if the following set of vectors is a basis for $\\mathbb{R}^4$.  Give justification with an appropriate calculation.\n",
    "\n",
    "- Give an example of a set of three vectors that does **not** form a basis for $\\mathbb{R}^3$.  Provide a calculation that shows why the example is not a basis."
   ]
  },
  {
   "cell_type": "markdown",
   "metadata": {},
   "source": [
    "\n",
    "### Dimension"
   ]
  },
  {
   "cell_type": "markdown",
   "metadata": {},
   "source": [
    "We now examine some sets of vectors that do not form bases.  By looking at these non-example we will uncover a concept that is related directly to bases.\n",
    "\n",
    "\n",
    "The following set of vectors is **not** a basis for $\\mathbb{R}^5$.\n",
    "\n",
    "\n",
    "$$\n",
    "\\begin{equation}\n",
    "V_1 = \\left[ \\begin{array}{r} -3 \\\\ 3 \\\\ 2 \\\\ -3 \\\\ -2 \\end{array}\\right] \\hspace{0.7cm} \n",
    "V_2 = \\left[ \\begin{array}{r} 3 \\\\ 3 \\\\ 2 \\\\ -1 \\\\ 3  \\end{array}\\right] \\hspace{0.7cm}\n",
    "V_3 = \\left[ \\begin{array}{r} 2 \\\\ 0 \\\\ -2 \\\\ 2 \\\\ 2 \\end{array}\\right] \\hspace{0.7cm}\n",
    "V_4 = \\left[ \\begin{array}{r} -3 \\\\ -1 \\\\ 2 \\\\ -1 \\\\ 3 \\end{array}\\right] \\hspace{0.7cm}\n",
    "V_5 = \\left[ \\begin{array}{r} -2 \\\\ 0 \\\\ -3 \\\\ 3 \\\\ -2 \\end{array}\\right] \\hspace{0.7cm}\n",
    "V_6 = \\left[ \\begin{array}{r} -1 \\\\ 0 \\\\ 2 \\\\ 2 \\\\ 1 \\end{array}\\right] \n",
    "\\end{equation}\n",
    "$$\n",
    "\n",
    "Although we can assemble a $5\\times 6$ matrix with these vectors as the columns, and compute the RREF as before, we should expect to find that the matrix does not have a pivot in each column due to its shape.  Recall that each row can have at most one pivot, which means that the matrix has at most 5 pivots.  Since there are 6 columns, one of the columns does not have a pivot.  This shows that the set of vectors is linearly dependent, and thus not a basis."
   ]
  },
  {
   "cell_type": "code",
   "execution_count": 10,
   "metadata": {},
   "outputs": [
    {
     "name": "stdout",
     "output_type": "stream",
     "text": [
      "[[ 1.   0.   0.   0.   0.  -1.6]\n",
      " [ 0.   1.   0.   0.   0.   1.8]\n",
      " [ 0.   0.   1.   0.   0.  -2.9]\n",
      " [ 0.   0.   0.   1.   0.   0.6]\n",
      " [ 0.   0.   0.   0.   1.   1.8]]\n"
     ]
    }
   ],
   "source": [
    "B = np.array([[-3,3,2,-3,-2,-1],[3,3,0,-1,0,0],[2,2,-2,2,-3,2],[-3,-1,2,-1,3,2],[-2,3,2,3,-2,1]])\n",
    "print(lag.FullRowReduction(B))"
   ]
  },
  {
   "cell_type": "markdown",
   "metadata": {},
   "source": [
    "The following set of vectors is **not** a basis for $\\mathbb{R}^5$.\n",
    "\n",
    "\n",
    "$$\n",
    "\\begin{equation}\n",
    "V_1 = \\left[ \\begin{array}{r} -3 \\\\ 3 \\\\ 2 \\\\ -3 \\\\ -2 \\end{array}\\right] \\hspace{0.7cm} \n",
    "V_2 = \\left[ \\begin{array}{r} 3 \\\\ 3 \\\\ 2 \\\\ -1 \\\\ 3  \\end{array}\\right] \\hspace{0.7cm}\n",
    "V_3 = \\left[ \\begin{array}{r} 2 \\\\ 0 \\\\ -2 \\\\ 2 \\\\ 2 \\end{array}\\right] \\hspace{0.7cm}\n",
    "V_4 = \\left[ \\begin{array}{r} -3 \\\\ -1 \\\\ 2 \\\\ -1 \\\\ 3 \\end{array}\\right] \\hspace{0.7cm}\n",
    "\\end{equation}\n",
    "$$\n",
    "\n",
    "The matrix made up of these column vectors has 5 rows and 4 columns.  There are at most 4 pivots since each column can contain no more than 1 pivot.  This means that there is at least one zero row in the RREF, which implies that the system $AX = B$ is not consistent for every $B$ in $\\mathbb{R}^5$."
   ]
  },
  {
   "cell_type": "code",
   "execution_count": 15,
   "metadata": {},
   "outputs": [
    {
     "name": "stdout",
     "output_type": "stream",
     "text": [
      "[[1. 0. 0. 0.]\n",
      " [0. 1. 0. 0.]\n",
      " [0. 0. 1. 0.]\n",
      " [0. 0. 0. 1.]\n",
      " [0. 0. 0. 0.]]\n"
     ]
    }
   ],
   "source": [
    "B = np.array([[-3,3,2,-3],[3,3,0,-1],[2,2,-2,2],[-3,-1,2,-1],[-2,3,2,3]])\n",
    "print(lag.FullRowReduction(B))"
   ]
  },
  {
   "cell_type": "markdown",
   "metadata": {},
   "source": [
    "These two examples illustrate why any set of vectors that does not contain exactly five vectors cannot be a basis for $\\mathbb{R}^5$.  We might suspect that exactly five vectors are needed because the space is five-dimensional, and this is almost correct.  It is more accurate to say that $\\mathbb{R}^5$ is five-dimensional *because a basis for the space must have five vectors*.  The **dimension** of a vector space (or subspace) is defined as the number of vectors in any basis for the space."
   ]
  },
  {
   "cell_type": "markdown",
   "metadata": {},
   "source": [
    "### Exercise\n",
    "\n",
    "- Calculate the dimension of a span of given vectors $V_1, V_2, V_3, V_4$."
   ]
  },
  {
   "cell_type": "markdown",
   "metadata": {},
   "source": [
    "### Coordinates\n",
    "\n",
    "In order to discuss the concept of coordinates, it is useful to label the bases that under discussion.  We will opt to use greek letters for these labels in order to keep the notation for bases distinct.  Suppose then we are given a basis $\\beta = \\{V_1, V_2, V_3, ... V_n\\}$ and a vector $X=c_1V_1 + c_2V_2 + ... c_nV_n$.  The weights $c_1$, $c_2$, ... $c_n$ are called the **coordinates** of X with respect to the basis $\\beta$.  It is only natural to collect these weights into an array.  Despite potential confusion, this array is referred to as the coordinate vector."
   ]
  },
  {
   "cell_type": "markdown",
   "metadata": {},
   "source": [
    "### Exercises"
   ]
  },
  {
   "cell_type": "code",
   "execution_count": null,
   "metadata": {},
   "outputs": [],
   "source": []
  }
 ],
 "metadata": {
  "kernelspec": {
   "display_name": "Python 3",
   "language": "python",
   "name": "python3"
  },
  "language_info": {
   "codemirror_mode": {
    "name": "ipython",
    "version": 3
   },
   "file_extension": ".py",
   "mimetype": "text/x-python",
   "name": "python",
   "nbconvert_exporter": "python",
   "pygments_lexer": "ipython3",
   "version": "3.7.3"
  }
 },
 "nbformat": 4,
 "nbformat_minor": 4
}
