{
 "cells": [
  {
   "cell_type": "markdown",
   "metadata": {},
   "source": [
    "## Matrix Representations"
   ]
  },
  {
   "cell_type": "markdown",
   "metadata": {},
   "source": [
    "A key connection between linear transformations and matrix algebra is the fact that every linear transformation can be carried out by matrix multiplication.  It is natural then to associate the matrix with the linear transformation in some way.  Conversely, when carrying out matrix multiplication, it is quite natural to consider the associated linear transformation that it represents.  In this way, matrix multiplication can be viewed as a means of mapping vectors in one space to vectors in another. "
   ]
  },
  {
   "cell_type": "markdown",
   "metadata": {},
   "source": [
    "Instead of tackling the most general case of finding matrix representations, let's first consider a linear transformation from $\\mathbb{R}^n$ to $\\mathbb{R}^m$.  The defining properties of linear transformations imply that a transformation can be described just be specifying the images (output) of each element in a basis for $\\mathbb{R}^n$.  Suppose that $T$ is our transformation, $\\beta = \\{V_1, V_2,..., V_n\\}$ is a basis for $\\mathbb{R}^n$, and we know the images $T(V_1)$, $T(V_2)$, ..., $T(V_n)$.  This is the only information we need to work out $T(X)$ for an arbitrary $X$ in $\\mathbb{R}^n$.  First we express $X$ in terms of the basis, $X = c_1V_1 + c_2V_2 + ... c_nV_n$, then use the linearity of the transformation.\n",
    "\n",
    "$$\n",
    "\\begin{equation}\n",
    "T(X) = T(c_1V_1 + c_2V_2 + ... c_nV_n) = c_1T(V_1) + c_2T(V_2) + ... c_nT(V_n)\n",
    "\\end{equation}\n",
    "$$\n",
    "\n",
    "In order to make the connection to matrices, we must recognize that the right-hand side of this equation can be expressed as a matrix-vector multiplication.  The columns of the matrix are the images of the basis vectors, and the vector is the coordinate vector of $X$ *with respect to the basis* $\\beta$.\n",
    "\n",
    "$$\n",
    "\\begin{equation}\n",
    "T(X) =  c_1T(V_1) + c_2T(V_2) + ... c_nT(V_n) = \\left[ \\begin{array}{c|c|c|c} & & & \\\\\n",
    "T(V_1) & T(V_2) & ... & T(V_n) \\\\ & & & \\end{array} \\right]\n",
    "\\left[ \\begin{array}{c} c_1 \\\\ c_2 \\\\ \\vdots \\\\ c_n \\end{array} \\right]\n",
    "\\end{equation}\n",
    "$$\n",
    "\n",
    "The matrix that represents the linear transformation thus depends on the basis that we choose to describe $\\mathbb{R}^n$, which means that each choice of basis will give a different matrix.  In this section, we will restrict our attention to matrix representations associated with the standard basis.\n"
   ]
  },
  {
   "cell_type": "markdown",
   "metadata": {},
   "source": [
    "### Standard matrix representations\n",
    "\n",
    "When we choose the standard basis $\\alpha = \\{E_1, E_2, ..., E_n\\}$ for $\\mathbb{R}^n$, we will refer the the matrix representation of a linear transformation as the **standard matrix representation**.  We introduce a slightly different notation for this matrix, even though it is just an ordinary matrix like all the others we have used in previous chapters.  If we use $T$ as the label for our transformation, we will use the notation $\\left[T\\right]$ to represent the standard matrix representation of $T$."
   ]
  },
  {
   "cell_type": "markdown",
   "metadata": {},
   "source": [
    "### Example 1\n",
    "\n",
    "Consider the transformation $T:\\mathbb{R}^2\\to\\mathbb{R}^4$, with the following images defined.\n",
    "\n",
    "$$\n",
    "\\begin{equation}\n",
    "T\\left(\\left[\\begin{array}{r} 1\\\\0 \\end{array}\\right]\\right)= \\left[\\begin{array}{r} 2\\\\0\\\\1\\\\1 \\end{array}\\right] \\hspace{1cm}  \n",
    "T\\left(\\left[\\begin{array}{r} 0\\\\1 \\end{array}\\right]\\right)= \\left[\\begin{array}{r} 0\\\\1\\\\-1\\\\4 \\end{array}\\right]\n",
    "\\end{equation}\n",
    "$$\n",
    "\n",
    "The standard matrix representation is built using these images as columns.\n",
    "\n",
    "$$\n",
    "\\begin{equation}\n",
    "\\left[T\\right] =\\left[\\begin{array}{rr} 2 & 0 \\\\ 0 & 1 \\\\ 1 & -1 \\\\ 1 & 4 \\end{array}\\right]  \n",
    "\\end{equation}\n",
    "$$\n",
    "\n",
    "Now if $X$ is some other vector in $\\mathbb{R}^2$, we can compute $T(X)$ as the matrix-vector product $\\left[T\\right]X$.\n",
    "\n",
    "$$\n",
    "\\begin{equation}\n",
    "X = \\left[\\begin{array}{r} 5 \\\\ -2 \\end{array}\\right] \\hspace{1cm} \\to \\hspace{1cm}\n",
    "T(X) = \\left[T\\right]X =\\left[\\begin{array}{rr} 2 & 0 \\\\ 0 & 1 \\\\ 1 & -1 \\\\ 1 & 4 \\end{array}\\right] \\left[\\begin{array}{r} 5 \\\\ -2 \\end{array}\\right] = \n",
    "5\\left[\\begin{array}{r} 2\\\\0\\\\1\\\\1 \\end{array}\\right] -\n",
    "2\\left[\\begin{array}{r} 0\\\\1\\\\-1\\\\4 \\end{array}\\right] = \n",
    "\\left[\\begin{array}{r} 10\\\\2\\\\3\\\\-3 \\end{array}\\right]\n",
    "\\end{equation}\n",
    "$$\n",
    "\n",
    "\n",
    "\n"
   ]
  },
  {
   "cell_type": "markdown",
   "metadata": {},
   "source": [
    "### Example 2\n",
    "\n",
    "A linear transformation $L:\\mathbb{R}^3 \\to \\mathbb{R}^3$ could be defined with a formula such as the following.\n",
    "\n",
    "$$\n",
    "\\begin{equation}\n",
    "L \\left(\\left[\\begin{array}{r} x_1 \\\\ x_2 \\\\ x^3 \\end{array} \\right]\\right) = \n",
    "\\left[\\begin{array}{c} x_1 - x_3 \\\\ 3x_1 -x_2 + 2x_3  \\\\ 2x_1 + 8x_2 \\end{array} \\right]\n",
    "\\end{equation}\n",
    "$$\n",
    "\n",
    "In order to find the standard matrix representation of $L$, we first apply the formula to produce the images of the standard basis, and then assemble them to form $\\left[L\\right]$\n",
    "\n",
    "$$\n",
    "\\begin{equation}\n",
    "L\\left(\\left[\\begin{array}{r} 1\\\\0\\\\0 \\end{array}\\right]\\right)= \\left[\\begin{array}{r} 1\\\\3\\\\2 \\end{array}\\right] \\hspace{1cm}  \n",
    "L\\left(\\left[\\begin{array}{r} 0\\\\1\\\\0 \\end{array}\\right]\\right)= \\left[\\begin{array}{r} 0\\\\-1\\\\8 \\end{array}\\right] \\hspace{1cm}  \n",
    "L\\left(\\left[\\begin{array}{r} 0\\\\0\\\\1 \\end{array}\\right]\\right)= \\left[\\begin{array}{r} -1\\\\2\\\\0 \\end{array}\\right] \n",
    "\\end{equation}\n",
    "$$\n",
    "\n",
    "$$\n",
    "\\begin{equation}\n",
    "\\left[L\\right] = \\left[\\begin{array}{rrr} 1 & 0 & -1 \\\\ 3 & -1 & 2 \\\\ 2 & 8 & 0 \\end{array}\\right]\n",
    "\\end{equation}\n",
    "$$\n"
   ]
  },
  {
   "cell_type": "markdown",
   "metadata": {},
   "source": [
    "### Analysis using RREF\n",
    "\n",
    "Now that we are able to represent a linear transformation as a matrix-vector multiplication, we can use what we've covered in the previous chapter to determine if a given transformation is invertible by checking if it is injective and surjective. "
   ]
  },
  {
   "cell_type": "code",
   "execution_count": null,
   "metadata": {},
   "outputs": [],
   "source": []
  }
 ],
 "metadata": {
  "kernelspec": {
   "display_name": "Python 3",
   "language": "python",
   "name": "python3"
  },
  "language_info": {
   "codemirror_mode": {
    "name": "ipython",
    "version": 3
   },
   "file_extension": ".py",
   "mimetype": "text/x-python",
   "name": "python",
   "nbconvert_exporter": "python",
   "pygments_lexer": "ipython3",
   "version": "3.7.3"
  }
 },
 "nbformat": 4,
 "nbformat_minor": 4
}
