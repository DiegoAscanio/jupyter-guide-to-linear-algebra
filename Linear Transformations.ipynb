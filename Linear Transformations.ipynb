{
 "cells": [
  {
   "cell_type": "markdown",
   "metadata": {},
   "source": [
    "## Exploring Linear Transformations"
   ]
  },
  {
   "cell_type": "markdown",
   "metadata": {},
   "source": [
    "The objectives of this module are:\n",
    "1. Visualize linear transformations by observing their effect on a geometric figure.\n",
    "2. Construct matrices that represent specific linear transformations.\n",
    "3. Explore more general linear transformations by combining simple examples.\n",
    "\n",
    "As discussed in the previous module/text, any linear transformation $T:\\mathbb{R}^2\\to\\mathbb{R}^2$ can be represented as the multiplcation of a $2\\times 2$ matrix and a coordinate vector.  For now, the coordinates are with respect to the standard basis $\\{e_1,e_2\\}$ as they were before.  The columns of the matrix are then the images of the the basis vectors.\n",
    "\\begin{equation}\n",
    "A = \\left[ \\begin{array}{c|c} T(e_1) & T(e_2) \\end{array} \\right]\n",
    "\\end{equation}\n",
    "\n",
    "### Example 1\n",
    "\n",
    "As a first example let us consider the transformation defined by the following images.\n",
    "\n",
    "\\begin{equation}\n",
    "T\\left(\\left[ \\begin{array}{r} 1 \\\\ 0  \\end{array}\\right]\\right)= \\left[ \\begin{array}{r} 2 \\\\ 0  \\end{array}\\right] \\hspace{1in}  T\\left(\\left[ \\begin{array}{r} 0 \\\\ 1  \\end{array}\\right]\\right)= \\left[ \\begin{array}{r} 0 \\\\ 1  \\end{array}\\right]  \n",
    "\\end{equation}\n",
    "\n",
    "The matrix corresponding to the transformation is then\n",
    "\n",
    "\\begin{equation}\n",
    "A = \\left[ \\begin{array}{cc} 2 & 0 \\\\ 0 & 1 \\end{array}\\right]\n",
    "\\end{equation}\n",
    "\n",
    "The image of a general vector with components $c_1$ and $c_2$ is given by a linear combination \n",
    "of the images of the basis vectors.\n",
    "\n",
    "\\begin{equation}\n",
    "T\\left(\\left[ \\begin{array}{r} c_1 \\\\ c_2  \\end{array}\\right]\\right) = T\\left(c_1\\left[ \\begin{array}{r} 1 \\\\ 0  \\end{array}\\right] + c_2 \\left[ \\begin{array}{r} 0 \\\\ 1  \\end{array}\\right]\\right) = c_1T\\left(\\left[ \\begin{array}{r} 1 \\\\ 0  \\end{array}\\right]\\right) + c_2 T\\left(\\left[ \\begin{array}{r} 0 \\\\ 1  \\end{array}\\right]\\right)  = c_1\\left[ \\begin{array}{r} 2 \\\\ 0  \\end{array}\\right] + c_2\\left[ \\begin{array}{r} 0 \\\\ 1  \\end{array}\\right]  = \\left[ \\begin{array}{cc} 2 & 0 \\\\ 0 & 1 \\end{array}\\right] \\left[\\begin{array}{c} c_1 \\\\ c_2 \\end{array}\\right]\n",
    "\\end{equation}\n",
    "\n",
    "\n",
    "To get a visual understanding of the transformation, we produce a plot that displays multiple input vectors, and the corresponding output produced by the transformation.\n",
    "\n",
    "\n",
    "Import the libraries as explained earlier:"
   ]
  },
  {
   "cell_type": "code",
   "execution_count": 3,
   "metadata": {},
   "outputs": [],
   "source": [
    "%matplotlib inline  \n",
    "import matplotlib\n",
    "import math\n",
    "import matplotlib.pylab as plt\n",
    "import numpy as np\n",
    "from pylab import *"
   ]
  },
  {
   "cell_type": "markdown",
   "metadata": {},
   "source": [
    "First we define a list of coordinates to describe an image.  We then take form the transpose of the array to give the matrix\n",
    "the proper shape."
   ]
  },
  {
   "cell_type": "code",
   "execution_count": 7,
   "metadata": {},
   "outputs": [],
   "source": [
    "coords = array([[0,0],[0.5,0.5],[0.5,1.5],[0,1],[0,0]])\n",
    "coords = coords.T\n",
    "coords\n",
    "x = coords[0,:]\n",
    "y = coords[1,:]"
   ]
  },
  {
   "cell_type": "markdown",
   "metadata": {},
   "source": [
    "The Python variable named $\\texttt{coords}$ is thus the following matrix.\n",
    "\\begin{equation}\n",
    "\\texttt{coords} = \\left[ \\begin{array}{ccccc} 0 & 0.5 & 0.5 & 1 & 0 \\\\ 0 & 0.5 & 1.5 & 1 & 0 \\end{array}\\right]\n",
    "\\end{equation}\n",
    "Next, we define a varable that represents the matrix $A$, and multiply it by $\\texttt{coords}$ using the dot function.  This matrix multiplication produces another matrix called $\\texttt{A_coords}$.  The columns of $\\texttt{A_coords}$ are the images of the vectors that make up the columns of $\\texttt{coords}$."
   ]
  },
  {
   "cell_type": "code",
   "execution_count": 19,
   "metadata": {},
   "outputs": [],
   "source": [
    "A = array([[2,0],[0,1]],'d')\n",
    "A_coords = dot(A,coords)"
   ]
  },
  {
   "cell_type": "markdown",
   "metadata": {},
   "source": [
    "Let's plot the coordinates and see the effect of the transformation.  The red points show the original coordinates, and the new coordinates are shown in blue."
   ]
  },
  {
   "cell_type": "code",
   "execution_count": 30,
   "metadata": {},
   "outputs": [
    {
     "data": {
      "image/png": "[encoded data removed]",
      "text/plain": [
       "<Figure size 432x288 with 1 Axes>"
      ]
     },
     "metadata": {
      "needs_background": "light"
     },
     "output_type": "display_data"
    }
   ],
   "source": [
    "x_LT1 = A_coords[0,:]\n",
    "y_LT1 = A_coords[1,:]\n",
    "\n",
    "figure()\n",
    "plot(x,y,'r',ls=\"--\")\n",
    "plot(x,y,'ro')\n",
    "plot(x_LT1,y_LT1,'b')\n",
    "plot(x_LT1,y_LT1,'bo')\n",
    "axvline(x=0,color=\"k\",ls=\":\")\n",
    "axhline(y=0,color=\"k\",ls=\":\")\n",
    "grid(True)\n",
    "axis([-1,2,-1,2])\n",
    "title(\"Horizontal Shear\")\n",
    "show()"
   ]
  },
  {
   "cell_type": "markdown",
   "metadata": {},
   "source": [
    "We observe that the result of the transformation is that the polygon has been streched in the horizontal direction.  Such a transformation is commonly called a horizontal shear.\n",
    "\n",
    "### Example 2\n",
    "\n",
    "Now that we have a set of vectors stored in the $\\texttt{coords}$ matrix, let's look at another transformation that is defined by the matrix $B$.\n",
    "\n",
    "\\begin{equation}\n",
    "B = \\left[ \\begin{array}{cc} -1 & 0 \\\\ 0 & 1 \\end{array}\\right]\n",
    "\\end{equation}\n",
    "\n",
    "We make a new array $B$, but reuse the plotting code from the previous example."
   ]
  },
  {
   "cell_type": "code",
   "execution_count": 23,
   "metadata": {},
   "outputs": [],
   "source": [
    "B = array([[-1,0],[0,1]],'d')\n",
    "B_coords = dot(B,coords)"
   ]
  },
  {
   "cell_type": "code",
   "execution_count": 24,
   "metadata": {},
   "outputs": [],
   "source": [
    "x_LT2 = B_coords[0,:]\n",
    "y_LT2 = B_coords[1,:]"
   ]
  },
  {
   "cell_type": "code",
   "execution_count": 26,
   "metadata": {},
   "outputs": [
    {
     "data": {
      "image/png": "[encoded data removed]",
      "text/plain": [
       "<Figure size 432x288 with 1 Axes>"
      ]
     },
     "metadata": {
      "needs_background": "light"
     },
     "output_type": "display_data"
    }
   ],
   "source": [
    "figure()\n",
    "plot(x,y,'r',ls=\"--\")\n",
    "plot(x,y,'ro')\n",
    "plot(x_LT2,y_LT2,'b')\n",
    "plot(x_LT2,y_LT2,'bo')\n",
    "axvline(x=0,color=\"k\",ls=\":\")\n",
    "axhline(y=0,color=\"k\",ls=\":\")\n",
    "grid(True)\n",
    "axis([-1,2,-1,2])\n",
    "title(\"Reflection\")\n",
    "show()"
   ]
  },
  {
   "cell_type": "markdown",
   "metadata": {},
   "source": [
    "We see that this transformation reflects points around the vertical axis.\n",
    "\n",
    "### Example 3\n",
    "\n",
    "In the last basic example, we choose an angle $\\theta$, and write down the matrix that represents the transformation of rotating points by the angle $\\theta$.\n",
    "\n",
    "\n",
    "\\begin{equation}\n",
    "R = \\left[ \\begin{array}{cc} \\cos\\theta & -\\sin\\theta \\\\ \\sin\\theta & \\cos\\theta \\end{array}\\right]\n",
    "\\end{equation}\n"
   ]
  },
  {
   "cell_type": "code",
   "execution_count": 11,
   "metadata": {},
   "outputs": [],
   "source": [
    "theta = math.pi/6\n",
    "R = array([[cos(theta),-sin(theta)],[sin(theta),cos(theta)]],'d')\n",
    "R_coords = dot(R,coords)"
   ]
  },
  {
   "cell_type": "code",
   "execution_count": 12,
   "metadata": {},
   "outputs": [],
   "source": [
    "x_LT3 = R_coords[0,:]\n",
    "y_LT3 = R_coords[1,:]"
   ]
  },
  {
   "cell_type": "code",
   "execution_count": 13,
   "metadata": {},
   "outputs": [
    {
     "data": {
      "image/png": "[encoded data removed]",
      "text/plain": [
       "<Figure size 432x288 with 1 Axes>"
      ]
     },
     "metadata": {
      "needs_background": "light"
     },
     "output_type": "display_data"
    }
   ],
   "source": [
    "figure()\n",
    "plot(x,y,'r',ls=\"--\")\n",
    "plot(x,y,'ro')\n",
    "plot(x_LT3,y_LT3,'b')\n",
    "plot(x_LT3,y_LT3,'bo')\n",
    "axvline(x=0,color=\"k\",ls=\":\")\n",
    "axhline(y=0,color=\"k\",ls=\":\")\n",
    "grid(True)\n",
    "axis([-1,2,-1,2])\n",
    "title(\"Rotation\")\n",
    "show()"
   ]
  },
  {
   "cell_type": "markdown",
   "metadata": {},
   "source": [
    "### Example 4\n",
    "\n",
    "In order to find a matrix that represents the rotation from Example 3, followed by the reflection of Example 2,\n",
    "we can simply multiply the matrices.  Let's call the product $C$.\n",
    "\n",
    "\\begin{equation}\n",
    "C = BR = \\left[ \\begin{array}{cc} -1 & 0 \\\\ 0 & 1 \\end{array}\\right]\n",
    "\\left[ \\begin{array}{cc} \\cos\\theta & -\\sin\\theta \\\\ \\sin\\theta & \\cos\\theta \\end{array}\\right]\n",
    "=\\left[ \\begin{array}{cc} -\\cos\\theta & \\sin\\theta \\\\ \\sin\\theta & \\cos\\theta \\end{array}\\right]\n",
    "\\end{equation}\n",
    "\n"
   ]
  },
  {
   "cell_type": "code",
   "execution_count": 15,
   "metadata": {},
   "outputs": [],
   "source": [
    "theta = math.pi/6\n",
    "C = array([[-cos(theta),sin(theta)],[sin(theta),cos(theta)]],'d')\n",
    "C_coords = dot(C,coords)"
   ]
  },
  {
   "cell_type": "code",
   "execution_count": 16,
   "metadata": {},
   "outputs": [],
   "source": [
    "x_LT4 = C_coords[0,:]\n",
    "y_LT4 = C_coords[1,:]"
   ]
  },
  {
   "cell_type": "code",
   "execution_count": 17,
   "metadata": {},
   "outputs": [
    {
     "data": {
      "image/png": "[encoded data removed]",
      "text/plain": [
       "<Figure size 432x288 with 1 Axes>"
      ]
     },
     "metadata": {
      "needs_background": "light"
     },
     "output_type": "display_data"
    }
   ],
   "source": [
    "figure()\n",
    "plot(x,y,'r',ls=\"--\")\n",
    "plot(x,y,'ro')\n",
    "plot(x_LT4,y_LT4,'b')\n",
    "plot(x_LT4,y_LT4,'bo')\n",
    "axvline(x=0,color=\"k\",ls=\":\")\n",
    "axhline(y=0,color=\"k\",ls=\":\")\n",
    "grid(True)\n",
    "axis([-1,2,-1,2])\n",
    "show()"
   ]
  },
  {
   "cell_type": "markdown",
   "metadata": {},
   "source": [
    "### Exercises\n",
    "\n",
    "1. Find a matrix that represents a vertical shear followed by the rotatation in Example 4. \n",
    "2. Multiply the matrix by $\\texttt{coords}$ and plot the results.\n",
    "3. Create a new matrix of coordinates, apply one of the transformations in the Examples and plot the results."
   ]
  },
  {
   "cell_type": "code",
   "execution_count": null,
   "metadata": {},
   "outputs": [],
   "source": []
  }
 ],
 "metadata": {
  "kernelspec": {
   "display_name": "Python 3",
   "language": "python",
   "name": "python3"
  },
  "language_info": {
   "codemirror_mode": {
    "name": "ipython",
    "version": 3
   },
   "file_extension": ".py",
   "mimetype": "text/x-python",
   "name": "python",
   "nbconvert_exporter": "python",
   "pygments_lexer": "ipython3",
   "version": "3.7.3"
  }
 },
 "nbformat": 4,
 "nbformat_minor": 2
}
