{
 "cells": [
  {
   "cell_type": "markdown",
   "metadata": {},
   "source": [
    "## Solving Systems using Elimination\n"
   ]
  },
  {
   "cell_type": "markdown",
   "metadata": {},
   "source": [
    "In this section we demonstrate all of the code needed to solve the linear system $AX=B$ using elimination.  We will restrict our objective to the case that $A$ is a square $n\\times n$ matrix and consider the case where $A$ is $m\\times n$ at a later point.\n",
    "\n",
    "When writing code to perform a complex problem, it is often a good idea to first break up the task, and write code to carry out smaller pieces.  Once we have code to reliably perform the small tasks, we can assemble the pieces to solve the larger problem.  In our case we will break down the solution method into two parts.\n",
    "\n",
    "1. Carry out elimination on the associated augmented matrix.\n",
    "2. Perform back substitution on the triangular system that elimination produces.\n",
    "\n",
    "It is also beneficial to consider how we might write the code now so that it will it can reuse it for other tasks later. "
   ]
  },
  {
   "cell_type": "code",
   "execution_count": 2,
   "metadata": {},
   "outputs": [],
   "source": [
    "import numpy as np\n",
    "import laguide as lag"
   ]
  },
  {
   "cell_type": "markdown",
   "metadata": {},
   "source": [
    "### Back Substitution routine\n",
    "\n",
    "We will start with the back substitution step, since that is the easier part.  If the elimination step is successful, we will have an upper triangular system $UX=B$ that has the following form.\n",
    "\n",
    "$$\n",
    "\\begin{equation}\n",
    "\\left[ \\begin{array}{rrrr} * & * & * & * \\\\ 0 & * & * & * \\\\ 0 & 0 & * & * \\\\ 0 & 0 & 0 & * \\end{array}\\right]\n",
    "\\left[ \\begin{array}{r}  x_1 \\\\  x_2  \\\\ x_3 \\\\ x_4  \\end{array}\\right]=\n",
    "\\left[ \\begin{array}{r}  * \\\\  *  \\\\ * \\\\ *  \\end{array}\\right]\n",
    "\\end{equation}\n",
    "$$\n",
    "\n",
    "We will put the code in a function so that that it is easy to reuse later.  For this function, let's suppose that we are given the upper triangular matrix $U$ and the known vector $B$ and we want to find the vector $X$ so that $UX=B$.  Note we could make other assumptions, such as the matrix $U$ having diagonal entries equal to 1, but if we make fewer assumptions, the code will be more useful later."
   ]
  },
  {
   "cell_type": "code",
   "execution_count": 7,
   "metadata": {},
   "outputs": [],
   "source": [
    "def BackSubstitution(U,B):\n",
    "# =============================================================================\n",
    "#     U is a NumPy array that represents an upper triangular square mxm matrix.  \n",
    "#     B is a NumPy array that represents an mx1 vector     \n",
    "#     BackSubstitution will return an mx1 vector that is the solution of the\n",
    "#     system UX=B.\n",
    "# =============================================================================\n",
    "    m = U.shape[0]  # m is number of rows and columns in U\n",
    "    X = np.zeros((m,1))\n",
    "    \n",
    "    for i in range(m-1,-1,-1):  # Calculate entries of X backward from m-1 to 0\n",
    "        X[i] = B[i]\n",
    "        for j in range(i+1,m):\n",
    "            X[i] -= U[i][j]*X[j]\n",
    "        X[i] /= U[i][i]\n",
    "    return X"
   ]
  },
  {
   "cell_type": "markdown",
   "metadata": {},
   "source": [
    "Before moving on, let's test this function.  We can build a matrix with the proper triangular form, *choose a solution$, and then construct a system $UX=B$ so that we know the solution."
   ]
  },
  {
   "cell_type": "code",
   "execution_count": 8,
   "metadata": {},
   "outputs": [
    {
     "name": "stdout",
     "output_type": "stream",
     "text": [
      "[[2.]\n",
      " [4.]\n",
      " [6.]]\n"
     ]
    }
   ],
   "source": [
    "# Make up an upper triangular matrix.  Could we make a random upper triangular matrix here?  What could go wrong?\n",
    "U = np.array([[3,0,1],[0,1,-1],[0,0,-3]])  \n",
    "# We will choose the solution X_true.  We can put in any numbers we like here. \n",
    "X_true = np.array([[2],[4],[6]])\n",
    "B = U@X_true\n",
    "# Call the function.  It should produce the same array as X_true if it works correctly.\n",
    "X = BackSubstitution(U,B)\n",
    "\n",
    "print(X)"
   ]
  },
  {
   "cell_type": "markdown",
   "metadata": {},
   "source": [
    "### Row Reduction routine\n",
    "\n",
    "Elimination is the larger and more complex part of the solution method.  It is also a common task that will arise in future sections, so we will want some code that we can reuse at a later point.  We want a function that will carry out all the steps of elimination, and just return the end result.  It is not necessary to see all the inividual row operations that took place in order solve the problem.  Ideally, we would like the function to carry out the elimination on arrays of any size or shape, and also be able to _make the decision_ to perform row swaps when necessary.\n",
    "\n",
    "To clarify the goal, the function should accept an arbitrary array and produce an array that has the following properties.\n",
    "\n",
    "1. The entries in the pivot positions are 1.\n",
    "2. The entries below the pivot postions are 0.\n",
    "\n",
    "Such a matrix is said to be in a **row echelon form**.  Here are two examples of matrices in the form that we seek.\n",
    "\n",
    "   \n",
    "$$\n",
    "\\begin{equation}\n",
    "\\left[ \\begin{array}{cccc} 1 & * & * & * \\\\ 0 & 1 & * & * \\\\ 0 & 0 & 1 & * \\end{array}\\right]\n",
    "\\end{equation}\n",
    "$$\n",
    "\n",
    "\n",
    "$$\n",
    "\\begin{equation}\n",
    "\\left[ \\begin{array}{cccccc} 1 & * & * & * & * & * \\\\ 0 & 0 & 1 & * & * & * \\\\ 0 & 0 & 0 & 1 & * & * \\end{array}\\right]\n",
    "\\end{equation}\n",
    "$$\n",
    "\n",
    "*Note that the requirement of having a 1 in the pivot position is not strictly necessary, and is indeed not necessary to make use of our back substitution routine.*"
   ]
  },
  {
   "cell_type": "code",
   "execution_count": 11,
   "metadata": {},
   "outputs": [],
   "source": [
    "def RowReduction(A):\n",
    "    ''' \n",
    "    RowReduction performs steps of elimination with no pivot strategy and\n",
    "    returns a row echelon form of the matrix A.\n",
    "    \n",
    "    Parameters\n",
    "    ----------\n",
    "    A : NumPy array object of dimension mxn\n",
    "    \n",
    "    Returns\n",
    "    -------\n",
    "    B: NumPy array object of dimension mxn\n",
    "    '''\n",
    "    \n",
    "    m = A.shape[0]  # m is number of rows in A\n",
    "    n = A.shape[1]  # n is number of columns in A\n",
    "\n",
    "    B = np.zeros((m,n))\n",
    "    for i in range(m):\n",
    "        for j in range(n):\n",
    "            B[i][j] = A[i][j]\n",
    "\n",
    "    if m < n:\n",
    "        elimination_steps = m\n",
    "    else:\n",
    "        elimination_steps = n\n",
    "\n",
    "    # For each step of elimination, we find a suitable pivot, move it into\n",
    "    # position and create zeros for all entries below.\n",
    "    \n",
    "    for k in range(elimination_steps):\n",
    "        # Set pivot as (k,k) entry\n",
    "        pivot = B[k][k]\n",
    "        pivot_row = k\n",
    "        \n",
    "        # Find a suitable pivot if the (k,k) entry is zero\n",
    "        while(pivot == 0 and pivot_row < m):\n",
    "            pivot_row += 1\n",
    "            pivot = B[pivot_row][k]\n",
    "            \n",
    "        # Swap row if needed\n",
    "        if (pivot_row != k):\n",
    "            B = lag.RowSwap(B,k,pivot_row)\n",
    "            \n",
    "        # If pivot is nonzero, carry on with elimination in column k\n",
    "        if (pivot != 0):\n",
    "            B = lag.RowScale(B,k,1./B[k][k])\n",
    "            for i in range(k+1,m):    \n",
    "                B = lag.RowAdd(B,k,i,-B[i][k])\n",
    "    return B\n",
    "    \n",
    "\n",
    "    "
   ]
  },
  {
   "cell_type": "markdown",
   "metadata": {},
   "source": [
    "Note that in this routine we make use of the row operations written earlier.  Since those functions are note written in *this notebook*, we need to import them from the $\\texttt{laguide}$ module.\n",
    "\n",
    "Let's test the routine on a random array.  Run the code on several random matrices of different sizes and shapes.  Does it always work?  Do you notice any unusual results?  Does it depend on the size or shape?  Does it depend on the range of numbers used?"
   ]
  },
  {
   "cell_type": "code",
   "execution_count": 12,
   "metadata": {},
   "outputs": [
    {
     "name": "stdout",
     "output_type": "stream",
     "text": [
      "[[ 6  3 -4  5]\n",
      " [ 5 -2  3 -1]\n",
      " [ 3  7  0  4]\n",
      " [ 2 -4  7 -4]]\n",
      "\n",
      "\n",
      "[[ 1.          0.5        -0.66666667  0.83333333]\n",
      " [-0.          1.         -1.40740741  1.14814815]\n",
      " [ 0.          0.          1.         -0.49429658]\n",
      " [ 0.          0.          0.          1.        ]]\n"
     ]
    }
   ],
   "source": [
    "R = np.random.randint(-8,8,size=(4,4))\n",
    "print(R)\n",
    "print('\\n')\n",
    "print(RowReduction(R))"
   ]
  },
  {
   "cell_type": "markdown",
   "metadata": {},
   "source": [
    "If you run this test enough times, you are likely to come across an example where the results look a little different.  Here is one such case."
   ]
  },
  {
   "cell_type": "code",
   "execution_count": 13,
   "metadata": {},
   "outputs": [
    {
     "name": "stdout",
     "output_type": "stream",
     "text": [
      "[[ 1.00000000e+00 -8.57142857e-01  8.57142857e-01 -1.14285714e+00]\n",
      " [-0.00000000e+00  1.00000000e+00  5.84905660e-01  1.88679245e-01]\n",
      " [-0.00000000e+00 -0.00000000e+00  1.00000000e+00  7.08463950e-01]\n",
      " [-0.00000000e+00 -0.00000000e+00  1.30206303e-17  1.00000000e+00]]\n"
     ]
    }
   ],
   "source": [
    "NumericalReductionExample=np.array([[7,-6,6,-8],[-3,-5,-7,2],[1,-4,-7,-6],[-1,0,-2,-8]])\n",
    "print(RowReduction(NumericalReductionExample))"
   ]
  },
  {
   "cell_type": "markdown",
   "metadata": {},
   "source": [
    "There are two things that we observe in this example.  First and most obvious is that the entries are all displayed in scientific notation.  The more disturbing observation is that the result is not exactly what we wanted.  The elimination process is supposed to produce zeros for all the entries below the main diagonal, but in this case there is one entry that is not $\\texttt{0.000}$.  Instead it is an extremely small number, close to $10^{-17}$.  At this point we might question the code and start looking for errors, but the problem here does not lie with the code.  The issue here is something deeper and involves the precision limitations of the computer.  When the computer carries out these calculations it does not always work with exact numbers.  In most cases the results get rounded off to a number that the machine can represent.  This limitation is known as **roundoff error** and it is the reason we do not get exactly zero for all of the entries below the diagonal.  \n",
    "\n",
    "Roundoff error can present a significant challenge if we work with large arrays, and the errors are allowed to accumulate and compound.  There are strategies that can be employed to mitigate this error, and we will revisit this dicussion in a later section.  For now we will carry on with elimination with the awareness that the results we get are not always *exactly correct*. "
   ]
  },
  {
   "cell_type": "markdown",
   "metadata": {},
   "source": [
    "#### Exercises\n",
    "\n",
    "- Try out the code on two different arrays that require the use of $\\texttt{RowSwap}$.\n",
    "- Is it possible to test random arrays that require the use of $\\texttt{RowSwap}$?"
   ]
  },
  {
   "cell_type": "markdown",
   "metadata": {},
   "source": [
    "### System Solve routine\n",
    "\n",
    "Now we can combine the $\\texttt{RowReduction}$ and the $\\texttt{BackSubstitution}$ routines together to carry out the solution algorithm for the system $AX=B$.  Since we will be the users of this function, let's try to make it easy to use.  One simple possibility is that the user of the function will supply $A$ and $B$, and the function will return the solution $X$.  Let's list the steps that need to be completed.\n",
    "\n",
    "1. Build an augmented matrix.\n",
    "2. Apply $\\texttt{RowReduction}$.\n",
    "3. Split the matrix.\n",
    "4. Apply $\\texttt{BackSubstitution}$ and return the result.\n",
    "\n",
    "Note that there are other ways we could build our routine.  We could require the user to supply the augmented matrix for example, but then that means the user (us) has to do step 1 everytime they use this routine.  It is better to let the function handle that step."
   ]
  },
  {
   "cell_type": "code",
   "execution_count": 14,
   "metadata": {},
   "outputs": [],
   "source": [
    "def SolveSystem(A,B):\n",
    "    ''' \n",
    "    SystemSolve computes the solution to AX=B by elimination in the case that\n",
    "    A is a square nxn matrix\n",
    "    \n",
    "    Parameters\n",
    "    ----------\n",
    "    A : NumPy array object of dimension nxn\n",
    "    B : NumPy array object of dimension nx1\n",
    "    \n",
    "    Returns\n",
    "    -------\n",
    "    X: NumPy array object of dimension nx1\n",
    "    '''\n",
    "    # Check shape of A\n",
    "    if (A.shape[0] != A.shape[1]):\n",
    "        print(\"SolveSystem accepts only square arrays.\")\n",
    "        return\n",
    "    n = A.shape[0]  # n is number of rows and columns in A\n",
    "\n",
    "    # 1. Join A and B to make the augmented matrix\n",
    "    A_augmented = np.hstack((A,B))\n",
    "    \n",
    "    # 2. Carry out elimination    \n",
    "    R = RowReduction(A_augmented)\n",
    "\n",
    "    # 3. Split R back to nxn piece and nx1 piece\n",
    "    B_reduced = R[:,n:n+1]\n",
    "    A_reduced = R[:,0:n]\n",
    "\n",
    "    # 4. Do back substitution\n",
    "    X = BackSubstitution(A_reduced,B_reduced)\n",
    "    return X"
   ]
  },
  {
   "cell_type": "markdown",
   "metadata": {},
   "source": [
    "Let's test the routine by building a matrix, choosing a solution, and constructing a system $AX=B$ so that we know the solution."
   ]
  },
  {
   "cell_type": "code",
   "execution_count": 15,
   "metadata": {},
   "outputs": [
    {
     "name": "stdout",
     "output_type": "stream",
     "text": [
      "[[1.]\n",
      " [1.]\n",
      " [1.]]\n"
     ]
    }
   ],
   "source": [
    "A = np.array([[1,2,3],[0,1,-2],[3,3,-2]])\n",
    "# We will choose the solution X_true\n",
    "X_true = np.array([[1],[1],[1]])\n",
    "# Now make B so that the solution to AX=B is X_true\n",
    "B = A@X_true\n",
    "X = SolveSystem(A,B)\n",
    "print(X)"
   ]
  },
  {
   "cell_type": "markdown",
   "metadata": {},
   "source": [
    "Next, we modify a couple of lines to produce a completely random system with random solution.  We will use $\\texttt{SolveSystem}$ to find the solution and then compute the difference between the result and the actual known solution."
   ]
  },
  {
   "cell_type": "code",
   "execution_count": 16,
   "metadata": {},
   "outputs": [
    {
     "name": "stdout",
     "output_type": "stream",
     "text": [
      "[[ 1.77635684e-15]\n",
      " [ 0.00000000e+00]\n",
      " [-1.77635684e-15]\n",
      " [ 0.00000000e+00]]\n"
     ]
    }
   ],
   "source": [
    "A = np.random.randint(-8,8,size=(4,4))\n",
    "# We set X_true for a random solution\n",
    "X_true = np.random.randint(-8,8,size=(4,1))\n",
    "# Now make B so that the solution to AX=B is X_true\n",
    "B = A@X_true\n",
    "X = SolveSystem(A,B)\n",
    "# Print the difference in computed solution and actual solution\n",
    "print(X_true-X)"
   ]
  },
  {
   "cell_type": "markdown",
   "metadata": {},
   "source": [
    "#### Exercise\n",
    "\n",
    "- Set up a similar test using $\\text{np.random.rand}$ to get random floats as matrix entries."
   ]
  },
  {
   "cell_type": "code",
   "execution_count": 17,
   "metadata": {},
   "outputs": [
    {
     "name": "stdout",
     "output_type": "stream",
     "text": [
      "[[ 1.11022302e-16]\n",
      " [-8.88178420e-16]\n",
      " [ 2.49800181e-15]\n",
      " [-3.21964677e-15]]\n"
     ]
    }
   ],
   "source": [
    "A = np.random.rand(4,4)\n",
    "# We set X_true for a random solution\n",
    "X_true = np.random.rand(4,1)\n",
    "# Now make B so that the solution to AX=B is X_true\n",
    "B = A@X_true\n",
    "X = SolveSystem(A,B)\n",
    "# Print the difference in computed solution and actual solution\n",
    "print(X_true-X)"
   ]
  },
  {
   "cell_type": "markdown",
   "metadata": {},
   "source": [
    "#### Exercises\n",
    "\n",
    "- Modify $\\texttt{RowReduction}$ to compute what is known as the **reduced row echelon form**.  Name the new function $\\texttt{RREF}$.  \n",
    "    A matrix in reduced row echelon form should have the following properties.\n",
    "    - The entries in pivot positions are 1.\n",
    "    - The entries below each pivot position are 0.\n",
    "    - The entries *above* each pivot position are 0.\n",
    "   Here are some examples of matrices that are in reduced row echelon form.\n",
    "   \n",
    "   \n",
    "$$\n",
    "\\begin{equation}\n",
    "\\left[ \\begin{array}{cccc} 1 & 0 & 0 & * \\\\ 0 & 1 & 0 & * \\\\ 0 & 0 & 1 & * \\end{array}\\right]\n",
    "\\end{equation}\n",
    "$$\n",
    "\n",
    "\n",
    "$$\n",
    "\\begin{equation}\n",
    "\\left[ \\begin{array}{cccccc} 1 & * & 0 & 0 & * & * \\\\ 0 & 0 & 1 & 0 & * & * \\\\ 0 & 0 & 0 & 1 & * & * \\end{array}\\right]\n",
    "\\end{equation}\n",
    "$$\n",
    "    Note that for the system represented by the augmented matrix in the first example, the solution is given by the entries in the final column.  There is no need for back substitution if the augmented matrix is in reduced row echelon form.\n",
    "\n",
    "- Test your $\\text{RREF}$ on random matrices with different shapes including those above ($3\\times 4$ and $3 \\times 6$)\n",
    "- Construct a $3 \\times 3$ system with a known solution and compare the solutions produced using $\\texttt{SolveSystem}$ with those produced using $\\texttt{RREF}$. "
   ]
  },
  {
   "cell_type": "code",
   "execution_count": null,
   "metadata": {},
   "outputs": [],
   "source": []
  }
 ],
 "metadata": {
  "kernelspec": {
   "display_name": "Python 3",
   "language": "python",
   "name": "python3"
  },
  "language_info": {
   "codemirror_mode": {
    "name": "ipython",
    "version": 3
   },
   "file_extension": ".py",
   "mimetype": "text/x-python",
   "name": "python",
   "nbconvert_exporter": "python",
   "pygments_lexer": "ipython3",
   "version": "3.7.3"
  }
 },
 "nbformat": 4,
 "nbformat_minor": 4
}
