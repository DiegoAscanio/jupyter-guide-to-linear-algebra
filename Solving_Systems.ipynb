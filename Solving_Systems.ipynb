{
 "cells": [
  {
   "cell_type": "markdown",
   "metadata": {},
   "source": [
    "## Solving Systems using Elimination\n"
   ]
  },
  {
   "cell_type": "markdown",
   "metadata": {},
   "source": [
    "In this section we demonstrate all of the code needed to solve the linear system $AX=B$ using elimination, in the case that $A$ is a square $n\\times n$ matrix.  We will consder the case where $A$ is $m\\times n$ at a later point."
   ]
  },
  {
   "cell_type": "code",
   "execution_count": 1,
   "metadata": {},
   "outputs": [],
   "source": [
    "import numpy as np\n",
    "import laguide as lag"
   ]
  },
  {
   "cell_type": "markdown",
   "metadata": {},
   "source": [
    "### Row Reduction routine\n",
    "\n",
    "Elimination is currently our only method of solution. It is also a common task that will arise in future sections.  Let's build a Python function that will carry out all the steps of elimination, and just return the end result.  If we want the code to be able to handle any array, we will need to include instructions to _make the decision_ of whether or not to perform row swaps.  We would also like to be able to carry out the elimination on arrays of any size or shape.  "
   ]
  },
  {
   "cell_type": "code",
   "execution_count": 7,
   "metadata": {},
   "outputs": [],
   "source": [
    "def RowReduction(A):\n",
    "    ''' \n",
    "    RowReduction performs steps of elimination with no pivot strategy and\n",
    "    returns a row echelon form of the matrix A.\n",
    "    \n",
    "    Parameters\n",
    "    ----------\n",
    "    A : NumPy array object of dimension mxn\n",
    "    \n",
    "    Returns\n",
    "    -------\n",
    "    B: NumPy array object of dimension mxn\n",
    "    '''\n",
    "    \n",
    "    m = A.shape[0]  # m is number of rows in A\n",
    "    n = A.shape[1]  # n is number of columns in A\n",
    "\n",
    "    B = np.zeros((m,n))\n",
    "    for i in range(m):\n",
    "        for j in range(n):\n",
    "            B[i][j] = A[i][j]\n",
    "\n",
    "    if m < n:\n",
    "        elimination_steps = m\n",
    "    else:\n",
    "        elimination_steps = n\n",
    "\n",
    "    # For each step of elimination, we find a suitable pivot, move it into\n",
    "    # position and create zeros for all entries below.\n",
    "    \n",
    "    for k in range(elimination_steps):\n",
    "        # Set pivot as (k,k) entry\n",
    "        pivot = B[k][k]\n",
    "        pivot_row = k\n",
    "        \n",
    "        # Find a suitable pivot if the (k,k) entry is zero\n",
    "        while(pivot == 0 and pivot_row < m):\n",
    "            pivot_row += 1\n",
    "            pivot = B[pivot_row][k]\n",
    "            \n",
    "        # Swap row if needed\n",
    "        if (pivot_row != k):\n",
    "            B = RowSwap(B,k,pivot_row)\n",
    "            \n",
    "        # If pivot is nonzero, carry on with elimination in column k\n",
    "        if (pivot != 0):\n",
    "            B = lag.RowScale(B,k,1./B[k][k])\n",
    "            for i in range(k+1,m):    \n",
    "                B = lag.RowAdd(B,k,i,-B[i][k])\n",
    "    return B\n",
    "    \n"
   ]
  },
  {
   "cell_type": "markdown",
   "metadata": {},
   "source": [
    "Let's test the routine on a random array."
   ]
  },
  {
   "cell_type": "code",
   "execution_count": 8,
   "metadata": {},
   "outputs": [
    {
     "name": "stdout",
     "output_type": "stream",
     "text": [
      "[[ 6 -6 -7]\n",
      " [ 2  0  6]\n",
      " [-6  1 -2]]\n",
      "\n",
      "\n",
      "[[ 1.         -1.         -1.16666667]\n",
      " [ 0.          1.          4.16666667]\n",
      " [ 0.          0.          1.        ]]\n"
     ]
    }
   ],
   "source": [
    "R = np.random.randint(-8,8,size=(3,3))\n",
    "print(R)\n",
    "print('\\n')\n",
    "print(RowReduction(R))"
   ]
  },
  {
   "cell_type": "markdown",
   "metadata": {},
   "source": [
    "### System Solve routine\n",
    "\n",
    "Now we can combine the $\\texttt{RowReduction}$ and the $\\texttt{BackSubstitution}$ routines together to carry out the solution algorithm for the system $AX=B$.  Since we will be the users of this function, let's try to make it easy to use.  One simple possibility is that the user of the function will supply $A$ and $B$, and the function will return the solution $X$.  Let's list the steps that need to be completed.\n",
    "\n",
    "1. Build an augmented matrix.\n",
    "2. Apply $\\texttt{RowReduction}$.\n",
    "3. Split the matrix.\n",
    "4. Apply $\\texttt{BackSubstitution}$ and return the result. "
   ]
  },
  {
   "cell_type": "code",
   "execution_count": 9,
   "metadata": {},
   "outputs": [],
   "source": [
    "def SolveSystem(A,B):\n",
    "    ''' \n",
    "    SystemSolve computes the solution to AX=B by elimination in the case that\n",
    "    A is a square nxn matrix\n",
    "    \n",
    "    Parameters\n",
    "    ----------\n",
    "    A : NumPy array object of dimension nxn\n",
    "    B : NumPy array object of dimension nx1\n",
    "    \n",
    "    Returns\n",
    "    -------\n",
    "    X: NumPy array object of dimension nx1\n",
    "    '''\n",
    "    # Check shape of A\n",
    "    if (A.shape[0] != A.shape[1]):\n",
    "        print(\"SolveSystem accepts only square arrays.\")\n",
    "        return\n",
    "    n = A.shape[0]  # n is number of rows and columns in A\n",
    "\n",
    "    # Join A and B to make the augmented matrix\n",
    "    A_augmented = np.hstack((A,B))\n",
    "    \n",
    "    # Carry out elimination    \n",
    "    R = RowReduction(A_augmented)\n",
    "\n",
    "    # Split R back to nxn piece and nx1 piece\n",
    "    B_reduced = R[:,n:n+1]\n",
    "    A_reduced = R[:,0:n]\n",
    "\n",
    "    # Do back substitution\n",
    "    X = lag.BackSubstitution(A_reduced,B_reduced)\n",
    "    return X"
   ]
  },
  {
   "cell_type": "markdown",
   "metadata": {},
   "source": [
    "Let's test the routine by building a random matrix, choosing a solution, and constructing a system $AX=B$."
   ]
  },
  {
   "cell_type": "code",
   "execution_count": 10,
   "metadata": {},
   "outputs": [
    {
     "name": "stdout",
     "output_type": "stream",
     "text": [
      "[[1.]\n",
      " [1.]\n",
      " [1.]]\n"
     ]
    }
   ],
   "source": [
    "A = np.array([[1,2,3],[0,1,-2],[3,3,-2]])\n",
    "X_true = np.array([[1],[1],[1]])\n",
    "B = A@X_true\n",
    "X = SolveSystem(A,B)\n",
    "print(X)"
   ]
  },
  {
   "cell_type": "markdown",
   "metadata": {},
   "source": [
    "### Exercise, or further example?\n",
    "\n",
    "Modify $\\texttt{RowReduction}$ to compute rref and use the modified routine to solve the system.\n"
   ]
  },
  {
   "cell_type": "code",
   "execution_count": null,
   "metadata": {},
   "outputs": [],
   "source": []
  }
 ],
 "metadata": {
  "kernelspec": {
   "display_name": "Python 3",
   "language": "python",
   "name": "python3"
  },
  "language_info": {
   "codemirror_mode": {
    "name": "ipython",
    "version": 3
   },
   "file_extension": ".py",
   "mimetype": "text/x-python",
   "name": "python",
   "nbconvert_exporter": "python",
   "pygments_lexer": "ipython3",
   "version": "3.7.3"
  }
 },
 "nbformat": 4,
 "nbformat_minor": 4
}
