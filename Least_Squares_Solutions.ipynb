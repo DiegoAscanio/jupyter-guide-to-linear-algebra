{
 "cells": [
  {
   "cell_type": "markdown",
   "metadata": {},
   "source": [
    "## Least Squares Solutions"
   ]
  },
  {
   "cell_type": "markdown",
   "metadata": {},
   "source": [
    "In this section we address the problem of inconsistent systems, and the common resolution known as least squares solutions.\n",
    "\n",
    "\n",
    "Possible routes and associated ideas:\n",
    "- Given orthogonal complements of $\\mathbb{R}^n$ and a vector $V$, there is a unique decomposition of $V$. (Decomposition Theorem?)  This is really a theoretical statement that could come after LSS.  Perhaps we could add a section after LSS addressing projections in the abstract.\n",
    "\n",
    "- If $AX=B$ is inconsistent, we understand that $B$ is not in $\\mathcal{C}(A)$.  We could propose to solve $AX=\\hat{B}$, where $\\hat{B}$ is the projection of $B$ onto $\\mathcal{C}(A)$, but this requires that we explain that $\\hat{B}$ is the closest vector to $B$ that is in $\\mathcal{C}(A)$.  (Best Approximation Theorem?)  This approach does not provide any motivation, and further requires that we discuss projection onto subspaces, which should not be the emphasis of the section.\n",
    "\n",
    "- We could propose that if there is no $X$ for which $AX=B$, we could seek the vector $\\hat{X}$ that minimizes the error $E = A\\hat{X}-B$.  This could be solved with Calculus, or we could reason that $E$ is minimum when $\\hat{X}$ is the solution to $AX=\\hat{B}$.  \n",
    "\n",
    "- It turns out that the error is at its minimum exactly when it is orthogonal to $\\mathcal{C}(A)$ (Again, we need the Best Approximation result.)  We could thus require that $E$ is orthogonal to each column of $A$, or equivalently, that $E$ lie in $\\mathcal{N}(A)$.  This leads directly to the normal equations $A^TA=A^TB$. "
   ]
  },
  {
   "cell_type": "markdown",
   "metadata": {},
   "source": []
  },
  {
   "cell_type": "code",
   "execution_count": null,
   "metadata": {},
   "outputs": [],
   "source": []
  },
  {
   "cell_type": "code",
   "execution_count": null,
   "metadata": {},
   "outputs": [],
   "source": []
  }
 ],
 "metadata": {
  "kernelspec": {
   "display_name": "Python 3",
   "language": "python",
   "name": "python3"
  },
  "language_info": {
   "codemirror_mode": {
    "name": "ipython",
    "version": 3
   },
   "file_extension": ".py",
   "mimetype": "text/x-python",
   "name": "python",
   "nbconvert_exporter": "python",
   "pygments_lexer": "ipython3",
   "version": "3.7.3"
  }
 },
 "nbformat": 4,
 "nbformat_minor": 4
}
