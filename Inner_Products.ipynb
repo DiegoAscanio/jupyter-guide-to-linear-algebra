{
 "cells": [
  {
   "cell_type": "markdown",
   "metadata": {},
   "source": [
    "## Inner Products\n",
    "\n",
    "In this chapter, we introduce the idea of an inner product, examine the additional structure that it imposes on  a vector space, and look at some common applications.  An inner product is an operation on two vectors in a vector space that is defined in such a way as to satisfy certain algebraic requirements.  To begin, we will focus only on one specific inner product defined for vectors in  $\\mathbb{R}^n$.  Later in the chapter we will consider other examples in $\\mathbb{R}^n$ and other vector spaces.\n",
    "\n",
    "The **dot product** is the common inner product that we will focus on.  For vectors $U$ and $V$ in $\\mathbb{R}^n$, the dot product is written as $U\\cdot V$, and is defined in the following way.\n",
    "\n",
    "$$\n",
    "\\begin{equation}\n",
    "U\\cdot V = \\sum^n u_iv_i = u_1v_1 + u_2v_2 + ... + u_nv_n\n",
    "\\end{equation}\n",
    "$$\n",
    "\n",
    "For example, we show the computation for $U$ and $V$ in $\\mathbb{R}^4$.\n",
    "\n",
    "\n",
    "$$\n",
    "\\begin{equation}\n",
    "U = \\left[ \\begin{array}{r} 2 \\\\ -1 \\\\ 2 \\\\ 3 \\end{array}\\right] \\hspace{1cm} \n",
    "V = \\left[ \\begin{array}{r} 1 \\\\ 4 \\\\ 5 \\\\ 0  \\end{array}\\right] \n",
    "\\end{equation}\n",
    "$$\n",
    "\n",
    "\n",
    "$$\n",
    "\\begin{equation}\n",
    "U\\cdot V = (2)(1) + (-1)(4) + (2)(5) + (3)(0) = 8\n",
    "\\end{equation}\n",
    "$$\n",
    "\n",
    "It is also possible to write the definition of the dot product by viewing the vectors as $n\\times 1$ matrices, and making use of matrix transposes and multiplication.\n",
    "\n",
    "$$\n",
    "\\begin{equation}\n",
    "U\\cdot V = U^TV\n",
    "\\end{equation}\n",
    "$$\n",
    "\n",
    "Since $U$ is an $n\\times 1$ matrix, $U^T$ will be a $1\\times n$ matrix, and $U^TV$ will be a $1\\times 1$ matrix.  In other words $U^TV$ will be a scalar.  If we take this view, we will be able to compute inner products just the same as we would matrix products.\n"
   ]
  },
  {
   "cell_type": "code",
   "execution_count": 28,
   "metadata": {},
   "outputs": [
    {
     "name": "stdout",
     "output_type": "stream",
     "text": [
      "[[8]]\n"
     ]
    }
   ],
   "source": [
    "import numpy as np\n",
    "\n",
    "U = np.array([[2],[-1],[2],[3]])\n",
    "V = np.array([[1],[4],[5],[0]])\n",
    "\n",
    "dot_product = U.transpose()@V\n",
    "print(dot_product)"
   ]
  },
  {
   "cell_type": "markdown",
   "metadata": {},
   "source": [
    "Computing a dot product with this formula is correct we would not notice any difference in doing the calculation by hand.  There is however a slight technical inconvenience in using NumPy operations to apply this formula.  The output produced by the code ($\\texttt{dot_product}$) is not a true scalar, but in fact is another NumPy array object of size $1 \\times 1$.  This may have unintended consequences as we include this code in larger calculations.  We can keep this in mind and simply reference the value in the $1\\times 1$ array with indices if need be.      "
   ]
  },
  {
   "cell_type": "code",
   "execution_count": 19,
   "metadata": {},
   "outputs": [
    {
     "name": "stdout",
     "output_type": "stream",
     "text": [
      "8\n"
     ]
    }
   ],
   "source": [
    "print(dot_product[0,0])"
   ]
  },
  {
   "cell_type": "markdown",
   "metadata": {},
   "source": [
    "Another possibility solution is that we write our own function, called $\\texttt{DotProduct}$ to provide us the dot product in a simple format.  The following code is included in the $\\texttt{laguide}$ module for future use. "
   ]
  },
  {
   "cell_type": "code",
   "execution_count": 20,
   "metadata": {},
   "outputs": [],
   "source": [
    "def DotProduct(U,V):\n",
    "    # =============================================================================\n",
    "    # U and V are NumPy arrays that represents vectors of dimension n x 1.\n",
    "    # DotProduct returns the dot product of U and V\n",
    "    # =============================================================================\n",
    "\n",
    "    # Check shapes of U and V\n",
    "    if (U.shape[1] != 1 or V.shape[1] != 1):\n",
    "        print(\"Dot product only accepts column vectors.\")\n",
    "        return\n",
    "    # Check shape of V\n",
    "    if (U.shape[0] != V.shape[0]):\n",
    "        print(\"Dot product only accepts column vectors of equal length.\")\n",
    "        return\n",
    "\n",
    "    n = U.shape[0]\n",
    "    product = 0\n",
    "    \n",
    "    for i in range(n):\n",
    "        product += U[i,0]*V[i,0]\n",
    "\n",
    "    return product"
   ]
  },
  {
   "cell_type": "markdown",
   "metadata": {},
   "source": [
    "We can now call the function and receive a scalar as output."
   ]
  },
  {
   "cell_type": "code",
   "execution_count": 29,
   "metadata": {},
   "outputs": [
    {
     "name": "stdout",
     "output_type": "stream",
     "text": [
      "8\n"
     ]
    }
   ],
   "source": [
    "print(DotProduct(U,V))"
   ]
  },
  {
   "cell_type": "markdown",
   "metadata": {},
   "source": [
    "### Geometric Interpretations\n",
    "\n",
    "The dot product provides a way to measure distances and angles in $\\mathbb{R}^n$.  Again it is easiest to visualize these measures in $\\mathbb{R}^2$.\n",
    "\n",
    "The **magnitude** of a vector $U$, written as $||U||$, is defined as $\\left(U\\cdot U\\right)^{1/2}$.  In $\\mathbb{R}^2$ it is plain to see that this definition corresponds to the Pythagorean Theorem.\n",
    "\n"
   ]
  },
  {
   "cell_type": "code",
   "execution_count": 1,
   "metadata": {
    "tags": [
     "hide-input"
    ]
   },
   "outputs": [
    {
     "data": {
      "image/png": "[encoded data removed]",
      "text/plain": [
       "<Figure size 432x288 with 1 Axes>"
      ]
     },
     "metadata": {
      "needs_background": "light"
     },
     "output_type": "display_data"
    }
   ],
   "source": [
    "%matplotlib inline\n",
    "import numpy as np\n",
    "import matplotlib.pyplot as plt\n",
    "\n",
    "fig, ax = plt.subplots()\n",
    "options = {\"head_width\":0.1, \"head_length\":0.2, \"length_includes_head\":True}\n",
    "\n",
    "ax.arrow(0,0,2,3,fc='b',ec='b',**options)\n",
    "\n",
    "ax.text(1,2,'$U$')\n",
    "\n",
    "ax.set_xlim(0,5)\n",
    "ax.set_xlabel('$x_1$')\n",
    "ax.set_ylim(0,5)\n",
    "ax.set_ylabel('$x_2$')\n",
    "ax.set_aspect('equal')\n",
    "ax.grid(True,ls=':')"
   ]
  },
  {
   "cell_type": "markdown",
   "metadata": {},
   "source": [
    "$$\n",
    "\\begin{equation}\n",
    "U = \\left[ \\begin{array}{r} 2 \\\\ 3 \\end{array}\\right] \\hspace{2cm} \n",
    "||U|| = \\sqrt{(2)(2) + (3)(3)} = \\sqrt{13}\n",
    "\\end{equation}\n",
    "$$"
   ]
  },
  {
   "cell_type": "markdown",
   "metadata": {},
   "source": [
    "It is often useful to work with vectors that have magnitude equal to one.  Such vectors are called **unit vectors**.  We can construct a unit vector in the *same direction* as a vector $U$ by multiplying $U$ by the recipricol of its magnitude.  The unit vector in the direction of $U$ will be given the notation $\\hat{U}$."
   ]
  },
  {
   "cell_type": "code",
   "execution_count": 7,
   "metadata": {
    "tags": [
     "hide-input"
    ]
   },
   "outputs": [
    {
     "data": {
      "image/png": "[encoded data removed]",
      "text/plain": [
       "<Figure size 432x288 with 1 Axes>"
      ]
     },
     "metadata": {
      "needs_background": "light"
     },
     "output_type": "display_data"
    }
   ],
   "source": [
    "fig, ax = plt.subplots()\n",
    "options = {\"head_width\":0.1, \"head_length\":0.2, \"length_includes_head\":True}\n",
    "\n",
    "ax.arrow(0,0,2,3,fc='b',ec='b',**options)\n",
    "ax.arrow(0,0,0.555,0.832,fc='b',ec='r',**options)\n",
    "\n",
    "ax.text(1,2,'$U$')\n",
    "ax.text(0.5,0.3,'$\\hat{U}$')\n",
    "\n",
    "\n",
    "ax.set_xlim(0,5)\n",
    "ax.set_xlabel('$x_1$')\n",
    "ax.set_ylim(0,5)\n",
    "ax.set_ylabel('$x_2$')\n",
    "ax.set_aspect('equal')\n",
    "ax.grid(True,ls=':')"
   ]
  },
  {
   "cell_type": "markdown",
   "metadata": {},
   "source": [
    "$$\n",
    "\\begin{equation}\n",
    "\\hat{U} = \\frac{1}{\\sqrt{13}} \\left[ \\begin{array}{r} 2 \\\\ 3 \\end{array}\\right]\n",
    "\\end{equation}\n",
    "$$"
   ]
  },
  {
   "cell_type": "markdown",
   "metadata": {},
   "source": [
    "We can also use the definition of magnitude to define the distance between two vectors $U$ and $V$ as $|U-V|$, the magnitude of the difference.  If we picture the vectors as arrows, $U-V$ goes from the tip of $V$ to the tip of $U$.  This is consistent with our arrow picture of vector addition since $V + (U-V) = U$.   "
   ]
  },
  {
   "cell_type": "code",
   "execution_count": 7,
   "metadata": {
    "tags": [
     "hide-input"
    ]
   },
   "outputs": [
    {
     "data": {
      "image/png": "[encoded data removed]",
      "text/plain": [
       "<Figure size 432x288 with 1 Axes>"
      ]
     },
     "metadata": {
      "needs_background": "light"
     },
     "output_type": "display_data"
    }
   ],
   "source": [
    "fig, ax = plt.subplots()\n",
    "options = {\"head_width\":0.1, \"head_length\":0.2, \"length_includes_head\":True}\n",
    "\n",
    "ax.arrow(0,0,2,3,fc='b',ec='b',**options)\n",
    "ax.arrow(0,0,4,2,fc='b',ec='b',**options)\n",
    "ax.arrow(4,2,-2,1,fc='b',ec='r',**options)\n",
    "\n",
    "ax.text(1,2,'$U$')\n",
    "ax.text(3,1,'$V$')\n",
    "ax.text(3,2.8,'$U-V$')\n",
    "\n",
    "ax.set_xlim(0,5)\n",
    "ax.set_xlabel('$x_1$')\n",
    "ax.set_ylim(0,5)\n",
    "ax.set_ylabel('$x_2$')\n",
    "ax.set_aspect('equal')\n",
    "ax.grid(True,ls=':')"
   ]
  },
  {
   "cell_type": "markdown",
   "metadata": {},
   "source": [
    "With common identities from trigonometry, it is also possible to work out the angle between two vectors in terms of the dot product."
   ]
  },
  {
   "cell_type": "code",
   "execution_count": 9,
   "metadata": {},
   "outputs": [
    {
     "data": {
      "image/png": "[encoded data removed]",
      "text/plain": [
       "<Figure size 432x288 with 1 Axes>"
      ]
     },
     "metadata": {
      "needs_background": "light"
     },
     "output_type": "display_data"
    }
   ],
   "source": [
    "fig, ax = plt.subplots()\n",
    "options = {\"head_width\":0.1, \"head_length\":0.2, \"length_includes_head\":True}\n",
    "\n",
    "ax.arrow(0,0,2,3,fc='b',ec='b',**options)\n",
    "ax.arrow(0,0,4,2,fc='b',ec='b',**options)\n",
    "\n",
    "ax.text(1,2,'$U$')\n",
    "ax.text(3,1,'$V$')\n",
    "ax.text(1,1,'$\\\\theta$')\n",
    "\n",
    "ax.set_xlim(0,5)\n",
    "ax.set_xlabel('$x_1$')\n",
    "ax.set_ylim(0,5)\n",
    "ax.set_ylabel('$x_2$')\n",
    "ax.set_aspect('equal')\n",
    "ax.grid(True,ls=':')"
   ]
  },
  {
   "cell_type": "markdown",
   "metadata": {},
   "source": [
    "$$\n",
    "\\begin{equation}\n",
    "\\cos{\\theta} = \\frac{U\\cdot V}{|U||V|}\n",
    "\\end{equation}\n",
    "$$\n",
    "\n",
    "It is worth noting the special case that arises when the angle between $U$ and $V$ is a right angle.  In this case, since $\\cos{\\theta}$ will be zero, the dot product $U\\cdot V$ will also be zero.  When $U\\cdot V = 0$, the vectors $U$ and $V$  are said to be **orthogonal**.  In upcoming sections we will learn the importance of orthogonality, and how it can be used to simplify certain calculations "
   ]
  },
  {
   "cell_type": "markdown",
   "metadata": {},
   "source": [
    "### Algebraic Properties\n",
    "\n",
    "If $U$, $V$, and $W$ are any vectors in $\\mathbb{R}^n$, and $k$ is a scalar, then the following statements involving the dot product are true.\n",
    "\n",
    "1. $U\\cdot V = V\\cdot U$\n",
    "2. $U\\cdot(V + W) = U\\cdot V + U\\cdot W$\n",
    "3. $(kU)\\cdot V = k(U\\cdot V)$\n",
    "4. $U\\cdot U \\ge 0$\n",
    "\n",
    "These algebraic properties are not difficult to prove using the definition of the dot product, but they are important for carrying out calculations with unspecified vectors.  More importantly, it is these four properties that make the dot product an **inner product**.  We provide examples of other inner products later in the chapter. "
   ]
  },
  {
   "cell_type": "markdown",
   "metadata": {},
   "source": [
    "### Exercises"
   ]
  },
  {
   "cell_type": "code",
   "execution_count": null,
   "metadata": {},
   "outputs": [],
   "source": []
  }
 ],
 "metadata": {
  "kernelspec": {
   "display_name": "Python 3",
   "language": "python",
   "name": "python3"
  },
  "language_info": {
   "codemirror_mode": {
    "name": "ipython",
    "version": 3
   },
   "file_extension": ".py",
   "mimetype": "text/x-python",
   "name": "python",
   "nbconvert_exporter": "python",
   "pygments_lexer": "ipython3",
   "version": "3.7.3"
  }
 },
 "nbformat": 4,
 "nbformat_minor": 4
}
