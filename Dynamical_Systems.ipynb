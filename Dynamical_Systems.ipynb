{
 "cells": [
  {
   "cell_type": "markdown",
   "metadata": {},
   "source": [
    "### Discrete Dynamical Systems"
   ]
  },
  {
   "cell_type": "markdown",
   "metadata": {},
   "source": [
    "As we saw in the previous chapter, it is often useful to describe a structure that has multiple components with a single vector.  If that structure is changing in time due to some process, it is typical to refer to the vector as a **state vector** since it describes the *state* of the structure at some particular time.  It is quite common to model such dynamic processes at discrete times and use linear transformations to model the evolution of the state vector from one time to the next.\n",
    "\n",
    "Let's suppose that we aim to describe sequence of vectors at times $t=1, 2, 3,$... with state vectors $X_1$, $X_2$, $X_3$.... at those times.  We propose to calculate the state vector $X_t$ based only on the previous state vector $X_{t-1}$.  If we model the transition from $X_{t-1}$ to $X_t$ with a linear transformation, then there is a matrix such that $X_t = AX_{t-1}$.  This sort of model is known as a **discrete dynamical system** and is used in many areas from economics to biology."
   ]
  },
  {
   "cell_type": "markdown",
   "metadata": {},
   "source": [
    "### Infectious Disease Model\n",
    "\n",
    "In this example we consider a basic model of an infectious disease that is spreading within a population.  A well known family of models for this scenario is known as the $SIR$ models.  The acronym comes from a basic modeling assumption that the population is divided into three categories: Susceptible, Infectious, and Recovered.  As the disease, spreads a portion of the Susceptible individuals become Infectious, and a portion of Infectious individuals become Recovered.  We will consider a small variation in the model which assumes that a portion of Recovered individuals return to the Susceptible category.  This variation would be a more accurate model for a disease which can be contracted multiple times.\n",
    "\n",
    "We suppose that the population is completely homogeneous in all regards, so that all individuals in a given category have the same probabilities to move to the next category.\n",
    "\n",
    "To model real-world epidemics, it is necessary to estimate some parameters that specify how quickly individuals move among the categories.  These parameters will be important in making any predictions with the model.  For our demonstration, we will create an example.  Let us suppose that our state vectors describe the population at time intervals of 1 week, and that every week, 5% of the Susceptible population becomes Infectious, and 20% of the Infectious population becomes Recovered.  We also suppose that 15% of the Recovered population again becomes Susceptible every week.\n",
    "\n",
    "If we let $s_t$, $i_t$, and $r_t$ represent the three categories of the population at time $t$, we can write equations based on the modeling assumptions that allows us to calculate the values based on $s_{t-1}$, $i_{t-1}$, and $r_{t-1}$"
   ]
  },
  {
   "cell_type": "markdown",
   "metadata": {},
   "source": [
    "$$\n",
    "\\begin{eqnarray}\n",
    "s_t & = & 0.95s_{t-1} \\hspace{2cm} + 0.15r_{t-1} \\\\\n",
    "i_t & = & 0.05s_{t-1}  + 0.80i_{t-1} \\\\\n",
    "r_t & = & \\hspace{2cm} 0.20i_{t-1} + 0.85r_{t-1} \n",
    "\\end{eqnarray}\n",
    "$$\n",
    "\n",
    "If we now let $X_t$ be a vector with components $s_t$, $i_t$, and $r_t$, we can write the equations using matrix multiplication.\n",
    "\n",
    "$$\n",
    "\\begin{equation}\n",
    "X_t = \\left[ \\begin{array}{r} s_t \\\\ i_t \\\\ r_t  \\end{array}\\right] =\n",
    "\\left[ \\begin{array}{rrr} 0.95 & 0 & 0.15 \\\\ 0.05 & 0.80 & 0 \\\\ 0 & 0.20 & 0.85 \\end{array}\\right]\n",
    "\\left[ \\begin{array}{r} s_{t-1} \\\\ i_{t-1} \\\\ r_{t-1}  \\end{array}\\right]=\n",
    "AX_{t-1}\n",
    "\\end{equation}\n",
    "$$"
   ]
  },
  {
   "cell_type": "code",
   "execution_count": 2,
   "metadata": {},
   "outputs": [
    {
     "name": "stdout",
     "output_type": "stream",
     "text": [
      "[[0.63157895]\n",
      " [0.15789474]\n",
      " [0.21052632]] \n",
      "\n",
      "[[0.63157895]\n",
      " [0.15789474]\n",
      " [0.21052632]] \n",
      "\n",
      "[[0.63157895]\n",
      " [0.15789474]\n",
      " [0.21052632]] \n",
      "\n",
      "[[0.63157895]\n",
      " [0.15789474]\n",
      " [0.21052632]] \n",
      "\n",
      "[[0.63157895]\n",
      " [0.15789474]\n",
      " [0.21052632]] \n",
      "\n"
     ]
    }
   ],
   "source": [
    "import numpy as np\n",
    "X = np.array([[1],[0],[0]])\n",
    "A = np.array([[0.95, 0, 0.15],[0.05,0.8,0],[0,0.2,0.85]])\n",
    "\n",
    "for i in range(200):\n",
    "    X = A@X\n",
    "    \n",
    "\n",
    "for i in range(5):\n",
    "    print(X,'\\n')\n",
    "    X = A@X"
   ]
  },
  {
   "cell_type": "code",
   "execution_count": null,
   "metadata": {},
   "outputs": [],
   "source": []
  }
 ],
 "metadata": {
  "kernelspec": {
   "display_name": "Python 3",
   "language": "python",
   "name": "python3"
  },
  "language_info": {
   "codemirror_mode": {
    "name": "ipython",
    "version": 3
   },
   "file_extension": ".py",
   "mimetype": "text/x-python",
   "name": "python",
   "nbconvert_exporter": "python",
   "pygments_lexer": "ipython3",
   "version": "3.7.3"
  }
 },
 "nbformat": 4,
 "nbformat_minor": 4
}
