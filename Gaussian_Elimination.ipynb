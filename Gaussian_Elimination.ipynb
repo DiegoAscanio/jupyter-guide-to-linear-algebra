{
 "cells": [
  {
   "cell_type": "markdown",
   "metadata": {},
   "source": [
    "## Gaussian Elimination"
   ]
  },
  {
   "cell_type": "markdown",
   "metadata": {},
   "source": [
    "In this notebook we define some Python functions to help us solve linear systems in the most direct way.  The algorithm is known as Gaussian Elimination (LINK?), which we will simply call elimination from this point forward.  The idea of elimination is to exchange the system we are given with another system that has the same solution, but is much easier to solve.  To this end we will perform a series of steps called **row operations** which preserve the solution of the system while gradually making the solution more accessible.  There are three such operations we may perform.\n",
    "1. Exchange the position of two equations.\n",
    "2. Multiply an equation by any nonzero number.\n",
    "3. Replace any equation with the sum of itself and a multiple of another equation.\n",
    "\n"
   ]
  },
  {
   "cell_type": "markdown",
   "metadata": {},
   "source": [
    "### Example 1:  Row operations and elimination\n",
    "\n",
    "Let's look at an example.\n",
    "\n",
    "$$\n",
    "\\begin{eqnarray*}\n",
    "x_1 - x_2 + x_3 & = & 3\\\\\n",
    "2x_1 + x_2 + 8x_3 & = & 18\\\\\n",
    "4x_1 + 2x_2 -3x_3 & = & -2 \n",
    "\\end{eqnarray*}\n",
    "$$\n",
    "\n",
    "We could swap the first and last equation,\n",
    "\n",
    "$$\n",
    "\\begin{eqnarray*}\n",
    "4x_1 + 2x_2 -3x_3 & = & -2 \\\\\n",
    "2x_1 + x_2 + 8x_3 & = & 18\\\\\n",
    "x_1 - x_2 + x_3 & = & 3\n",
    "\\end{eqnarray*}\n",
    "$$\n",
    "\n",
    "or we could multiply the first equation by $5$,\n",
    "\n",
    "$$\n",
    "\\begin{eqnarray*}\n",
    "5x_1 - 5x_2 + 5x_3 & = & 15\\\\\n",
    "2x_1 + x_2 + 8x_3 & = & 18\\\\\n",
    "4x_1 + 2x_2 -3x_3 & = & -2 \n",
    "\\end{eqnarray*}\n",
    "$$\n",
    "\n",
    "or we could add 2 times the first equation to the last equation.\n",
    "\n",
    "\n",
    "$$\n",
    "\\begin{eqnarray*}\n",
    "x_1 - x_2 + x_3 & = & 3\\\\\n",
    "2x_1 + x_2 + 3x_3 & = & 8\\\\\n",
    "6x_1 \\quad\\quad -4x_3 & = & 4 \n",
    "\\end{eqnarray*}\n",
    "$$\n",
    "\n",
    "The last operation is the most important because it allows us to eliminate a variable from one of the equations.  Note that the third equation not longer contains $x_2$.  This is the key to elimination.\n",
    "\n",
    "For computational purposes we can dispense with the variable names and the \"=\" symbol, and arrange all of the actual numbers in an array.\n",
    "\n",
    "$$\n",
    "\\begin{equation}\n",
    "\\left[ \\begin{array}{cccc} 1 & -1 & 1 & 3 \\\\ 2 & 1 & 8 & 18 \\\\ 4 & 2 & -3 & -2 \\end{array}\\right]\n",
    "\\end{equation}\n",
    "$$\n",
    "\n",
    "Now let's build a NumPy array with these values.  We'll assign the array the name $\\texttt{A}$, so that we can refer to it later. "
   ]
  },
  {
   "cell_type": "code",
   "execution_count": 3,
   "metadata": {},
   "outputs": [],
   "source": [
    "import numpy as np\n",
    "A=np.array([[1,-1,1,3],[2,1,8,18],[4,2,-3,-2]],dtype='float64')"
   ]
  },
  {
   "cell_type": "markdown",
   "metadata": {},
   "source": [
    "We could dive in an start performing operations on our array, but instead we will first write a few bits of code that will do each of these operations individually.  We will tuck each operation inside a Python **function** so that we can use it again for future calculations."
   ]
  },
  {
   "cell_type": "code",
   "execution_count": 4,
   "metadata": {},
   "outputs": [],
   "source": [
    "def RowSwap(A,k,l):\n",
    "# =============================================================================\n",
    "#     A is a NumPy array.  RowSwap will return duplicate array with rows\n",
    "#     k and l swapped.\n",
    "# =============================================================================\n",
    "    m = A.shape[0]  # m is number of rows in A\n",
    "    n = A.shape[1]  # n is number of columns in A\n",
    "    \n",
    "    B = np.zeros((m,n))\n",
    "    for i in range(m):\n",
    "        for j in range(n):\n",
    "            B[i][j] = A[i][j]\n",
    "        \n",
    "    for j in range(n):\n",
    "        temp = B[k][j]\n",
    "        B[k][j] = B[l][j]\n",
    "        B[l][j] = temp\n",
    "        \n",
    "    return B\n",
    "\n",
    "def RowScale(A,k,scale):\n",
    "# =============================================================================\n",
    "#     A is a NumPy array.  ScaleRow will return duplicate array with the\n",
    "#     entries of row k multiplied by scale.\n",
    "# =============================================================================\n",
    "    m = A.shape[0]  # m is number of rows in A\n",
    "    n = A.shape[1]  # n is number of columns in A\n",
    "    \n",
    "    B = np.zeros((m,n))\n",
    "    for i in range(m):\n",
    "        for j in range(n):\n",
    "            B[i][j] = A[i][j]\n",
    "    for j in range(n):\n",
    "        B[k][j] *= scale\n",
    "        \n",
    "    return B\n",
    "\n",
    "def RowAdd(A,k,l,scale):\n",
    "# =============================================================================\n",
    "#     A is a numpy array.  RowSwap will return duplicate array with row\n",
    "#     l modifed.  The new values will be the old values of row l added to \n",
    "#     the values of row k, multiplied by scale.\n",
    "# =============================================================================\n",
    "    m = A.shape[0]  # m is number of rows in A\n",
    "    n = A.shape[1]  # n is number of columns in A\n",
    "    \n",
    "    B = np.zeros((m,n))\n",
    "    for i in range(m):\n",
    "        for j in range(n):\n",
    "            B[i][j] = A[i][j]\n",
    "        \n",
    "    for j in range(n):\n",
    "        B[l][j] += B[k][j]*scale\n",
    "        \n",
    "    return B\n",
    "    \n"
   ]
  },
  {
   "cell_type": "markdown",
   "metadata": {},
   "source": [
    "\n",
    "We now have three new functions called $\\texttt{RowSwap}$,$\\texttt{RowScale}$,and $\\texttt{RowAdd}$.  Let's try them out to see what they produce."
   ]
  },
  {
   "cell_type": "code",
   "execution_count": 5,
   "metadata": {},
   "outputs": [],
   "source": [
    "B1 = RowSwap(A,0,2)\n",
    "B2 = RowScale(A,2,0.5)\n",
    "B3 = RowAdd(A,0,1,2)"
   ]
  },
  {
   "cell_type": "code",
   "execution_count": 6,
   "metadata": {},
   "outputs": [
    {
     "name": "stdout",
     "output_type": "stream",
     "text": [
      "[[ 1. -1.  1.  3.]\n",
      " [ 2.  1.  8. 18.]\n",
      " [ 4.  2. -3. -2.]]\n",
      "\n",
      "\n",
      "[[ 1. -1.  1.  3.]\n",
      " [ 4. -1. 10. 24.]\n",
      " [ 4.  2. -3. -2.]]\n"
     ]
    }
   ],
   "source": [
    "print(A)\n",
    "print('\\n')\n",
    "print(B3)"
   ]
  },
  {
   "cell_type": "markdown",
   "metadata": {},
   "source": [
    "The goal of elimination is to perform row operations on this array in order to produce an array with a structure that looks something like this.\n",
    "\n",
    "$$\n",
    "\\begin{equation}\n",
    "\\left[ \\begin{array}{cccc} 1 & * & * & * \\\\ 0 & 1 & * & * \\\\ 0 & 0 & 1 & * \\end{array}\\right]\n",
    "\\end{equation}\n",
    "$$\n",
    "\n",
    "*(Note that the * symbols here represent different unknown values may or may not be 0 or 1.)*\n",
    "\n",
    "We will carry out the row operations and save our progress as arrays with new names  after each step.  For example, we might name them $\\texttt{A1}$, $\\texttt{A2}$, $\\texttt{A3}$, etc. This way we can check the progress, or go back and make changes to our code if we like.  "
   ]
  },
  {
   "cell_type": "code",
   "execution_count": 7,
   "metadata": {},
   "outputs": [
    {
     "name": "stdout",
     "output_type": "stream",
     "text": [
      "[[ 1. -1.  1.  3.]\n",
      " [ 0.  3.  6. 12.]\n",
      " [ 4.  2. -3. -2.]]\n",
      "[[  1.  -1.   1.   3.]\n",
      " [  0.   3.   6.  12.]\n",
      " [  0.   6.  -7. -14.]]\n",
      "[[  1.  -1.   1.   3.]\n",
      " [  0.   3.   6.  12.]\n",
      " [  0.   0. -19. -38.]]\n",
      "[[  1.  -1.   1.   3.]\n",
      " [  0.   1.   2.   4.]\n",
      " [  0.   0. -19. -38.]]\n",
      "[[ 1. -1.  1.  3.]\n",
      " [ 0.  1.  2.  4.]\n",
      " [-0. -0.  1.  2.]]\n"
     ]
    }
   ],
   "source": [
    "## Add -2 times row 0 to row 1\n",
    "A1 = RowAdd(A,0,1,-2)\n",
    "print(A1)\n",
    "\n",
    "## Add -4 times row 0 to row 2\n",
    "A2 = RowAdd(A1,0,2,-4)\n",
    "print(A2)\n",
    "\n",
    "## Add -2 times row 1 to row 2\n",
    "A3 = RowAdd(A2,1,2,-2)\n",
    "print(A3)\n",
    "\n",
    "## Multiply row 1 by 1/3\n",
    "A4 = RowScale(A3,1,1.0/3)\n",
    "print(A4)\n",
    "\n",
    "## Multiply row 2 by 1/19\n",
    "A5 = RowScale(A4,2,1.0/-19.)\n",
    "print(A5)"
   ]
  },
  {
   "cell_type": "markdown",
   "metadata": {},
   "source": [
    "Now let's translate this array back to the description of the system with all the symbols in place.\n",
    "\n",
    "$$\n",
    "\\begin{eqnarray*}\n",
    "x_1 - x_2 + x_3 & = & 3\\\\\n",
    "x_2 + 2x_3 & = & 4\\\\\n",
    "x_3 & = & 2 \n",
    "\\end{eqnarray*}\n",
    "$$\n",
    "\n",
    "After the steps of elimination, we have what is known as a triangular system.  The solution to this system can be found without much effort by working backwards from the last equation.  The last equation tells us that $x_3 = 2$.  If we substitute that value into the second equation, we find that $x_2 = 0$.  Finally, if we substitute these values back into the first equation, we find that $x_1 = 1.$  This process for finding the solution of the triangular system is called **back substitution**."
   ]
  },
  {
   "cell_type": "markdown",
   "metadata": {},
   "source": [
    "### Exercise:\n",
    "\n",
    "Repeat the elimination process for the following system.\n",
    "\n",
    "$$\n",
    "\\begin{eqnarray*}\n",
    "x_1 - x_2 + x_3 & = & 3\\\\\n",
    "2x_1 + x_2 + 8x_3 & = & 18\\\\\n",
    "4x_1 + 2x_2 -3x_3 & = & -2 \n",
    "\\end{eqnarray*}\n",
    "$$\n",
    "\n",
    "1. Define a NumPy array to contain the numbers.  Name it something other than $\\texttt{A}$, so that you don't confuse it with the example."
   ]
  },
  {
   "cell_type": "code",
   "execution_count": null,
   "metadata": {},
   "outputs": [],
   "source": []
  },
  {
   "cell_type": "markdown",
   "metadata": {},
   "source": [
    "2. Use the functions to carry out the row operations on your array.  Print the result to see that your code is successful."
   ]
  },
  {
   "cell_type": "code",
   "execution_count": null,
   "metadata": {},
   "outputs": [],
   "source": []
  },
  {
   "cell_type": "markdown",
   "metadata": {},
   "source": [
    "3. Write the final triangular system as a set of equations.  *(Copy the markdown code from above to get the format.)*\n"
   ]
  },
  {
   "cell_type": "markdown",
   "metadata": {},
   "source": []
  },
  {
   "cell_type": "markdown",
   "metadata": {},
   "source": [
    "### Exercise:  \n",
    "\n",
    "Starting from the array that represents the lower triangular system in example one ($\\texttt{A5}$), use the row operations to produce an array of the following form.\n",
    "\n",
    "$$\n",
    "\\begin{equation}\n",
    "\\left[ \\begin{array}{cccc} 1 & 0 & 0 & 1 \\\\ 0 & 1 & 0 & 0 \\\\ 0 & 0 & 1 & 2 \\end{array}\\right]\n",
    "\\end{equation}\n",
    "$$\n",
    "\n",
    "Do one step at a time and again print your results to check that you are successful."
   ]
  },
  {
   "cell_type": "code",
   "execution_count": null,
   "metadata": {},
   "outputs": [],
   "source": []
  },
  {
   "cell_type": "markdown",
   "metadata": {},
   "source": [
    "The array now represents a system in the simplest form possible.\n",
    "\n",
    "$$\n",
    "\\begin{eqnarray*}\n",
    "x_1 \\quad\\quad\\quad\\quad & = & 1\\\\\n",
    "x_2 \\quad\\quad & = & 0\\\\\n",
    "x_3 & = & 2 \n",
    "\\end{eqnarray*}\n",
    "$$"
   ]
  },
  {
   "cell_type": "markdown",
   "metadata": {},
   "source": [
    "### Example 2:  Elimination on a random array\n",
    "\n",
    "If a system of equations has a solution, the elimination algorithm will always result in a triangular system that can be solved by back substitution.  In this next example, we look at the calculation with a small change to see it in a more general way.  When we use the $\\texttt{RowAdd}$ function, we will set the *scale* parameter based on the values in the array.  \n",
    "\n",
    "To help us avoid writing the code based on the entries in any specific matrix, we will make up a matrix of random numbers using the module named [random](https://het.as.utexas.edu/HET/Software/Numpy/reference/routines.random.html) within NumPy."
   ]
  },
  {
   "cell_type": "code",
   "execution_count": 8,
   "metadata": {},
   "outputs": [
    {
     "name": "stdout",
     "output_type": "stream",
     "text": [
      "[[-8  7  0 -3]\n",
      " [ 5  1  3 -4]\n",
      " [-5  2 -6 -8]]\n"
     ]
    }
   ],
   "source": [
    "R = np.random.randint(-8,8,size=(3,4))\n",
    "print(R)"
   ]
  },
  {
   "cell_type": "code",
   "execution_count": 9,
   "metadata": {},
   "outputs": [
    {
     "name": "stdout",
     "output_type": "stream",
     "text": [
      "[[ 1.         -0.875      -0.          0.375     ]\n",
      " [ 0.          1.          0.55813953 -1.09302326]\n",
      " [-0.         -0.          1.          1.86567164]]\n"
     ]
    }
   ],
   "source": [
    "## Scale the first row based on the first element in that row.\n",
    "R1 = RowScale(R,0,1.0/R[0][0])\n",
    "## Add the first row to the second based on the first element in the second row.\n",
    "R2 = RowAdd(R1,0,1,-R[1][0])\n",
    "## Add the first row to the last based on the first element in the last row.\n",
    "R3 = RowAdd(R2,0,2,-R2[2][0])\n",
    "## Scale the second row based on the second element in that row.\n",
    "R4 = RowScale(R3,1,1.0/R3[1][1])\n",
    "## Add the second row to the last based on the second element in the last row.\n",
    "R5 = RowAdd(R4,1,2,-R4[2][1])\n",
    "## Scale the last row based on the last element in that row.\n",
    "R6 = RowScale(R5,2,1.0/R5[2][2])\n",
    "print(R6)"
   ]
  },
  {
   "cell_type": "markdown",
   "metadata": {},
   "source": [
    "Execute the code in the previous two cells several times.  Each time array $\\texttt{R}$ is created it will be populated with random integers between -8 and 8.  Does the code always produce a triangluar system ready for back substitution?  See if you can figure out which part of the process might fail, and why?"
   ]
  },
  {
   "cell_type": "markdown",
   "metadata": {},
   "source": [
    "### Example 3: Finding pivots\n",
    "\n",
    "As we can see, the code in the last example fails if a zero shows up as any of the entries in the array that we divide by.  The critical locations in the array are along the main diagonal, from top left to lower right, and are sometimes known as the pivot positions.  If a zero shows up in a pivot position during the elimination steps, we can try to exchange the order of the rows to move a nonzero entry into the pivot position.  Let's first try this for a specific array, and then try to modify the code to work for a random array.\n",
    "\n",
    "\n",
    "$$\n",
    "\\begin{eqnarray*}\n",
    "x_1 - x_2 + x_3 & = & 3\\\\\n",
    "2x_1 - 2x_2 + 4x_3 & = & 8\\\\\n",
    "3x_1 \\quad\\quad -9x_3 & = & 0 \n",
    "\\end{eqnarray*}\n",
    "$$\n"
   ]
  },
  {
   "cell_type": "code",
   "execution_count": 10,
   "metadata": {},
   "outputs": [
    {
     "name": "stdout",
     "output_type": "stream",
     "text": [
      "[[ 1. -1.  1.  3.]\n",
      " [ 2. -2.  4.  8.]\n",
      " [ 3.  0. -9.  0.]]\n"
     ]
    }
   ],
   "source": [
    "G=np.array([[1,-1,1,3],[2,-2,4,8],[3,0,-9,0]],dtype='float64')\n",
    "print(G)\n"
   ]
  },
  {
   "cell_type": "code",
   "execution_count": 11,
   "metadata": {},
   "outputs": [
    {
     "name": "stdout",
     "output_type": "stream",
     "text": [
      "[[  1.  -1.   1.   3.]\n",
      " [  0.   0.   2.   2.]\n",
      " [  0.   3. -12.  -9.]]\n"
     ]
    }
   ],
   "source": [
    "## Add -2 times row 0 to row 1\n",
    "G1 = RowAdd(G,0,1,-2)\n",
    "## Add -3 times row 0 to row 2\n",
    "G2 = RowAdd(G1,0,2,-3)\n",
    "print(G2)"
   ]
  },
  {
   "cell_type": "markdown",
   "metadata": {},
   "source": [
    "Now there is a zero in the middle pivot position.  We can swap the middle and last though in order to carry on the elimination"
   ]
  },
  {
   "cell_type": "code",
   "execution_count": 12,
   "metadata": {},
   "outputs": [
    {
     "name": "stdout",
     "output_type": "stream",
     "text": [
      "[[ 1. -1.  1.  3.]\n",
      " [ 0.  1. -4. -3.]\n",
      " [ 0.  0.  1.  1.]]\n"
     ]
    }
   ],
   "source": [
    "## Swap rows 1 and 2\n",
    "G3 = RowSwap(G2,1,2)\n",
    "## Scale the new row 1 by 1/3\n",
    "G4 = RowScale(G3,1,1./3)\n",
    "## Scale the new row 2 by 1/2\n",
    "G5 = RowScale(G4,2,1./2)\n",
    "print(G5)"
   ]
  },
  {
   "cell_type": "markdown",
   "metadata": {},
   "source": [
    "We right the system again as a familar set of equations.\n",
    "\n",
    "$$\n",
    "\\begin{eqnarray*}\n",
    "x_1 - x_2 + x_3 & = & 3\\\\\n",
    "x_2 - 4x_3 & = & -3\\\\\n",
    "x_3 & = & 1 \n",
    "\\end{eqnarray*}\n",
    "$$\n",
    "\n",
    "Applying back substitution, we find that $x_2 = 1$ and $x_1=3$.\n",
    "\n",
    "It is worth noting that the swapping of rows is only necessary as a matter of organization.  Here is another way that we could have done the elimination and ended up with a system that is just the same.\n"
   ]
  },
  {
   "cell_type": "code",
   "execution_count": 13,
   "metadata": {},
   "outputs": [
    {
     "name": "stdout",
     "output_type": "stream",
     "text": [
      "[[ 1. -1.  1.  3.]\n",
      " [ 0.  0.  1.  1.]\n",
      " [ 0.  1. -4. -3.]]\n"
     ]
    }
   ],
   "source": [
    "## Scale row 1 by 1/2\n",
    "G3_alternative = RowScale(G2,1,1./2)\n",
    "## Scale row 2 by 1/3\n",
    "G4_alternative = RowScale(G3_alternative,2,1./3)\n",
    "print(G4_alternative)"
   ]
  },
  {
   "cell_type": "markdown",
   "metadata": {},
   "source": [
    "The array produced represents the same simplified system, with the equations in a different order of course.\n",
    "\n",
    "$$\n",
    "\\begin{eqnarray*}\n",
    "x_1 - x_2 + x_3 & = & 3\\\\\n",
    "x_3 & = & 1 \\\\\n",
    "x_2 - 4x_3 & = & -3\n",
    "\\end{eqnarray*}\n",
    "$$\n",
    "\n",
    "Back substitution works just as well with this form of the system.  We should keep in mind that if we want to write code to perform the back substitution step, it will be more slightly more complicated if we don't order the rows in a systematic way."
   ]
  },
  {
   "cell_type": "code",
   "execution_count": null,
   "metadata": {},
   "outputs": [],
   "source": []
  },
  {
   "cell_type": "markdown",
   "metadata": {},
   "source": [
    "### Back Substitution routine\n",
    "\n",
    "Now that we see how substitution plays a role in solving linear systems, lets write a bit of code that does the job for us.  Again, we will put the code in a function so that we can use it again later.  For this function, lets suppose that we are given the upper triangular matrix $U$ and the known vector $Y$ and we want to find the vector $X$ so that $UX=Y$."
   ]
  },
  {
   "cell_type": "code",
   "execution_count": 14,
   "metadata": {},
   "outputs": [],
   "source": [
    "def BackSubstitution(U,Y):\n",
    "# =============================================================================\n",
    "#     U is a NumPy array that represents an upper triangular square mxm matrix.  \n",
    "#     Y is a NumPy array that represents an mx1 vector     \n",
    "#     BackSubstitution will return an mx1 vector that is the solution of the\n",
    "#     system UX=Y.\n",
    "# =============================================================================\n",
    "    m = U.shape[0]  # m is number of rows and columns in U\n",
    "    X = np.zeros((m,1))\n",
    "    \n",
    "    for i in range(m-1,-1,-1):  # Calculate entries backward from m-1 to 0\n",
    "        X[i] = Y[i]\n",
    "        for j in range(i+1,m):\n",
    "            X[i] -= U[i][j]*X[j]\n",
    "        X[i] /= U[i][i]\n",
    "    return X"
   ]
  },
  {
   "cell_type": "markdown",
   "metadata": {},
   "source": [
    "Lets test the function on problem. "
   ]
  },
  {
   "cell_type": "code",
   "execution_count": 16,
   "metadata": {},
   "outputs": [
    {
     "name": "stdout",
     "output_type": "stream",
     "text": [
      "[[ 23.3]\n",
      " [ -1. ]\n",
      " [-10. ]]\n"
     ]
    }
   ],
   "source": [
    "# Make up an upper triangular matrix.  Could we make a random upper triangular matrix here?  What could go wrong?\n",
    "U = np.array([[3,0,1],[0,1,-1],[0,0,-3]])  \n",
    "# Set the true solution so that we can check the result \n",
    "X_true = np.array([[23.3],[-1],[-10]])\n",
    "Y = U@X_true\n",
    "# Call the function.  It should produce the same array as X_true if it works correctly.\n",
    "X = BackSubstitution(U,Y)\n",
    "\n",
    "print(X)"
   ]
  },
  {
   "cell_type": "markdown",
   "metadata": {},
   "source": [
    "### Example 4:  Elimination fails\n",
    "\n",
    "As a last example, we look at a situation where elimination fails to find a solution to the system.  Let's make a small change to the system in the previous example and observe how the process can break down.\n",
    "\n",
    "$$\n",
    "\\begin{eqnarray*}\n",
    "x_1 - x_2 + x_3 & = & 3\\\\\n",
    "2x_1 - 2x_2 + 4x_3 & = & 8\\\\\n",
    "3x_1 -3x_2 -9x_3 & = & 0 \n",
    "\\end{eqnarray*}\n",
    "$$\n"
   ]
  },
  {
   "cell_type": "code",
   "execution_count": null,
   "metadata": {},
   "outputs": [],
   "source": []
  },
  {
   "cell_type": "code",
   "execution_count": null,
   "metadata": {},
   "outputs": [],
   "source": [
    "H=np.array([[1,-1,1,3],[2,-2,4,8],[3,-3,-9,0]],dtype='float64')\n",
    "print(H)"
   ]
  },
  {
   "cell_type": "code",
   "execution_count": null,
   "metadata": {},
   "outputs": [],
   "source": [
    "## Add -2 times row 0 to row 1\n",
    "H1 = RowAdd(H,0,1,-2)\n",
    "## Add -3 times row 0 to row 2\n",
    "H2 = RowAdd(H1,0,2,-3)\n",
    "print(H2)"
   ]
  },
  {
   "cell_type": "markdown",
   "metadata": {},
   "source": [
    "In this case exchanging the second and third rows does not help since both rows have a zero in the middle entry.  Let's scale the rows and look at the result"
   ]
  },
  {
   "cell_type": "code",
   "execution_count": null,
   "metadata": {},
   "outputs": [],
   "source": [
    "## Multiply row 1 by 1/2\n",
    "H3 = RowScale(H2,1,1./2)\n",
    "## Multiply row 2 by -1/12\n",
    "H4 = RowScale(H3,2,-1./12)\n",
    "print(H4)"
   ]
  },
  {
   "cell_type": "markdown",
   "metadata": {},
   "source": [
    "When we write out the equations, we see that this system is **inconsistent**.  The last two equations contradict each other.\n",
    "\n",
    "$$\n",
    "\\begin{eqnarray*}\n",
    "x_1 - x_2 + x_3 & = & 3\\\\\n",
    "x_3 & = & 1 \\\\\n",
    "x_3 & = & 0.75\n",
    "\\end{eqnarray*}\n",
    "$$\n",
    "\n",
    "Note that we did not make any errors in the calculation and that there is no way to reorder the equations to alleviate the problem.  This system simply does not have a solution.\n"
   ]
  },
  {
   "cell_type": "markdown",
   "metadata": {},
   "source": [
    "Notes to include:\n",
    "\n",
    "1. If we don't wish to save the steps of elimination, we can just overwrite the original array to make the code more clear.\n",
    "2. We could include a routine to do elimination on an arbitrary $m\\times n$ matrix without any row swaps or pivot strategy.\n",
    "3. There should be another exercise or two.  One easy task is to redo the example with the random module using random floats instead of random integers to see the effect.  A more advanced but interesting task is to run the elimination code on a large number of random arrays to see how frequently it fails."
   ]
  },
  {
   "cell_type": "markdown",
   "metadata": {},
   "source": [
    "_While working on the RowReduction function, I found the following matrix for which numerical elimination does not produce exactly zero, causing the output to be formatted in floating point form._"
   ]
  },
  {
   "cell_type": "code",
   "execution_count": null,
   "metadata": {},
   "outputs": [],
   "source": [
    "NumericalReductionExample=np.array([[2,9,11],[1,-1,5],[13,3,3]])"
   ]
  },
  {
   "cell_type": "code",
   "execution_count": null,
   "metadata": {},
   "outputs": [],
   "source": []
  }
 ],
 "metadata": {
  "kernelspec": {
   "display_name": "Python 3",
   "language": "python",
   "name": "python3"
  },
  "language_info": {
   "codemirror_mode": {
    "name": "ipython",
    "version": 3
   },
   "file_extension": ".py",
   "mimetype": "text/x-python",
   "name": "python",
   "nbconvert_exporter": "python",
   "pygments_lexer": "ipython3",
   "version": "3.7.3"
  }
 },
 "nbformat": 4,
 "nbformat_minor": 4
}
