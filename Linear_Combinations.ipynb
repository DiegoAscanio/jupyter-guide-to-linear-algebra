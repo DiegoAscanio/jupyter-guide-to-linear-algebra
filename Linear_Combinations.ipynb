{
 "cells": [
  {
   "cell_type": "markdown",
   "metadata": {},
   "source": [
    "## Linear Combinations"
   ]
  },
  {
   "cell_type": "markdown",
   "metadata": {},
   "source": [
    "At the core of many ideas in linear algebra is the concept of a **linear combination** of vectors.  To build a linear combination from a set of vectors $\\{V_1, V_2, V_3, ... V_n\\}$ we use the two algebraic operations of addition and scalar multiplication.  If we use the symbols $a_1, a_2, ..., a_n$ to represent the scalars, the linear combination looks like the following.\n",
    "\n",
    "$$\n",
    "\\begin{equation}\n",
    "a_1V_1 + a_2V_2 + a_3V_3 + .... + a_nV_n\n",
    "\\end{equation}\n",
    "$$\n",
    "\n",
    "The scalars $a_1, a_2, ..., a_n$ are sometimes called *weights*.\n",
    "\n",
    "Let's define a collection of vectors to give concrete examples.\n",
    "\n",
    "$$\n",
    "\\begin{equation}\n",
    "V_1 = \\left[ \\begin{array}{r} 2 \\\\ -2 \\\\ 1 \\end{array}\\right] \\hspace{1cm} \n",
    "V_2 = \\left[ \\begin{array}{r} 1 \\\\  0 \\\\ -1  \\end{array}\\right] \\hspace{1cm}\n",
    "V_3 = \\left[ \\begin{array}{r} 0 \\\\ -1 \\\\  6 \\end{array}\\right]\n",
    "\\end{equation}\n",
    "$$\n",
    "\n",
    "Now $3V_1 + 2V_2 +4V_3$, $V_1-V_2+V_3$, and $3V_2 -V_3$ are all linear combinations of the set of vectors $\\{V_1, V_2, V_3\\}$ and can be calculated explicitly if needed.\n",
    "\n",
    "$$\n",
    "\\begin{equation}\n",
    "3V_1+ 2V_2+ 4V_3 = 3\\left[ \\begin{array}{r} 2 \\\\ -2 \\\\ 1 \\end{array}\\right] \n",
    "+2 \\left[ \\begin{array}{r} 1 \\\\  0 \\\\ -1  \\end{array}\\right]\n",
    "+4 \\left[ \\begin{array}{r} 0 \\\\ -1 \\\\  6 \\end{array}\\right] = \n",
    "\\left[ \\begin{array}{r} 8 \\\\ -10 \\\\  25 \\end{array}\\right]\n",
    "\\end{equation}\n",
    "$$\n"
   ]
  },
  {
   "cell_type": "markdown",
   "metadata": {},
   "source": [
    "The algebra of vectors by be visualized by interpreting the vectors as arrows.  This is easiest to see in two dimensions.  \n",
    "\n",
    "$$\n",
    "\\begin{equation}\n",
    "U_1 = \\left[ \\begin{array}{r} 1 \\\\ 3  \\end{array}\\right] \\hspace{1cm} \n",
    "U_2 = \\left[ \\begin{array}{r} 2 \\\\  -1   \\end{array}\\right]\n",
    "\\end{equation}\n",
    "$$\n",
    "\n",
    "The vector $U_1$ can be visualized as an arrow that points in the direction defined by 1 unit to the right, and 3 units up.\n",
    "\n",
    "![vector_arrow](img/vector_arrow.png)"
   ]
  },
  {
   "cell_type": "markdown",
   "metadata": {},
   "source": [
    "It is important to understand that it is the *length and direction* of this arrow that defines $U_1$, not the actual position.  We could draw the arrow in any number of locations, and it would still represent $U_1$.\n",
    "\n",
    "![vector_arrow_displaced](img/vector_arrow_displaced.png)"
   ]
  },
  {
   "cell_type": "markdown",
   "metadata": {},
   "source": [
    "When we perform a scalar multiplication, such as $2U_1$, we interpret it as multiplying the *length of the arrow* by the scalar.\n",
    "\n",
    "![scaled_vector_arrow](img/scaled_vector_arrow.png)"
   ]
  },
  {
   "cell_type": "markdown",
   "metadata": {},
   "source": [
    "If the scalar is negative, we interpret the scalar multiplication as *reversing the direction* of the arrow, as well as changing the length.\n",
    "\n",
    "![negative_vector_arrow](img/negative_vector_arrow.png)"
   ]
  },
  {
   "cell_type": "markdown",
   "metadata": {},
   "source": [
    "We can interpret the sum of two vectors as the result of aligning the two arrows tip to tail.\n",
    "\n",
    "![addition_vector_arrow](img/addition_vector_arrow.png)\n",
    "\n",
    "$$\n",
    "\\begin{equation}\n",
    "\\left[ \\begin{array}{r} 1 \\\\ 3 \\end{array}\\right] \n",
    "+ \\left[ \\begin{array}{r} 2 \\\\ -1  \\end{array}\\right]= \n",
    "\\left[ \\begin{array}{r} 3 \\\\ 2\\end{array}\\right]\n",
    "\\end{equation}\n",
    "$$\n"
   ]
  },
  {
   "cell_type": "markdown",
   "metadata": {},
   "source": [
    "The concept of linear combinations of vectors can be used to reinterpret the problem of solving linear systems of equations.  Let's consider the following system.\n",
    "\n",
    "$$\n",
    "\\begin{eqnarray*}\n",
    "x_1 + 2x_2  & = & 0\\\\\n",
    "3x_1 - x_2  & = & 14 \\\\\n",
    "\\end{eqnarray*}\n",
    "$$\n",
    "\n",
    "We've already discussed how this system can be written using matrix multiplication.\n",
    "\n",
    "$$\n",
    "\\begin{equation}\n",
    "\\left[ \\begin{array}{cc} 1 & 2 \\\\ 3 & -1 \\end{array}\\right]\n",
    "\\left[ \\begin{array}{c} x_1 \\\\ x_2 \\end{array}\\right]=\n",
    "\\left[ \\begin{array}{c} 0 \\\\ 14 \\end{array}\\right]\n",
    "\\end{equation}\n",
    "$$\n",
    "\n",
    "We've also seen how this matrix equation could be repackaged as a vector equation.\n",
    "\n",
    "\n",
    "\n",
    "$$\n",
    "\\begin{equation}\n",
    "x_1\\left[ \\begin{array}{r} 1 \\\\ 3 \\end{array}\\right] +\n",
    "x_2\\left[ \\begin{array}{r} 2 \\\\ -1  \\end{array}\\right] =\n",
    "\\left[ \\begin{array}{r} 0 \\\\ 14  \\end{array}\\right]\n",
    "\\end{equation}\n",
    "$$\n",
    "\n",
    "The connection to linear combinations now becomes clear if we consider the columns of the coeffiecient matrix as vectors.  Finding the solution to the linear system of equations is equivalent to finding the *linear combination* of these vectors that matches the right hand side of the equation.  "
   ]
  },
  {
   "cell_type": "markdown",
   "metadata": {},
   "source": [
    "### Spans\n",
    "\n",
    "The next step is to introduce terminology to describe a collection of linear combinations.  The **span** of a set of vectors $\\{V_1, V_2, V_3, ... V_n\\}$ is the set of all possible linear combinations of those vectors.  For any coefficients $a_1, a_2, ..., a_n$, the vector $a_1V_1 + a_2V_2 + a_3V_3 + .... + a_nV_n$ is said to be *in the span of* $\\{V_1, V_2, V_3, ... V_n\\}$.  \n",
    "\n",
    "Given the direct connection between linear systems and linear combinations of vectors, we are often trying to determine if a given vector, say $B$, is a linear combination of some set of vectors $\\{V_1, V_2, V_3, ... V_n\\}$.  Equivalently we could say that we are trying to determine if $B$ is in the span of $\\{V_1, V_2, V_3, ... V_n\\}$.\n",
    "\n",
    "It is important to distinguish between the span of $\\{V_1, V_2, V_3, ... V_n\\}$ and the actual *set of vectors* $\\{V_1, V_2, V_3, ... V_n\\}$.  The set of vectors $\\{V_1, V_2, V_3, ... V_n\\}$ contains only the vectors themselves, while the span of $\\{V_1, V_2, V_3, ... V_n\\}$ contains every vector that can be built as a linear combination of these vectors.  If we were to visualize these objects, the set of vectors would be a collection of arrows, while the span would be a whole $n$-dimensional collection.  Again, it is easiest if we visualize an example in a two or three dimentions.\n",
    "\n",
    "<font color=red> Figures here for 2d subspace, or similar. </font>"
   ]
  },
  {
   "cell_type": "markdown",
   "metadata": {},
   "source": [
    "We can now apply our experience in solving systems to finding linear combinations.  Suppose we want to determine if $B$ lies in the span of $\\{V_1, V_2, V_3\\}$ given the following definitions.\n",
    "\n",
    "$$\n",
    "\\begin{equation}\n",
    "V_1 = \\left[ \\begin{array}{r} 2 \\\\ -1 \\\\ 0 \\\\ 3 \\end{array}\\right] \\hspace{1cm}\n",
    "V_2 = \\left[ \\begin{array}{r} 2 \\\\ 2 \\\\ 6 \\\\ -4  \\end{array}\\right] \\hspace{1cm} \n",
    "V_3 = \\left[ \\begin{array}{r} -1 \\\\ -1 \\\\ -1 \\\\ 0 \\end{array}\\right] \\hspace{1cm}\n",
    "B = \\left[ \\begin{array}{r}  4 \\\\ -2 \\\\ 4 \\\\ 2 \\end{array}\\right]\n",
    "\\end{equation}\n",
    "$$\n",
    "\n",
    "We need to determine if there are numbers $a_1$, $a_2$, and $a_3$ such that the following vector equation is true.\n",
    "\n",
    "$$\n",
    "\\begin{equation}\n",
    "a_1\\left[ \\begin{array}{r} 2 \\\\ -1 \\\\ 0 \\\\ 3 \\end{array}\\right]+\n",
    "a_2\\left[ \\begin{array}{r} 2 \\\\ 2 \\\\ 6 \\\\ -4  \\end{array}\\right] +\n",
    "a_3\\left[ \\begin{array}{r} -1 \\\\ -1 \\\\ -1 \\\\ 0 \\end{array}\\right] =\n",
    "\\left[ \\begin{array}{r}  4 \\\\ -2 \\\\ 4 \\\\ 2 \\end{array}\\right]\n",
    "\\end{equation}\n",
    "$$\n",
    "\n",
    "This vector equation is equivalent to determining the following linear system is consistent, meaning it has a solution.\n",
    "\n",
    "$$\n",
    "\\begin{eqnarray*}\n",
    "2a_1 + 2a_2 - a_3 & = & 4\\\\\n",
    "-a_1 + 2a_2 - a_3 & = & -2\\\\\n",
    "\\quad\\quad 6a_2 - a_3 & = & 4 \\\\\n",
    "3a_1 -4a_2 \\quad\\quad & = & 2\n",
    "\\end{eqnarray*}\n",
    "$$\n",
    "\n",
    "Instead of finding values for $a_1$, $a_2$, and $a_3$, we will only do the elimination part of the solution process to determine if the system is consistent.\n"
   ]
  },
  {
   "cell_type": "code",
   "execution_count": 2,
   "metadata": {},
   "outputs": [
    {
     "name": "stdout",
     "output_type": "stream",
     "text": [
      "[[ 1.   1.  -0.5  2. ]\n",
      " [ 0.   1.  -0.5  0. ]\n",
      " [ 0.   0.   1.   2. ]\n",
      " [ 0.   0.   0.   0. ]]\n"
     ]
    }
   ],
   "source": [
    "import numpy as np\n",
    "import laguide as lag\n",
    "\n",
    "A_augmented = np.array([[2,2,-1,4],[-1,2,-1,-2],[0,6,-1,4],[3,-4,0,2]])\n",
    "A_augmented_reduced = lag.RowReduction(A_augmented)\n",
    "print(A_augmented_reduced)"
   ]
  },
  {
   "cell_type": "markdown",
   "metadata": {},
   "source": [
    "Recall that the key row operation in the elimination process replaces one row with the sum of itself and the multiple of another row.  In other words, the rows can be replaced with a specific *linear combination* of rows.  The row of zeros in the reduced matrix indicates that one of the four equations in the original system was in fact a linear combination of the other equations.  (*We don't know for sure which equation was redundant since the rows might have been shuffled during elimination.*)  The remaining set of equations is triangluar and we can get the solution with back substitution as before ($a_1 = 2$, $a_2 = 1$, $a_3=2$).\n",
    "\n",
    "\n",
    "$$\n",
    "\\begin{eqnarray*}\n",
    "a_1 + a_2 - 0.5a_3 & = & 2\\\\\n",
    "a_2 - 0.5a_3 & = & 0\\\\\n",
    "a_3 & = & 2\n",
    "\\end{eqnarray*}\n",
    "$$\n",
    "\n"
   ]
  },
  {
   "cell_type": "markdown",
   "metadata": {},
   "source": [
    "As another example, let's determine if the vector given as $C$ is in the span of $\\{V_1, V_2, V_3\\}$.\n",
    "\n",
    "$$\n",
    "\\begin{equation}\n",
    "C = \\left[ \\begin{array}{r}  4 \\\\ -2 \\\\ 4 \\\\ 0 \\end{array}\\right]\n",
    "\\end{equation}\n",
    "$$\n",
    "\n",
    "Again, we need to determine if the associated linear system is consistent.\n",
    "\n",
    "$$\n",
    "\\begin{eqnarray*}\n",
    "2a_1 + 2a_2 - a_3 & = & 4\\\\\n",
    "-a_1 + 2a_2 - a_3 & = & -2\\\\\n",
    "\\quad\\quad 6a_2 - a_3 & = & 4 \\\\\n",
    "3a_1 -4a_2 \\quad\\quad & = & 0\n",
    "\\end{eqnarray*}\n",
    "$$\n"
   ]
  },
  {
   "cell_type": "code",
   "execution_count": 6,
   "metadata": {},
   "outputs": [
    {
     "name": "stdout",
     "output_type": "stream",
     "text": [
      "[[ 1.   1.  -0.5  2. ]\n",
      " [ 0.   1.  -0.5  0. ]\n",
      " [ 0.   0.   1.   2. ]\n",
      " [-0.  -0.  -0.   1. ]]\n"
     ]
    }
   ],
   "source": [
    "B_augmented = np.array([[2,2,-1,4],[-1,2,-1,-2],[0,6,-1,4],[3,-4,0,0]])\n",
    "\n",
    "B_reduced = lag.RowReduction(B_augmented)\n",
    "print(B_reduced)\n"
   ]
  },
  {
   "cell_type": "markdown",
   "metadata": {},
   "source": [
    "When we examine the system represented by the reduced matrix, we can see immediately that there are no values of $a_1$, $a_2$, $a_3$ that satisfy the last equation.\n",
    "\n",
    "\n",
    "$$\n",
    "\\begin{eqnarray*}\n",
    "a_1 + a_2 - 0.5a_3 & = & 2\\\\\n",
    "a_2 - 0.5a_3 & = & 0\\\\\n",
    "\\quad\\quad a_3 & = & 2 \\\\\n",
    "0 & = & 1\n",
    "\\end{eqnarray*}\n",
    "$$"
   ]
  },
  {
   "cell_type": "markdown",
   "metadata": {},
   "source": [
    "### Exercises\n",
    "\n",
    "\n",
    "$$\n",
    "\\begin{equation}\n",
    "W_1 = \\left[ \\begin{array}{r} 2 \\\\ 3 \\\\ -1 \\end{array}\\right] \\hspace{1cm}\n",
    "W_2 = \\left[ \\begin{array}{r} 3 \\\\ 0 \\\\ 1   \\end{array}\\right] \\hspace{1cm} \n",
    "W_3 = \\left[ \\begin{array}{r} 4 \\\\ -3 \\\\ 3 \\end{array}\\right] \\hspace{1cm}\n",
    "B = \\left[ \\begin{array}{r}  1 \\\\ 1 \\\\ 1  \\end{array}\\right] \\hspace{1cm}\n",
    "C = \\left[ \\begin{array}{r}  3 \\\\ 0 \\\\ 1  \\end{array}\\right]\n",
    "\\end{equation}\n",
    "$$\n",
    "\n",
    "1. Determine if $B$ is in the span of $\\{W_1, W_2, W_3\\}$.\n",
    "\n",
    "1. Determine if $C$ is in the span of $\\{W_1, W_2, W_3\\}$.\n",
    "\n",
    "2. Find a vector in the span of $\\{W_1, W_2, W_3\\}$ that has zero as its first entry.\n"
   ]
  },
  {
   "cell_type": "code",
   "execution_count": 10,
   "metadata": {},
   "outputs": [
    {
     "name": "stdout",
     "output_type": "stream",
     "text": [
      "[[ 1.   1.5  2.   1.5]\n",
      " [-0.   1.   2.   1. ]\n",
      " [ 0.   0.   0.   0. ]]\n"
     ]
    }
   ],
   "source": [
    "B_augmented = np.array([[2,3,4,3],[3,0,-3,0],[-1,1,3,1]])\n",
    "\n",
    "B_reduced = lag.RowReduction(B_augmented)\n",
    "print(B_reduced)\n"
   ]
  },
  {
   "cell_type": "markdown",
   "metadata": {},
   "source": [
    "### Spans and linear systems\n",
    "\n",
    "We can use the idea of span to make a connection to the general linear system $AX = B$.  Elaboarate on this and conclude that $AX=B$ is consistent only if $B$ is in the span of the columns of $A$."
   ]
  },
  {
   "cell_type": "code",
   "execution_count": null,
   "metadata": {},
   "outputs": [],
   "source": []
  }
 ],
 "metadata": {
  "kernelspec": {
   "display_name": "Python 3",
   "language": "python",
   "name": "python3"
  },
  "language_info": {
   "codemirror_mode": {
    "name": "ipython",
    "version": 3
   },
   "file_extension": ".py",
   "mimetype": "text/x-python",
   "name": "python",
   "nbconvert_exporter": "python",
   "pygments_lexer": "ipython3",
   "version": "3.7.3"
  }
 },
 "nbformat": 4,
 "nbformat_minor": 4
}
