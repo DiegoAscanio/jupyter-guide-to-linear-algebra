{
 "cells": [
  {
   "cell_type": "markdown",
   "metadata": {},
   "source": [
    "## Vector Spaces"
   ]
  },
  {
   "cell_type": "markdown",
   "metadata": {},
   "source": [
    "The sections in this chapter contain several concepts related to the the idea of a vector space.  The main objective of the chapter is to tie these ideas to linear systems.\n",
    "\n",
    "\n",
    "A **vector space** is a collection of objects, called vectors, together with definitions that allow for the addition of two vectors and the multiplication of a vector by a scalar.  These operations should produce other vectors in the collection and they should satisfy a list of algebraic requirements such as associativity, commutativity, etc.  Although we will not consider the implications of each requirement here, we provide the list here for reference.\n",
    "\n"
   ]
  },
  {
   "cell_type": "markdown",
   "metadata": {},
   "source": [
    "The most familar example of vector spaces are the collection of single column arrays that we have been referring to as \"vectors\" throughout the previous chapter.  The name given to the collection of all $n\\times 1$ arrays is $R^n$.  The required definitions of addition and scalar multiplication in $R^n$ are those described for matrices in [Matrix Algebra](Matrix_Algebra.ipynb).  We will leave it to the reader to verify that these operations satisfy the list of algebraic requirements listed above.  \n",
    "\n"
   ]
  },
  {
   "cell_type": "markdown",
   "metadata": {},
   "source": [
    "The algebra of vectors by be visualized by interpreting the vectors as arrows.  This is easiest to see with an example in $R^2$.  \n",
    "\n",
    "$$\n",
    "\\begin{equation}\n",
    "U_1 = \\left[ \\begin{array}{r} 1 \\\\ 3  \\end{array}\\right] \\hspace{1cm} \n",
    "U_2 = \\left[ \\begin{array}{r} 2 \\\\  -1   \\end{array}\\right]\n",
    "\\end{equation}\n",
    "$$\n",
    "\n",
    "The vector $U_1$ can be visualized as an arrow that points in the direction defined by 1 unit to the right, and 3 units up.\n",
    "\n",
    "![vector_arrow](img/vector_arrow.png)"
   ]
  },
  {
   "cell_type": "markdown",
   "metadata": {},
   "source": [
    "It is important to understand that it is the *length and direction* of this arrow that defines $U_1$, not the actual position.  We could draw the arrow in any number of locations, and it would still represent $U_1$.\n",
    "\n",
    "![vector_arrow_displaced](img/vector_arrow_displaced.png)"
   ]
  },
  {
   "cell_type": "markdown",
   "metadata": {},
   "source": [
    "When we perform a scalar multiplication, such as $2U_1$, we interpret it as multiplying the *length of the arrow* by the scalar.\n",
    "\n",
    "![scaled_vector_arrow](img/scaled_vector_arrow.png)"
   ]
  },
  {
   "cell_type": "markdown",
   "metadata": {},
   "source": [
    "If the scalar is negative, we interpret the scalar multiplication as *reversing the direction* of the arrow, as well as changing the length.\n",
    "\n",
    "![negative_vector_arrow](img/negative_vector_arrow.png)"
   ]
  },
  {
   "cell_type": "markdown",
   "metadata": {},
   "source": [
    "We can interpret the sum of two vectors as the result of aligning the two arrows tip to tail.\n",
    "\n",
    "![addition_vector_arrow](img/addition_vector_arrow.png)\n",
    "\n",
    "$$\n",
    "\\begin{equation}\n",
    "\\left[ \\begin{array}{r} 1 \\\\ 3 \\end{array}\\right] \n",
    "+ \\left[ \\begin{array}{r} 2 \\\\ -1  \\end{array}\\right]= \n",
    "\\left[ \\begin{array}{r} 3 \\\\ 2\\end{array}\\right]\n",
    "\\end{equation}\n",
    "$$\n"
   ]
  },
  {
   "cell_type": "markdown",
   "metadata": {},
   "source": [
    "There are many other examples of vector spaces, but we will wait to provide these until after we have discussed more of the fundamental vector space concepts using $R^n$ as our setting.\n"
   ]
  }
 ],
 "metadata": {
  "kernelspec": {
   "display_name": "Python 3",
   "language": "python",
   "name": "python3"
  },
  "language_info": {
   "codemirror_mode": {
    "name": "ipython",
    "version": 3
   },
   "file_extension": ".py",
   "mimetype": "text/x-python",
   "name": "python",
   "nbconvert_exporter": "python",
   "pygments_lexer": "ipython3",
   "version": "3.7.3"
  }
 },
 "nbformat": 4,
 "nbformat_minor": 4
}
