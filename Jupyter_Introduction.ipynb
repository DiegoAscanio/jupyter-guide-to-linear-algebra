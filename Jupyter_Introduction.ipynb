{
 "cells": [
  {
   "cell_type": "markdown",
   "metadata": {},
   "source": [
    "## Introduction to Jupyter and Python"
   ]
  },
  {
   "cell_type": "markdown",
   "metadata": {},
   "source": [
    "The purpose of this section is to provide enough instruction on the use of Jupyter and Python to successfully navigate and engage with the LA Guide.  There are vast resources available online for those that wish to learn more about these topics.  Some references are supplied at the end of the section. [Python](https://www.python.org/) is a very popular computer language for a wide range of applications, including scientific computing, and is known for being a language that is easy to learn for novice programers.  [Jupyter](https://jupyter.org/) is a web application that allows users to create and share documents called notebooks.  Jupyter notebooks can contain text, equations, and graphics, as well as live Python code with which the user can interact.  "
   ]
  },
  {
   "cell_type": "markdown",
   "metadata": {},
   "source": [
    "### Cells \n",
    "\n",
    "This LA Guide is made up of a number of Jupyter notebooks.  Each notebook consists of a number of cells.  Every cell is either a **markdown cell**, or a **code cell**.  The markdown cells mostly contain text and [LaTex] instructions.  When executed, these cells generate the all of the formatted text and formulas that you see as you read through the guide.  The code cells contain instructions, written in Python, to be executed by the notebook.  Code cells will not produce much visual output to the notebook unless they contain instructions to do so.    \n",
    "\n",
    "All cells in the notebooks, markdown and code, must be executed in order to produce output and results.  To execute a cell, select the cell and press 'Shift + Enter'.  You can select a cell by clicking it, or by moving up/down with the arrow keys.  In order to fully engage with the notebooks, you will also want to edit cells to change the outputs.  To change a cell you will have to enter **edit mode**.  When not in edit mode, the notebook is said to be in **command mode**.  \n",
    "\n",
    "**Important: Your keyboard will do different things depending on the mode.**  \n",
    "\n",
    "Let's see how to change modes right now, in this very cell.  When a cell is selected, there will be a colored bar on the left border of the cell.  The bar will be green in edit mode and blue in command mode.  To enter command mode we press 'Enter'.  To exit command mode without executing the cell we press 'Esc'.  To execute the cell press 'Shift + Enter'.  \n",
    "\n",
    "Try it!  Edit the line below to include your name.\n",
    "\n",
    "This copy of LA Guide belongs to ...\n",
    "\n",
    "\n",
    "\n",
    "Although all cells can be edited and executed, there are some distinctions in the two types of cells.\n",
    "\n",
    "- **All markdown cells are executed when you open the notebook, but code cells are not**.  This means that when you first open a notebook, the formatted text and formulas produced by the markdown cells will be displayed.  Clicking on the markdown cells will not do anything other than select the cell, and pressing 'Shift + Enter' will not display anything new since the output is already displayed.  By contrast, **any output from the code cells will not be displayed until you run the cells**.\n",
    "- If there is anything amiss in a markdown cell, the displayed text or formula may not look right.  If there is anything amiss in the code cell, an error will be displayed.  These errors might be difficult to decipher at first, but with a little practice you will soon be able to understand the common errors that arise.\n",
    "\n"
   ]
  },
  {
   "cell_type": "markdown",
   "metadata": {},
   "source": [
    "### Common Python tasks"
   ]
  },
  {
   "cell_type": "markdown",
   "metadata": {},
   "source": [
    "#### Calculations, variable assignments, and printing\n",
    "\n",
    "The first thing we might try is the use of code cells as a calculator.  Indeed this works in a straightforward way.  Run the cell below to see how it works.  Experiment with the input to see how to enter various operations.  (Note that you can get exponents by using the \\*\\* operator.)  "
   ]
  },
  {
   "cell_type": "code",
   "execution_count": 1,
   "metadata": {},
   "outputs": [
    {
     "data": {
      "text/plain": [
       "71.39999999999999"
      ]
     },
     "execution_count": 1,
     "metadata": {},
     "output_type": "execute_result"
    }
   ],
   "source": [
    "42*1.7"
   ]
  },
  {
   "cell_type": "markdown",
   "metadata": {},
   "source": [
    "\n",
    "The next thing to learn is how to assign names to numbers and other objects.  For this task we use a command like $\\texttt{b=32/5}$.  This code computes the value of $\\texttt{32/5}$, then stores the result in a variable named $\\texttt{b}$."
   ]
  },
  {
   "cell_type": "code",
   "execution_count": 2,
   "metadata": {},
   "outputs": [],
   "source": [
    "b = 32/5"
   ]
  },
  {
   "cell_type": "markdown",
   "metadata": {},
   "source": [
    "Since the result was stored, the actual value of $\\texttt{b}$ is not displayed as ouput from the code cell.  Indeed, nothing is displayed when the cell is executed.  Typically, when we want to display the results of a computation, we have to use a command called $\\texttt{print}$."
   ]
  },
  {
   "cell_type": "code",
   "execution_count": 2,
   "metadata": {},
   "outputs": [
    {
     "name": "stdout",
     "output_type": "stream",
     "text": [
      "6.4\n"
     ]
    }
   ],
   "source": [
    "b=32/5\n",
    "print(b)"
   ]
  },
  {
   "cell_type": "markdown",
   "metadata": {},
   "source": [
    "Often we will want to print text along with numerical results.  The text to be printed must be placed in quotes.  It is also possible to provide multiple items to the $\\texttt{print}$ command by separating them with commas."
   ]
  },
  {
   "cell_type": "code",
   "execution_count": 3,
   "metadata": {},
   "outputs": [
    {
     "name": "stdout",
     "output_type": "stream",
     "text": [
      "The calculation is complete.\n",
      "The result of the calculation 32/5 is  6.4\n"
     ]
    }
   ],
   "source": [
    "print(\"The calculation is complete.\")\n",
    "print(\"The result of the calculation 32/5 is \",b)"
   ]
  },
  {
   "cell_type": "markdown",
   "metadata": {},
   "source": [
    "The text within the quotes is a Python object known as a string.  We could assign the string a name as well if we plan to reuse it.  Python offers many powerful ways to manipulate and process strings, but we will only be using strings to display informative messages about our numerical results.  "
   ]
  },
  {
   "cell_type": "code",
   "execution_count": 9,
   "metadata": {},
   "outputs": [
    {
     "name": "stdout",
     "output_type": "stream",
     "text": [
      "The result of the calculation is  6.4\n",
      "The result of the calculation is  236.8\n"
     ]
    }
   ],
   "source": [
    "result_message = \"The result of the calculation is \"\n",
    "print(result_message,b)\n",
    "print(result_message,b*37)"
   ]
  },
  {
   "cell_type": "markdown",
   "metadata": {},
   "source": [
    "#### Functions\n",
    "\n",
    "Quite often we write a bit of code that we would like to reuse.  Maybe it was tricky to figure out, or just tedious to type, and we want to save time and effort by making use of the code we've already written.  We could just copy and paste code from here to there, but that quickly becomes a chore too as the amount of code we write grows.  \n",
    "\n",
    "One simple way to reuse code is to define a **function**.  We can think of a function as a new command that will carry out whatever instructions we put inside it.  Sometimes we will find it useful to provide the function with information in order for it to do its job.  Other times we might ask that the function return some information to us when it has finished its job.  Let's look at a couple of examples.\n",
    "\n",
    "In the first example, we won't exchange information with the function, we will just ask it to display a message.  To define a function we use the command $\\texttt{def}$.  We then list any instructions that we want the function to carry out.  The $\\texttt{def}$ command must end with a colon (:), and the instructions that are part of the function **must be indented** with a 'Tab' key. "
   ]
  },
  {
   "cell_type": "code",
   "execution_count": 12,
   "metadata": {},
   "outputs": [],
   "source": [
    "def InchConversionFactor():\n",
    "    print(\"There are 2.54 centimeters in 1 inch.\")"
   ]
  },
  {
   "cell_type": "markdown",
   "metadata": {},
   "source": [
    "Note that when we execute the cell, the message is not printed.  This statement only defines the function.  In order to execute the commands in the function, we have to call it."
   ]
  },
  {
   "cell_type": "code",
   "execution_count": 14,
   "metadata": {},
   "outputs": [
    {
     "name": "stdout",
     "output_type": "stream",
     "text": [
      "There are 2.54 centimeters in 1 inch.\n"
     ]
    }
   ],
   "source": [
    "InchConversionFactor()"
   ]
  },
  {
   "cell_type": "markdown",
   "metadata": {},
   "source": [
    "When we call the function, we need to include the parentheses () as part of the call.  In this example the parentheses are empty because we are not passing any information to the function.  Let's write another function that allows us to provide it with a measurement in inches, and have it print out the measurement in centimeters."
   ]
  },
  {
   "cell_type": "code",
   "execution_count": 22,
   "metadata": {},
   "outputs": [],
   "source": [
    "def cm_to_in_conversion(inches):\n",
    "    cm = inches*2.54\n",
    "    print(\"There are\",cm,\"centimeters in\",inches,\"inches.\")  "
   ]
  },
  {
   "cell_type": "markdown",
   "metadata": {},
   "source": [
    "Again, nothing actually happens until we call the function.  This time when we call though, we will need to provide a numer that the function will interpret as the variable $\\texttt{inches}$.  The objects that we pass into functions are known as **arguments**."
   ]
  },
  {
   "cell_type": "code",
   "execution_count": 23,
   "metadata": {},
   "outputs": [
    {
     "name": "stdout",
     "output_type": "stream",
     "text": [
      "There are 5.842 centimeters in 2.3 inches.\n"
     ]
    }
   ],
   "source": [
    "cm_to_in_conversion(2.3)"
   ]
  },
  {
   "cell_type": "markdown",
   "metadata": {},
   "source": [
    "Finally, the last example we provide will the function with the measurement in centimeters, and it will *return to us* the measurement in centimeters without printing anything."
   ]
  },
  {
   "cell_type": "code",
   "execution_count": 18,
   "metadata": {},
   "outputs": [],
   "source": [
    "def return_cm_to_in_conversion(inches):\n",
    "    cm = inches*2.54\n",
    "    return cm"
   ]
  },
  {
   "cell_type": "markdown",
   "metadata": {},
   "source": [
    "And again we must call the function to carry out the code.\n"
   ]
  },
  {
   "cell_type": "code",
   "execution_count": 21,
   "metadata": {},
   "outputs": [
    {
     "name": "stdout",
     "output_type": "stream",
     "text": [
      "Our result is 5.842\n"
     ]
    }
   ],
   "source": [
    "result = return_cm_to_in_conversion(2.3)\n",
    "print(\"Our result is\",result)"
   ]
  },
  {
   "cell_type": "markdown",
   "metadata": {},
   "source": [
    "#### Conditional statements\n",
    "\n",
    "Explain $\\texttt{if}$ and $\\texttt{else}$.  Give example "
   ]
  },
  {
   "cell_type": "markdown",
   "metadata": {},
   "source": [
    "#### Iterations\n",
    "\n",
    "Brief and limitted explanation of $\\texttt{for}$ and $\\texttt{while}$.  Give relevant example."
   ]
  },
  {
   "cell_type": "code",
   "execution_count": null,
   "metadata": {},
   "outputs": [],
   "source": []
  },
  {
   "cell_type": "markdown",
   "metadata": {},
   "source": [
    "#### Comments\n",
    "\n",
    "Often it is useful to include some plain text inside the code cell to help provide a description or explanation.  Such text is called a comment.  Comments are not interpreted by Python, so we can write anything we like to help us document the code.  There are two ways to accomplish this.\n",
    "\n",
    "1. Any portion of a line that follows the $\\texttt{#}$ symbol is ignored by the interpretor.\n"
   ]
  },
  {
   "cell_type": "code",
   "execution_count": 4,
   "metadata": {},
   "outputs": [
    {
     "name": "stdout",
     "output_type": "stream",
     "text": [
      "The square of 142 is 20164\n"
     ]
    }
   ],
   "source": [
    "a = 142\n",
    "c = a**2  # c is the square of a\n",
    "print(\"The square of\",a,\"is\",c)"
   ]
  },
  {
   "cell_type": "markdown",
   "metadata": {},
   "source": [
    "2. Any portion of the code cell within triple quotes is ignored."
   ]
  },
  {
   "cell_type": "code",
   "execution_count": 5,
   "metadata": {},
   "outputs": [
    {
     "name": "stdout",
     "output_type": "stream",
     "text": [
      "The square of 142 is 20164\n"
     ]
    }
   ],
   "source": [
    "''' \n",
    "We can write \n",
    "several lines\n",
    "worth of comments to explain\n",
    "the purpose of the code\n",
    "'''\n",
    "a = 142\n",
    "c = a**2  # c is the square of a\n",
    "print(\"The square of\",a,\"is\",c)"
   ]
  },
  {
   "cell_type": "markdown",
   "metadata": {},
   "source": [
    "The important point here is that the previous two cells do exactly the same thing.  The comments have no effect on the calculation or the output.  The following cell with no comments does exactly the same thing as well."
   ]
  },
  {
   "cell_type": "code",
   "execution_count": 6,
   "metadata": {},
   "outputs": [
    {
     "name": "stdout",
     "output_type": "stream",
     "text": [
      "The square of 142 is 20164\n"
     ]
    }
   ],
   "source": [
    "a = 142\n",
    "c = a**2\n",
    "print(\"The square of\",a,\"is\",c)"
   ]
  },
  {
   "cell_type": "markdown",
   "metadata": {},
   "source": [
    "#### Importing\n",
    "\n",
    "The core of the Python language does not contain all the functionality that we will need for linear algebra.  In order to access more tools we will **import** some Python modules.  For example, some basic functions that you might find on a scientific calculator are not part of the Python language, but are included in the math module.  A simple way to import this module is with the code $\\texttt{import math}$.  The cell below shows some examples of how we might use the module."
   ]
  },
  {
   "cell_type": "code",
   "execution_count": null,
   "metadata": {},
   "outputs": [],
   "source": []
  },
  {
   "cell_type": "code",
   "execution_count": 7,
   "metadata": {},
   "outputs": [
    {
     "name": "stdout",
     "output_type": "stream",
     "text": [
      "The square root of 2 is approximately 1.4142135623730951\n",
      "Pi is approximately 3.141592653589793\n",
      "The cosine of pi/10 is approximately 0.9510565162951535\n"
     ]
    }
   ],
   "source": [
    "import math\n",
    "s = math.sqrt(2)\n",
    "print(\"The square root of 2 is approximately\",s)\n",
    "PI = math.pi\n",
    "print(\"Pi is approximately\", PI)\n",
    "print(\"The cosine of pi/10 is approximately\",math.cos(PI/10))"
   ]
  },
  {
   "cell_type": "markdown",
   "metadata": {},
   "source": [
    "Note that when we use the square root function, we actullay need to type $\\texttt{math.sqrt}$ instead of just $\\texttt{sqrt}$.  This is because the square root function actually lives in the math module, and is not in the basic set of Python commands."
   ]
  },
  {
   "cell_type": "markdown",
   "metadata": {},
   "source": [
    "#### NumPy\n",
    "\n",
    "Almost every calculation that we do in linear algebra will involve working with arrays of numbers.  An array can be thought of as a collection of numbers arranged into rows and columns to form a rectangle, such as the example below, which has 2 rows and 4 columns.\n",
    "\n",
    "\n",
    "$$\n",
    "\\begin{equation}\n",
    "\\left[ \\begin{array}{rrrr} 5 & -1 & 1 & 0 \\\\ 4 & 3 & 12 & -6 \\end{array}\\right]\n",
    "\\end{equation}\n",
    "$$\n",
    "\n",
    "Although it is possible to represent arrays using the basic objects, we will make use of a package called NumPy to work with our arrays.  NumPy has a convenient way to represent arrays and has many built-in tools for processing them.  Let's dive right in and create some arrays.  Just as with the math module, we have to first import NumPy before we can use it.  This time we will use the code $\\texttt{import numpy as np}$, which imports the module but gives it a different name that is a little more convenient to type. \n",
    "\n",
    "The easiest way to create the array above is to use the $\\texttt{array}$ function, and provide it a list of all the array entries specific format.  The row entries are separated by commas and enclosed in square brackets \\[\\], then all the rows listed together, separated by commas, and enclosed in another set of square brackets.   "
   ]
  },
  {
   "cell_type": "code",
   "execution_count": 5,
   "metadata": {},
   "outputs": [
    {
     "name": "stdout",
     "output_type": "stream",
     "text": [
      "[[ 5 -1  1  0]\n",
      " [ 4  3 12 -6]]\n"
     ]
    }
   ],
   "source": [
    "import numpy as np\n",
    "\n",
    "A = np.array([[5, -1, 1, 0],[4, 3, 12, -6]])\n",
    "print(A)"
   ]
  },
  {
   "cell_type": "markdown",
   "metadata": {},
   "source": [
    "Another way to create the array we want is to first make an array that is one long row, and then use the $\\texttt{reshape}$ function. "
   ]
  },
  {
   "cell_type": "code",
   "execution_count": 10,
   "metadata": {},
   "outputs": [
    {
     "name": "stdout",
     "output_type": "stream",
     "text": [
      "This is B before reshaping.\n",
      "[ 5 -1  1  0  4  3 12 -6]\n",
      "This is C, which is the entries of B formed into a new shape.\n",
      "[[ 5 -1  1  0]\n",
      " [ 4  3 12 -6]]\n"
     ]
    }
   ],
   "source": [
    "B = np.array([5, -1, 1, 0, 4, 3, 12, -6])\n",
    "print(\"This is B before reshaping.\")\n",
    "print(B)\n",
    "\n",
    "C = B.reshape((2,4))\n",
    "print(\"This is C, which is the entries of B formed into a new shape.\")\n",
    "print(C)"
   ]
  },
  {
   "cell_type": "markdown",
   "metadata": {},
   "source": [
    "### Common Python error messages"
   ]
  },
  {
   "cell_type": "code",
   "execution_count": null,
   "metadata": {},
   "outputs": [],
   "source": []
  },
  {
   "cell_type": "markdown",
   "metadata": {},
   "source": [
    "One typical error is something called a **Name Error**.  This error gets displayed when Python doesn't recognize a command or variable in the code.  Run the following cell to see an example."
   ]
  },
  {
   "cell_type": "code",
   "execution_count": 8,
   "metadata": {},
   "outputs": [
    {
     "ename": "NameError",
     "evalue": "name 'resutl' is not defined",
     "output_type": "error",
     "traceback": [
      "\u001b[1;31m---------------------------------------------------------------------------\u001b[0m",
      "\u001b[1;31mNameError\u001b[0m                                 Traceback (most recent call last)",
      "\u001b[1;32m<ipython-input-8-88c2e85c5fc1>\u001b[0m in \u001b[0;36m<module>\u001b[1;34m\u001b[0m\n\u001b[0;32m      1\u001b[0m \u001b[0mresult\u001b[0m \u001b[1;33m=\u001b[0m \u001b[1;36m128\u001b[0m\u001b[1;33m*\u001b[0m\u001b[1;36m17\u001b[0m\u001b[1;33m\u001b[0m\u001b[1;33m\u001b[0m\u001b[0m\n\u001b[1;32m----> 2\u001b[1;33m \u001b[0mprint\u001b[0m\u001b[1;33m(\u001b[0m\u001b[0mresutl\u001b[0m\u001b[1;33m)\u001b[0m\u001b[1;33m\u001b[0m\u001b[1;33m\u001b[0m\u001b[0m\n\u001b[0m",
      "\u001b[1;31mNameError\u001b[0m: name 'resutl' is not defined"
     ]
    }
   ],
   "source": [
    "result = 128*17\n",
    "print(resutl)"
   ]
  },
  {
   "cell_type": "markdown",
   "metadata": {},
   "source": [
    "We made a typo in the name of the variable name and the Python interpreter doesn't reconize the variable it is instructed to print.  This same error will arise if you try to use the $\\texttt{result}$ in another calculation.\n"
   ]
  },
  {
   "cell_type": "code",
   "execution_count": null,
   "metadata": {},
   "outputs": [],
   "source": [
    "result = 128*17\n",
    "next_result = resutl / 10"
   ]
  },
  {
   "cell_type": "markdown",
   "metadata": {},
   "source": [
    "There are other common ways to receive the Name Error.\n",
    "\n",
    "1. If we begin working on a notebook somewhere in the middle, then that means all of the code cells at the start did not get executed.  If one of the cells we are working on references a variable from an earlier cell, we will get the Name Error.\n",
    "2. If we try to use function from a module, but forget to actually import the module, we will get the Name Error."
   ]
  },
  {
   "cell_type": "code",
   "execution_count": null,
   "metadata": {},
   "outputs": [],
   "source": []
  }
 ],
 "metadata": {
  "kernelspec": {
   "display_name": "Python 3",
   "language": "python",
   "name": "python3"
  },
  "language_info": {
   "codemirror_mode": {
    "name": "ipython",
    "version": 3
   },
   "file_extension": ".py",
   "mimetype": "text/x-python",
   "name": "python",
   "nbconvert_exporter": "python",
   "pygments_lexer": "ipython3",
   "version": "3.7.3"
  }
 },
 "nbformat": 4,
 "nbformat_minor": 4
}
